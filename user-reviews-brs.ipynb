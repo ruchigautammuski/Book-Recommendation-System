{
 "cells": [
  {
   "cell_type": "code",
   "execution_count": 1,
   "id": "80cc4347",
   "metadata": {
    "_cell_guid": "b1076dfc-b9ad-4769-8c92-a6c4dae69d19",
    "_uuid": "8f2839f25d086af736a60e9eeb907d3b93b6e0e5",
    "execution": {
     "iopub.execute_input": "2023-03-30T04:09:22.288629Z",
     "iopub.status.busy": "2023-03-30T04:09:22.287290Z",
     "iopub.status.idle": "2023-03-30T04:09:22.308031Z",
     "shell.execute_reply": "2023-03-30T04:09:22.307011Z"
    },
    "papermill": {
     "duration": 0.034623,
     "end_time": "2023-03-30T04:09:22.310923",
     "exception": false,
     "start_time": "2023-03-30T04:09:22.276300",
     "status": "completed"
    },
    "tags": []
   },
   "outputs": [
    {
     "name": "stdout",
     "output_type": "stream",
     "text": [
      "/kaggle/input/amazon-books-reviews/books_data.csv\n",
      "/kaggle/input/amazon-books-reviews/Books_rating.csv\n"
     ]
    }
   ],
   "source": [
    "# This Python 3 environment comes with many helpful analytics libraries installed\n",
    "# It is defined by the kaggle/python Docker image: https://github.com/kaggle/docker-python\n",
    "# For example, here's several helpful packages to load\n",
    "\n",
    "import numpy as np # linear algebra\n",
    "import pandas as pd # data processing, CSV file I/O (e.g. pd.read_csv)\n",
    "\n",
    "# Input data files are available in the read-only \"../input/\" directory\n",
    "# For example, running this (by clicking run or pressing Shift+Enter) will list all files under the input directory\n",
    "\n",
    "import os\n",
    "for dirname, _, filenames in os.walk('/kaggle/input'):\n",
    "    for filename in filenames:\n",
    "        print(os.path.join(dirname, filename))\n",
    "\n",
    "# You can write up to 20GB to the current directory (/kaggle/working/) that gets preserved as output when you create a version using \"Save & Run All\" \n",
    "# You can also write temporary files to /kaggle/temp/, but they won't be saved outside of the current session"
   ]
  },
  {
   "cell_type": "code",
   "execution_count": 2,
   "id": "72fbe3c2",
   "metadata": {
    "execution": {
     "iopub.execute_input": "2023-03-30T04:09:22.328669Z",
     "iopub.status.busy": "2023-03-30T04:09:22.327912Z",
     "iopub.status.idle": "2023-03-30T04:10:33.738106Z",
     "shell.execute_reply": "2023-03-30T04:10:33.737071Z"
    },
    "papermill": {
     "duration": 71.422245,
     "end_time": "2023-03-30T04:10:33.741125",
     "exception": false,
     "start_time": "2023-03-30T04:09:22.318880",
     "status": "completed"
    },
    "tags": []
   },
   "outputs": [],
   "source": [
    "ratings = pd.read_csv('/kaggle/input/amazon-books-reviews/Books_rating.csv')"
   ]
  },
  {
   "cell_type": "code",
   "execution_count": 3,
   "id": "2b72864f",
   "metadata": {
    "execution": {
     "iopub.execute_input": "2023-03-30T04:10:33.758797Z",
     "iopub.status.busy": "2023-03-30T04:10:33.757722Z",
     "iopub.status.idle": "2023-03-30T04:10:33.800947Z",
     "shell.execute_reply": "2023-03-30T04:10:33.798962Z"
    },
    "papermill": {
     "duration": 0.056335,
     "end_time": "2023-03-30T04:10:33.805070",
     "exception": false,
     "start_time": "2023-03-30T04:10:33.748735",
     "status": "completed"
    },
    "tags": []
   },
   "outputs": [
    {
     "data": {
      "text/html": [
       "<div>\n",
       "<style scoped>\n",
       "    .dataframe tbody tr th:only-of-type {\n",
       "        vertical-align: middle;\n",
       "    }\n",
       "\n",
       "    .dataframe tbody tr th {\n",
       "        vertical-align: top;\n",
       "    }\n",
       "\n",
       "    .dataframe thead th {\n",
       "        text-align: right;\n",
       "    }\n",
       "</style>\n",
       "<table border=\"1\" class=\"dataframe\">\n",
       "  <thead>\n",
       "    <tr style=\"text-align: right;\">\n",
       "      <th></th>\n",
       "      <th>Id</th>\n",
       "      <th>Title</th>\n",
       "      <th>Price</th>\n",
       "      <th>User_id</th>\n",
       "      <th>profileName</th>\n",
       "      <th>review/helpfulness</th>\n",
       "      <th>review/score</th>\n",
       "      <th>review/time</th>\n",
       "      <th>review/summary</th>\n",
       "      <th>review/text</th>\n",
       "    </tr>\n",
       "  </thead>\n",
       "  <tbody>\n",
       "    <tr>\n",
       "      <th>0</th>\n",
       "      <td>1882931173</td>\n",
       "      <td>Its Only Art If Its Well Hung!</td>\n",
       "      <td>NaN</td>\n",
       "      <td>AVCGYZL8FQQTD</td>\n",
       "      <td>Jim of Oz \"jim-of-oz\"</td>\n",
       "      <td>7/7</td>\n",
       "      <td>4.0</td>\n",
       "      <td>940636800</td>\n",
       "      <td>Nice collection of Julie Strain images</td>\n",
       "      <td>This is only for Julie Strain fans. It's a col...</td>\n",
       "    </tr>\n",
       "    <tr>\n",
       "      <th>1</th>\n",
       "      <td>0826414346</td>\n",
       "      <td>Dr. Seuss: American Icon</td>\n",
       "      <td>NaN</td>\n",
       "      <td>A30TK6U7DNS82R</td>\n",
       "      <td>Kevin Killian</td>\n",
       "      <td>10/10</td>\n",
       "      <td>5.0</td>\n",
       "      <td>1095724800</td>\n",
       "      <td>Really Enjoyed It</td>\n",
       "      <td>I don't care much for Dr. Seuss but after read...</td>\n",
       "    </tr>\n",
       "  </tbody>\n",
       "</table>\n",
       "</div>"
      ],
      "text/plain": [
       "           Id                           Title  Price         User_id  \\\n",
       "0  1882931173  Its Only Art If Its Well Hung!    NaN   AVCGYZL8FQQTD   \n",
       "1  0826414346        Dr. Seuss: American Icon    NaN  A30TK6U7DNS82R   \n",
       "\n",
       "             profileName review/helpfulness  review/score  review/time  \\\n",
       "0  Jim of Oz \"jim-of-oz\"                7/7           4.0    940636800   \n",
       "1          Kevin Killian              10/10           5.0   1095724800   \n",
       "\n",
       "                           review/summary  \\\n",
       "0  Nice collection of Julie Strain images   \n",
       "1                       Really Enjoyed It   \n",
       "\n",
       "                                         review/text  \n",
       "0  This is only for Julie Strain fans. It's a col...  \n",
       "1  I don't care much for Dr. Seuss but after read...  "
      ]
     },
     "execution_count": 3,
     "metadata": {},
     "output_type": "execute_result"
    }
   ],
   "source": [
    "ratings.head(2)"
   ]
  },
  {
   "cell_type": "code",
   "execution_count": 4,
   "id": "8cd1896d",
   "metadata": {
    "execution": {
     "iopub.execute_input": "2023-03-30T04:10:33.829909Z",
     "iopub.status.busy": "2023-03-30T04:10:33.828032Z",
     "iopub.status.idle": "2023-03-30T04:10:34.036384Z",
     "shell.execute_reply": "2023-03-30T04:10:34.034763Z"
    },
    "papermill": {
     "duration": 0.222781,
     "end_time": "2023-03-30T04:10:34.039418",
     "exception": false,
     "start_time": "2023-03-30T04:10:33.816637",
     "status": "completed"
    },
    "tags": []
   },
   "outputs": [],
   "source": [
    "ratings = ratings[['Id','User_id','review/score','Title','review/text']]"
   ]
  },
  {
   "cell_type": "code",
   "execution_count": 5,
   "id": "583e67d1",
   "metadata": {
    "execution": {
     "iopub.execute_input": "2023-03-30T04:10:34.058055Z",
     "iopub.status.busy": "2023-03-30T04:10:34.057111Z",
     "iopub.status.idle": "2023-03-30T04:10:34.065125Z",
     "shell.execute_reply": "2023-03-30T04:10:34.063782Z"
    },
    "papermill": {
     "duration": 0.021001,
     "end_time": "2023-03-30T04:10:34.068725",
     "exception": false,
     "start_time": "2023-03-30T04:10:34.047724",
     "status": "completed"
    },
    "tags": []
   },
   "outputs": [],
   "source": [
    "ratings.rename(columns={'Id':'book_id','User_id':'user_id','review/score':'rating','Title':'title','review/text':'review'},inplace=True)"
   ]
  },
  {
   "cell_type": "code",
   "execution_count": 6,
   "id": "fddccfd7",
   "metadata": {
    "execution": {
     "iopub.execute_input": "2023-03-30T04:10:34.087249Z",
     "iopub.status.busy": "2023-03-30T04:10:34.086085Z",
     "iopub.status.idle": "2023-03-30T04:10:34.100515Z",
     "shell.execute_reply": "2023-03-30T04:10:34.099260Z"
    },
    "papermill": {
     "duration": 0.026947,
     "end_time": "2023-03-30T04:10:34.103594",
     "exception": false,
     "start_time": "2023-03-30T04:10:34.076647",
     "status": "completed"
    },
    "tags": []
   },
   "outputs": [
    {
     "data": {
      "text/html": [
       "<div>\n",
       "<style scoped>\n",
       "    .dataframe tbody tr th:only-of-type {\n",
       "        vertical-align: middle;\n",
       "    }\n",
       "\n",
       "    .dataframe tbody tr th {\n",
       "        vertical-align: top;\n",
       "    }\n",
       "\n",
       "    .dataframe thead th {\n",
       "        text-align: right;\n",
       "    }\n",
       "</style>\n",
       "<table border=\"1\" class=\"dataframe\">\n",
       "  <thead>\n",
       "    <tr style=\"text-align: right;\">\n",
       "      <th></th>\n",
       "      <th>book_id</th>\n",
       "      <th>user_id</th>\n",
       "      <th>rating</th>\n",
       "      <th>title</th>\n",
       "      <th>review</th>\n",
       "    </tr>\n",
       "  </thead>\n",
       "  <tbody>\n",
       "    <tr>\n",
       "      <th>0</th>\n",
       "      <td>1882931173</td>\n",
       "      <td>AVCGYZL8FQQTD</td>\n",
       "      <td>4.0</td>\n",
       "      <td>Its Only Art If Its Well Hung!</td>\n",
       "      <td>This is only for Julie Strain fans. It's a col...</td>\n",
       "    </tr>\n",
       "    <tr>\n",
       "      <th>1</th>\n",
       "      <td>0826414346</td>\n",
       "      <td>A30TK6U7DNS82R</td>\n",
       "      <td>5.0</td>\n",
       "      <td>Dr. Seuss: American Icon</td>\n",
       "      <td>I don't care much for Dr. Seuss but after read...</td>\n",
       "    </tr>\n",
       "    <tr>\n",
       "      <th>2</th>\n",
       "      <td>0826414346</td>\n",
       "      <td>A3UH4UZ4RSVO82</td>\n",
       "      <td>5.0</td>\n",
       "      <td>Dr. Seuss: American Icon</td>\n",
       "      <td>If people become the books they read and if \"t...</td>\n",
       "    </tr>\n",
       "    <tr>\n",
       "      <th>3</th>\n",
       "      <td>0826414346</td>\n",
       "      <td>A2MVUWT453QH61</td>\n",
       "      <td>4.0</td>\n",
       "      <td>Dr. Seuss: American Icon</td>\n",
       "      <td>Theodore Seuss Geisel (1904-1991), aka &amp;quot;D...</td>\n",
       "    </tr>\n",
       "    <tr>\n",
       "      <th>4</th>\n",
       "      <td>0826414346</td>\n",
       "      <td>A22X4XUPKF66MR</td>\n",
       "      <td>4.0</td>\n",
       "      <td>Dr. Seuss: American Icon</td>\n",
       "      <td>Philip Nel - Dr. Seuss: American IconThis is b...</td>\n",
       "    </tr>\n",
       "  </tbody>\n",
       "</table>\n",
       "</div>"
      ],
      "text/plain": [
       "      book_id         user_id  rating                           title  \\\n",
       "0  1882931173   AVCGYZL8FQQTD     4.0  Its Only Art If Its Well Hung!   \n",
       "1  0826414346  A30TK6U7DNS82R     5.0        Dr. Seuss: American Icon   \n",
       "2  0826414346  A3UH4UZ4RSVO82     5.0        Dr. Seuss: American Icon   \n",
       "3  0826414346  A2MVUWT453QH61     4.0        Dr. Seuss: American Icon   \n",
       "4  0826414346  A22X4XUPKF66MR     4.0        Dr. Seuss: American Icon   \n",
       "\n",
       "                                              review  \n",
       "0  This is only for Julie Strain fans. It's a col...  \n",
       "1  I don't care much for Dr. Seuss but after read...  \n",
       "2  If people become the books they read and if \"t...  \n",
       "3  Theodore Seuss Geisel (1904-1991), aka &quot;D...  \n",
       "4  Philip Nel - Dr. Seuss: American IconThis is b...  "
      ]
     },
     "execution_count": 6,
     "metadata": {},
     "output_type": "execute_result"
    }
   ],
   "source": [
    "ratings.head()"
   ]
  },
  {
   "cell_type": "code",
   "execution_count": 7,
   "id": "6e068a89",
   "metadata": {
    "execution": {
     "iopub.execute_input": "2023-03-30T04:10:34.122856Z",
     "iopub.status.busy": "2023-03-30T04:10:34.122040Z",
     "iopub.status.idle": "2023-03-30T04:10:38.614756Z",
     "shell.execute_reply": "2023-03-30T04:10:38.613620Z"
    },
    "papermill": {
     "duration": 4.505995,
     "end_time": "2023-03-30T04:10:38.617633",
     "exception": false,
     "start_time": "2023-03-30T04:10:34.111638",
     "status": "completed"
    },
    "tags": []
   },
   "outputs": [],
   "source": [
    "x = ratings.groupby('user_id').count()['rating'] > 200\n",
    "considerable_users = x[x].index"
   ]
  },
  {
   "cell_type": "code",
   "execution_count": 8,
   "id": "36d94447",
   "metadata": {
    "execution": {
     "iopub.execute_input": "2023-03-30T04:10:38.636551Z",
     "iopub.status.busy": "2023-03-30T04:10:38.635800Z",
     "iopub.status.idle": "2023-03-30T04:10:38.924176Z",
     "shell.execute_reply": "2023-03-30T04:10:38.922896Z"
    },
    "papermill": {
     "duration": 0.300892,
     "end_time": "2023-03-30T04:10:38.927056",
     "exception": false,
     "start_time": "2023-03-30T04:10:38.626164",
     "status": "completed"
    },
    "tags": []
   },
   "outputs": [],
   "source": [
    "filtered_rating = ratings[ratings['user_id'].isin(considerable_users)]"
   ]
  },
  {
   "cell_type": "code",
   "execution_count": 9,
   "id": "e72dccdc",
   "metadata": {
    "execution": {
     "iopub.execute_input": "2023-03-30T04:10:38.946267Z",
     "iopub.status.busy": "2023-03-30T04:10:38.945564Z",
     "iopub.status.idle": "2023-03-30T04:10:38.963420Z",
     "shell.execute_reply": "2023-03-30T04:10:38.961935Z"
    },
    "papermill": {
     "duration": 0.030389,
     "end_time": "2023-03-30T04:10:38.966351",
     "exception": false,
     "start_time": "2023-03-30T04:10:38.935962",
     "status": "completed"
    },
    "tags": []
   },
   "outputs": [
    {
     "data": {
      "text/html": [
       "<div>\n",
       "<style scoped>\n",
       "    .dataframe tbody tr th:only-of-type {\n",
       "        vertical-align: middle;\n",
       "    }\n",
       "\n",
       "    .dataframe tbody tr th {\n",
       "        vertical-align: top;\n",
       "    }\n",
       "\n",
       "    .dataframe thead th {\n",
       "        text-align: right;\n",
       "    }\n",
       "</style>\n",
       "<table border=\"1\" class=\"dataframe\">\n",
       "  <thead>\n",
       "    <tr style=\"text-align: right;\">\n",
       "      <th></th>\n",
       "      <th>book_id</th>\n",
       "      <th>user_id</th>\n",
       "      <th>rating</th>\n",
       "      <th>title</th>\n",
       "      <th>review</th>\n",
       "    </tr>\n",
       "  </thead>\n",
       "  <tbody>\n",
       "    <tr>\n",
       "      <th>1</th>\n",
       "      <td>0826414346</td>\n",
       "      <td>A30TK6U7DNS82R</td>\n",
       "      <td>5.0</td>\n",
       "      <td>Dr. Seuss: American Icon</td>\n",
       "      <td>I don't care much for Dr. Seuss but after read...</td>\n",
       "    </tr>\n",
       "    <tr>\n",
       "      <th>6</th>\n",
       "      <td>0826414346</td>\n",
       "      <td>A14OJS0VWMOSWO</td>\n",
       "      <td>5.0</td>\n",
       "      <td>Dr. Seuss: American Icon</td>\n",
       "      <td>Theodor Seuss Giesel was best known as 'Dr. Se...</td>\n",
       "    </tr>\n",
       "    <tr>\n",
       "      <th>59</th>\n",
       "      <td>0963923080</td>\n",
       "      <td>A3NIQK6ZLYEP1L</td>\n",
       "      <td>4.0</td>\n",
       "      <td>Rising Sons and Daughters: Life Among Japan's ...</td>\n",
       "      <td>Steven Wardell went to Japan without reading a...</td>\n",
       "    </tr>\n",
       "    <tr>\n",
       "      <th>140</th>\n",
       "      <td>0789480662</td>\n",
       "      <td>A281NPSIMI1C2R</td>\n",
       "      <td>5.0</td>\n",
       "      <td>Eyewitness Travel Guide to Europe</td>\n",
       "      <td>Yes, this is one heavy book. It is more than l...</td>\n",
       "    </tr>\n",
       "    <tr>\n",
       "      <th>176</th>\n",
       "      <td>1884734766</td>\n",
       "      <td>A14OJS0VWMOSWO</td>\n",
       "      <td>5.0</td>\n",
       "      <td>Dealing With Disappointment: Helping Kids Cope...</td>\n",
       "      <td>Written by Elizabeth Crary (a parent educator ...</td>\n",
       "    </tr>\n",
       "    <tr>\n",
       "      <th>...</th>\n",
       "      <td>...</td>\n",
       "      <td>...</td>\n",
       "      <td>...</td>\n",
       "      <td>...</td>\n",
       "      <td>...</td>\n",
       "    </tr>\n",
       "    <tr>\n",
       "      <th>2999935</th>\n",
       "      <td>0786182431</td>\n",
       "      <td>A2CR57GAJKNWVV</td>\n",
       "      <td>4.0</td>\n",
       "      <td>Very Bad Deaths: Library Edition</td>\n",
       "      <td>Russell Walker wants to be left alone to die--...</td>\n",
       "    </tr>\n",
       "    <tr>\n",
       "      <th>2999937</th>\n",
       "      <td>0786182431</td>\n",
       "      <td>A1I2O9Y3X3HXLS</td>\n",
       "      <td>5.0</td>\n",
       "      <td>Very Bad Deaths: Library Edition</td>\n",
       "      <td>Very Bad Deaths (2004) is the first SF novel i...</td>\n",
       "    </tr>\n",
       "    <tr>\n",
       "      <th>2999949</th>\n",
       "      <td>0786182431</td>\n",
       "      <td>AFVQZQ8PW0L</td>\n",
       "      <td>5.0</td>\n",
       "      <td>Very Bad Deaths: Library Edition</td>\n",
       "      <td>Fiftyish Canadian Russell Walker writes \"The F...</td>\n",
       "    </tr>\n",
       "    <tr>\n",
       "      <th>2999960</th>\n",
       "      <td>0679417052</td>\n",
       "      <td>A9Q28YTLYREO7</td>\n",
       "      <td>5.0</td>\n",
       "      <td>My Life</td>\n",
       "      <td>Magic without a doubt is Something Special.He ...</td>\n",
       "    </tr>\n",
       "    <tr>\n",
       "      <th>2999979</th>\n",
       "      <td>B00085PL4C</td>\n",
       "      <td>A32ZKBXJJ45BRY</td>\n",
       "      <td>3.0</td>\n",
       "      <td>Old Quebec,: The fortress of New France,</td>\n",
       "      <td>\"Old Quebec: Fortress Of New France\" is a repr...</td>\n",
       "    </tr>\n",
       "  </tbody>\n",
       "</table>\n",
       "<p>134882 rows × 5 columns</p>\n",
       "</div>"
      ],
      "text/plain": [
       "            book_id         user_id  rating  \\\n",
       "1        0826414346  A30TK6U7DNS82R     5.0   \n",
       "6        0826414346  A14OJS0VWMOSWO     5.0   \n",
       "59       0963923080  A3NIQK6ZLYEP1L     4.0   \n",
       "140      0789480662  A281NPSIMI1C2R     5.0   \n",
       "176      1884734766  A14OJS0VWMOSWO     5.0   \n",
       "...             ...             ...     ...   \n",
       "2999935  0786182431  A2CR57GAJKNWVV     4.0   \n",
       "2999937  0786182431  A1I2O9Y3X3HXLS     5.0   \n",
       "2999949  0786182431     AFVQZQ8PW0L     5.0   \n",
       "2999960  0679417052   A9Q28YTLYREO7     5.0   \n",
       "2999979  B00085PL4C  A32ZKBXJJ45BRY     3.0   \n",
       "\n",
       "                                                     title  \\\n",
       "1                                 Dr. Seuss: American Icon   \n",
       "6                                 Dr. Seuss: American Icon   \n",
       "59       Rising Sons and Daughters: Life Among Japan's ...   \n",
       "140                      Eyewitness Travel Guide to Europe   \n",
       "176      Dealing With Disappointment: Helping Kids Cope...   \n",
       "...                                                    ...   \n",
       "2999935                   Very Bad Deaths: Library Edition   \n",
       "2999937                   Very Bad Deaths: Library Edition   \n",
       "2999949                   Very Bad Deaths: Library Edition   \n",
       "2999960                                            My Life   \n",
       "2999979           Old Quebec,: The fortress of New France,   \n",
       "\n",
       "                                                    review  \n",
       "1        I don't care much for Dr. Seuss but after read...  \n",
       "6        Theodor Seuss Giesel was best known as 'Dr. Se...  \n",
       "59       Steven Wardell went to Japan without reading a...  \n",
       "140      Yes, this is one heavy book. It is more than l...  \n",
       "176      Written by Elizabeth Crary (a parent educator ...  \n",
       "...                                                    ...  \n",
       "2999935  Russell Walker wants to be left alone to die--...  \n",
       "2999937  Very Bad Deaths (2004) is the first SF novel i...  \n",
       "2999949  Fiftyish Canadian Russell Walker writes \"The F...  \n",
       "2999960  Magic without a doubt is Something Special.He ...  \n",
       "2999979  \"Old Quebec: Fortress Of New France\" is a repr...  \n",
       "\n",
       "[134882 rows x 5 columns]"
      ]
     },
     "execution_count": 9,
     "metadata": {},
     "output_type": "execute_result"
    }
   ],
   "source": [
    "filtered_rating"
   ]
  },
  {
   "cell_type": "code",
   "execution_count": 10,
   "id": "78f6d954",
   "metadata": {
    "execution": {
     "iopub.execute_input": "2023-03-30T04:10:38.986570Z",
     "iopub.status.busy": "2023-03-30T04:10:38.985694Z",
     "iopub.status.idle": "2023-03-30T04:10:39.144492Z",
     "shell.execute_reply": "2023-03-30T04:10:39.143438Z"
    },
    "papermill": {
     "duration": 0.172443,
     "end_time": "2023-03-30T04:10:39.147165",
     "exception": false,
     "start_time": "2023-03-30T04:10:38.974722",
     "status": "completed"
    },
    "tags": []
   },
   "outputs": [],
   "source": [
    "y = filtered_rating.groupby('title').count()['rating']>=50\n",
    "famous_books = y[y].index"
   ]
  },
  {
   "cell_type": "code",
   "execution_count": 11,
   "id": "ed419717",
   "metadata": {
    "execution": {
     "iopub.execute_input": "2023-03-30T04:10:39.166161Z",
     "iopub.status.busy": "2023-03-30T04:10:39.165400Z",
     "iopub.status.idle": "2023-03-30T04:10:39.184892Z",
     "shell.execute_reply": "2023-03-30T04:10:39.183470Z"
    },
    "papermill": {
     "duration": 0.032367,
     "end_time": "2023-03-30T04:10:39.187900",
     "exception": false,
     "start_time": "2023-03-30T04:10:39.155533",
     "status": "completed"
    },
    "tags": []
   },
   "outputs": [],
   "source": [
    "final_ratings = filtered_rating[filtered_rating['title'].isin(famous_books)]"
   ]
  },
  {
   "cell_type": "code",
   "execution_count": 12,
   "id": "bef02908",
   "metadata": {
    "execution": {
     "iopub.execute_input": "2023-03-30T04:10:39.206426Z",
     "iopub.status.busy": "2023-03-30T04:10:39.205948Z",
     "iopub.status.idle": "2023-03-30T04:10:39.227058Z",
     "shell.execute_reply": "2023-03-30T04:10:39.225675Z"
    },
    "papermill": {
     "duration": 0.033731,
     "end_time": "2023-03-30T04:10:39.229846",
     "exception": false,
     "start_time": "2023-03-30T04:10:39.196115",
     "status": "completed"
    },
    "tags": []
   },
   "outputs": [
    {
     "data": {
      "text/html": [
       "<div>\n",
       "<style scoped>\n",
       "    .dataframe tbody tr th:only-of-type {\n",
       "        vertical-align: middle;\n",
       "    }\n",
       "\n",
       "    .dataframe tbody tr th {\n",
       "        vertical-align: top;\n",
       "    }\n",
       "\n",
       "    .dataframe thead th {\n",
       "        text-align: right;\n",
       "    }\n",
       "</style>\n",
       "<table border=\"1\" class=\"dataframe\">\n",
       "  <thead>\n",
       "    <tr style=\"text-align: right;\">\n",
       "      <th></th>\n",
       "      <th>book_id</th>\n",
       "      <th>user_id</th>\n",
       "      <th>rating</th>\n",
       "      <th>title</th>\n",
       "      <th>review</th>\n",
       "    </tr>\n",
       "  </thead>\n",
       "  <tbody>\n",
       "    <tr>\n",
       "      <th>1747</th>\n",
       "      <td>B000N6DDJQ</td>\n",
       "      <td>AUM3YMZ0YRJE0</td>\n",
       "      <td>5.0</td>\n",
       "      <td>The Scarlet Letter A Romance</td>\n",
       "      <td>WHen I finally started reading this classic, I...</td>\n",
       "    </tr>\n",
       "    <tr>\n",
       "      <th>1807</th>\n",
       "      <td>B000N6DDJQ</td>\n",
       "      <td>AMKZHBOK7VMQR</td>\n",
       "      <td>5.0</td>\n",
       "      <td>The Scarlet Letter A Romance</td>\n",
       "      <td>Hawthorne wrote a masterful work of historical...</td>\n",
       "    </tr>\n",
       "    <tr>\n",
       "      <th>1820</th>\n",
       "      <td>B000N6DDJQ</td>\n",
       "      <td>AWLFVCT9128JV</td>\n",
       "      <td>4.0</td>\n",
       "      <td>The Scarlet Letter A Romance</td>\n",
       "      <td>I don't suppose anything can ruin a book more ...</td>\n",
       "    </tr>\n",
       "    <tr>\n",
       "      <th>1829</th>\n",
       "      <td>B000N6DDJQ</td>\n",
       "      <td>ABN5K7K1TM1QA</td>\n",
       "      <td>5.0</td>\n",
       "      <td>The Scarlet Letter A Romance</td>\n",
       "      <td>\"All have sinned and fall short of the glory o...</td>\n",
       "    </tr>\n",
       "    <tr>\n",
       "      <th>1830</th>\n",
       "      <td>B000N6DDJQ</td>\n",
       "      <td>A3IKBHODOTYYHM</td>\n",
       "      <td>4.0</td>\n",
       "      <td>The Scarlet Letter A Romance</td>\n",
       "      <td>I think the many readers who were forced to pa...</td>\n",
       "    </tr>\n",
       "    <tr>\n",
       "      <th>...</th>\n",
       "      <td>...</td>\n",
       "      <td>...</td>\n",
       "      <td>...</td>\n",
       "      <td>...</td>\n",
       "      <td>...</td>\n",
       "    </tr>\n",
       "    <tr>\n",
       "      <th>2999633</th>\n",
       "      <td>B000P91JYW</td>\n",
       "      <td>A1D2C0WDCSHUWZ</td>\n",
       "      <td>5.0</td>\n",
       "      <td>Jane Eyre</td>\n",
       "      <td>It's hard to imagine a better gothic romance t...</td>\n",
       "    </tr>\n",
       "    <tr>\n",
       "      <th>2999638</th>\n",
       "      <td>B000P91JYW</td>\n",
       "      <td>AHUT55E980RDR</td>\n",
       "      <td>4.0</td>\n",
       "      <td>Jane Eyre</td>\n",
       "      <td>I gather this is required reading at a lot of ...</td>\n",
       "    </tr>\n",
       "    <tr>\n",
       "      <th>2999641</th>\n",
       "      <td>B000P91JYW</td>\n",
       "      <td>A1T17LMQABMBN5</td>\n",
       "      <td>5.0</td>\n",
       "      <td>Jane Eyre</td>\n",
       "      <td>Charlotte Bronte created quite an admirable he...</td>\n",
       "    </tr>\n",
       "    <tr>\n",
       "      <th>2999646</th>\n",
       "      <td>B000P91JYW</td>\n",
       "      <td>AJQ1S39GZBKUG</td>\n",
       "      <td>5.0</td>\n",
       "      <td>Jane Eyre</td>\n",
       "      <td>Concerning on English classic novels `Jane Eyr...</td>\n",
       "    </tr>\n",
       "    <tr>\n",
       "      <th>2999664</th>\n",
       "      <td>B000P91JYW</td>\n",
       "      <td>AQCQ5F0OJXMG9</td>\n",
       "      <td>5.0</td>\n",
       "      <td>Jane Eyre</td>\n",
       "      <td>\"I need not sell my soul to buy bliss\"Jane Eyr...</td>\n",
       "    </tr>\n",
       "  </tbody>\n",
       "</table>\n",
       "<p>17115 rows × 5 columns</p>\n",
       "</div>"
      ],
      "text/plain": [
       "            book_id         user_id  rating                         title  \\\n",
       "1747     B000N6DDJQ   AUM3YMZ0YRJE0     5.0  The Scarlet Letter A Romance   \n",
       "1807     B000N6DDJQ   AMKZHBOK7VMQR     5.0  The Scarlet Letter A Romance   \n",
       "1820     B000N6DDJQ   AWLFVCT9128JV     4.0  The Scarlet Letter A Romance   \n",
       "1829     B000N6DDJQ   ABN5K7K1TM1QA     5.0  The Scarlet Letter A Romance   \n",
       "1830     B000N6DDJQ  A3IKBHODOTYYHM     4.0  The Scarlet Letter A Romance   \n",
       "...             ...             ...     ...                           ...   \n",
       "2999633  B000P91JYW  A1D2C0WDCSHUWZ     5.0                     Jane Eyre   \n",
       "2999638  B000P91JYW   AHUT55E980RDR     4.0                     Jane Eyre   \n",
       "2999641  B000P91JYW  A1T17LMQABMBN5     5.0                     Jane Eyre   \n",
       "2999646  B000P91JYW   AJQ1S39GZBKUG     5.0                     Jane Eyre   \n",
       "2999664  B000P91JYW   AQCQ5F0OJXMG9     5.0                     Jane Eyre   \n",
       "\n",
       "                                                    review  \n",
       "1747     WHen I finally started reading this classic, I...  \n",
       "1807     Hawthorne wrote a masterful work of historical...  \n",
       "1820     I don't suppose anything can ruin a book more ...  \n",
       "1829     \"All have sinned and fall short of the glory o...  \n",
       "1830     I think the many readers who were forced to pa...  \n",
       "...                                                    ...  \n",
       "2999633  It's hard to imagine a better gothic romance t...  \n",
       "2999638  I gather this is required reading at a lot of ...  \n",
       "2999641  Charlotte Bronte created quite an admirable he...  \n",
       "2999646  Concerning on English classic novels `Jane Eyr...  \n",
       "2999664  \"I need not sell my soul to buy bliss\"Jane Eyr...  \n",
       "\n",
       "[17115 rows x 5 columns]"
      ]
     },
     "execution_count": 12,
     "metadata": {},
     "output_type": "execute_result"
    }
   ],
   "source": [
    "final_ratings"
   ]
  },
  {
   "cell_type": "code",
   "execution_count": 13,
   "id": "45ac0530",
   "metadata": {
    "execution": {
     "iopub.execute_input": "2023-03-30T04:10:39.249796Z",
     "iopub.status.busy": "2023-03-30T04:10:39.249375Z",
     "iopub.status.idle": "2023-03-30T04:10:39.956746Z",
     "shell.execute_reply": "2023-03-30T04:10:39.955447Z"
    },
    "papermill": {
     "duration": 0.721233,
     "end_time": "2023-03-30T04:10:39.960059",
     "exception": false,
     "start_time": "2023-03-30T04:10:39.238826",
     "status": "completed"
    },
    "tags": []
   },
   "outputs": [],
   "source": [
    "# saving the final dataset\n",
    "final_ratings.to_csv('final_ratings.csv',index=False)"
   ]
  },
  {
   "cell_type": "code",
   "execution_count": 14,
   "id": "58e98862",
   "metadata": {
    "execution": {
     "iopub.execute_input": "2023-03-30T04:10:39.980101Z",
     "iopub.status.busy": "2023-03-30T04:10:39.978938Z",
     "iopub.status.idle": "2023-03-30T04:10:39.984932Z",
     "shell.execute_reply": "2023-03-30T04:10:39.983574Z"
    },
    "papermill": {
     "duration": 0.019232,
     "end_time": "2023-03-30T04:10:39.988032",
     "exception": false,
     "start_time": "2023-03-30T04:10:39.968800",
     "status": "completed"
    },
    "tags": []
   },
   "outputs": [],
   "source": [
    "import pandas as pd\n",
    "import numpy as np"
   ]
  },
  {
   "cell_type": "code",
   "execution_count": 15,
   "id": "735a08a2",
   "metadata": {
    "execution": {
     "iopub.execute_input": "2023-03-30T04:10:40.007533Z",
     "iopub.status.busy": "2023-03-30T04:10:40.007054Z",
     "iopub.status.idle": "2023-03-30T04:10:40.242522Z",
     "shell.execute_reply": "2023-03-30T04:10:40.241122Z"
    },
    "papermill": {
     "duration": 0.249069,
     "end_time": "2023-03-30T04:10:40.245670",
     "exception": false,
     "start_time": "2023-03-30T04:10:39.996601",
     "status": "completed"
    },
    "tags": []
   },
   "outputs": [],
   "source": [
    "df = pd.read_csv('/kaggle/working/final_ratings.csv')"
   ]
  },
  {
   "cell_type": "code",
   "execution_count": 16,
   "id": "3161dc90",
   "metadata": {
    "execution": {
     "iopub.execute_input": "2023-03-30T04:10:40.265008Z",
     "iopub.status.busy": "2023-03-30T04:10:40.264597Z",
     "iopub.status.idle": "2023-03-30T04:10:40.283173Z",
     "shell.execute_reply": "2023-03-30T04:10:40.281811Z"
    },
    "papermill": {
     "duration": 0.031729,
     "end_time": "2023-03-30T04:10:40.286151",
     "exception": false,
     "start_time": "2023-03-30T04:10:40.254422",
     "status": "completed"
    },
    "tags": []
   },
   "outputs": [
    {
     "data": {
      "text/html": [
       "<div>\n",
       "<style scoped>\n",
       "    .dataframe tbody tr th:only-of-type {\n",
       "        vertical-align: middle;\n",
       "    }\n",
       "\n",
       "    .dataframe tbody tr th {\n",
       "        vertical-align: top;\n",
       "    }\n",
       "\n",
       "    .dataframe thead th {\n",
       "        text-align: right;\n",
       "    }\n",
       "</style>\n",
       "<table border=\"1\" class=\"dataframe\">\n",
       "  <thead>\n",
       "    <tr style=\"text-align: right;\">\n",
       "      <th></th>\n",
       "      <th>book_id</th>\n",
       "      <th>user_id</th>\n",
       "      <th>rating</th>\n",
       "      <th>title</th>\n",
       "      <th>review</th>\n",
       "    </tr>\n",
       "  </thead>\n",
       "  <tbody>\n",
       "    <tr>\n",
       "      <th>5393</th>\n",
       "      <td>0736605010</td>\n",
       "      <td>A1B9VX6MZ0MZ1T</td>\n",
       "      <td>4.0</td>\n",
       "      <td>Wuthering Heights</td>\n",
       "      <td>Wuthering Heights is about the relationship be...</td>\n",
       "    </tr>\n",
       "    <tr>\n",
       "      <th>6474</th>\n",
       "      <td>B000GROPF8</td>\n",
       "      <td>A1U8DHSI18EEJ1</td>\n",
       "      <td>5.0</td>\n",
       "      <td>Animal Farm (Signet Classics, CT304)</td>\n",
       "      <td>This book is a classic. You can sit down and r...</td>\n",
       "    </tr>\n",
       "    <tr>\n",
       "      <th>7153</th>\n",
       "      <td>B000GSB9M4</td>\n",
       "      <td>A3AY3EV2MFRFGG</td>\n",
       "      <td>5.0</td>\n",
       "      <td>Mere Christianity</td>\n",
       "      <td>Mere Christianity is, more less, the Mount Eve...</td>\n",
       "    </tr>\n",
       "    <tr>\n",
       "      <th>2293</th>\n",
       "      <td>0435126075</td>\n",
       "      <td>A3OH101U0CPUC7</td>\n",
       "      <td>5.0</td>\n",
       "      <td>Pride &amp; Prejudice (New Windmill)</td>\n",
       "      <td>Pride and Prejudice is Jane Austen's most popu...</td>\n",
       "    </tr>\n",
       "    <tr>\n",
       "      <th>10268</th>\n",
       "      <td>B000HLFD4K</td>\n",
       "      <td>A1T17LMQABMBN5</td>\n",
       "      <td>5.0</td>\n",
       "      <td>The Great Gatsby</td>\n",
       "      <td>I first read The Great Gatsby while in high sc...</td>\n",
       "    </tr>\n",
       "    <tr>\n",
       "      <th>1037</th>\n",
       "      <td>158726398X</td>\n",
       "      <td>A17FLA8HQOFVIG</td>\n",
       "      <td>5.0</td>\n",
       "      <td>Great Expectations</td>\n",
       "      <td>I've never read any Dickens of my own free wil...</td>\n",
       "    </tr>\n",
       "    <tr>\n",
       "      <th>3443</th>\n",
       "      <td>B000MOOAJG</td>\n",
       "      <td>AK7D1BHZOSOL1</td>\n",
       "      <td>2.0</td>\n",
       "      <td>Atlas Shrugged</td>\n",
       "      <td>The fairest and simplest explanation of Object...</td>\n",
       "    </tr>\n",
       "    <tr>\n",
       "      <th>8651</th>\n",
       "      <td>B0006BYP1S</td>\n",
       "      <td>AHXAPVSHPJ6OJ</td>\n",
       "      <td>5.0</td>\n",
       "      <td>Slaughterhouse-Five</td>\n",
       "      <td>Vonnegut's &amp;quot;Slaughterhouse-Five&amp;quot; is ...</td>\n",
       "    </tr>\n",
       "    <tr>\n",
       "      <th>12856</th>\n",
       "      <td>B000MOPSSS</td>\n",
       "      <td>A22DUZU3XVA8HA</td>\n",
       "      <td>4.0</td>\n",
       "      <td>A Journey to the Center of the Earth</td>\n",
       "      <td>Thankfully, geology was not as advanced in Ver...</td>\n",
       "    </tr>\n",
       "    <tr>\n",
       "      <th>16382</th>\n",
       "      <td>B000MNEES4</td>\n",
       "      <td>AGKPTMTR3UX1R</td>\n",
       "      <td>1.0</td>\n",
       "      <td>The Fountainhead</td>\n",
       "      <td>I'm always amazed when anybody over the age of...</td>\n",
       "    </tr>\n",
       "  </tbody>\n",
       "</table>\n",
       "</div>"
      ],
      "text/plain": [
       "          book_id         user_id  rating  \\\n",
       "5393   0736605010  A1B9VX6MZ0MZ1T     4.0   \n",
       "6474   B000GROPF8  A1U8DHSI18EEJ1     5.0   \n",
       "7153   B000GSB9M4  A3AY3EV2MFRFGG     5.0   \n",
       "2293   0435126075  A3OH101U0CPUC7     5.0   \n",
       "10268  B000HLFD4K  A1T17LMQABMBN5     5.0   \n",
       "1037   158726398X  A17FLA8HQOFVIG     5.0   \n",
       "3443   B000MOOAJG   AK7D1BHZOSOL1     2.0   \n",
       "8651   B0006BYP1S   AHXAPVSHPJ6OJ     5.0   \n",
       "12856  B000MOPSSS  A22DUZU3XVA8HA     4.0   \n",
       "16382  B000MNEES4   AGKPTMTR3UX1R     1.0   \n",
       "\n",
       "                                      title  \\\n",
       "5393                      Wuthering Heights   \n",
       "6474   Animal Farm (Signet Classics, CT304)   \n",
       "7153                      Mere Christianity   \n",
       "2293       Pride & Prejudice (New Windmill)   \n",
       "10268                      The Great Gatsby   \n",
       "1037                     Great Expectations   \n",
       "3443                         Atlas Shrugged   \n",
       "8651                    Slaughterhouse-Five   \n",
       "12856  A Journey to the Center of the Earth   \n",
       "16382                      The Fountainhead   \n",
       "\n",
       "                                                  review  \n",
       "5393   Wuthering Heights is about the relationship be...  \n",
       "6474   This book is a classic. You can sit down and r...  \n",
       "7153   Mere Christianity is, more less, the Mount Eve...  \n",
       "2293   Pride and Prejudice is Jane Austen's most popu...  \n",
       "10268  I first read The Great Gatsby while in high sc...  \n",
       "1037   I've never read any Dickens of my own free wil...  \n",
       "3443   The fairest and simplest explanation of Object...  \n",
       "8651   Vonnegut's &quot;Slaughterhouse-Five&quot; is ...  \n",
       "12856  Thankfully, geology was not as advanced in Ver...  \n",
       "16382  I'm always amazed when anybody over the age of...  "
      ]
     },
     "execution_count": 16,
     "metadata": {},
     "output_type": "execute_result"
    }
   ],
   "source": [
    "df.sample(10)"
   ]
  },
  {
   "cell_type": "code",
   "execution_count": 17,
   "id": "c26d0f41",
   "metadata": {
    "execution": {
     "iopub.execute_input": "2023-03-30T04:10:40.306259Z",
     "iopub.status.busy": "2023-03-30T04:10:40.305814Z",
     "iopub.status.idle": "2023-03-30T04:10:41.556621Z",
     "shell.execute_reply": "2023-03-30T04:10:41.555349Z"
    },
    "papermill": {
     "duration": 1.264117,
     "end_time": "2023-03-30T04:10:41.559502",
     "exception": false,
     "start_time": "2023-03-30T04:10:40.295385",
     "status": "completed"
    },
    "tags": []
   },
   "outputs": [],
   "source": [
    "from surprise import Dataset\n",
    "from surprise import Reader\n",
    "from surprise import KNNWithMeans\n",
    "from surprise import accuracy\n",
    "from surprise.model_selection import train_test_split\n",
    "from sklearn.feature_extraction.text import TfidfVectorizer\n",
    "from sklearn.metrics.pairwise import cosine_similarity"
   ]
  },
  {
   "cell_type": "markdown",
   "id": "ca4c2fa0",
   "metadata": {
    "papermill": {
     "duration": 0.008555,
     "end_time": "2023-03-30T04:10:41.577202",
     "exception": false,
     "start_time": "2023-03-30T04:10:41.568647",
     "status": "completed"
    },
    "tags": []
   },
   "source": [
    "In Surprise, Dataset and Reader are classes that are used to handle and preprocess data for building recommendation systems.\n",
    "\n",
    "* The Dataset class is used to represent a dataset of ratings or other user-item interactions. It provides a unified interface for loading, manipulating, and splitting datasets in various formats such as pandas dataframes, numpy arrays, or custom formats. The Dataset class is also used to generate train-test splits and to perform cross-validation for evaluating and tuning recommendation models.\n",
    "\n",
    "* The Reader class is used to read and parse data from different file formats such as CSV, Excel, or custom formats. It provides a unified interface to specify the format of the input data, including the delimiter, the rating scale, and the presence of headers. The Reader class is typically used in conjunction with the Dataset class to load data from files into a dataset object.\n",
    "\n",
    "Together, the Dataset and Reader classes provide a convenient and flexible way to handle and preprocess data for building recommendation systems. They allow users to easily load and preprocess data from various sources, and to use it to train, evaluate, and tune a wide range of recommendation algorithms provided by the Surprise library."
   ]
  },
  {
   "cell_type": "code",
   "execution_count": 18,
   "id": "7ed5ea71",
   "metadata": {
    "execution": {
     "iopub.execute_input": "2023-03-30T04:10:41.597471Z",
     "iopub.status.busy": "2023-03-30T04:10:41.596159Z",
     "iopub.status.idle": "2023-03-30T04:10:41.627409Z",
     "shell.execute_reply": "2023-03-30T04:10:41.625993Z"
    },
    "papermill": {
     "duration": 0.044488,
     "end_time": "2023-03-30T04:10:41.630516",
     "exception": false,
     "start_time": "2023-03-30T04:10:41.586028",
     "status": "completed"
    },
    "tags": []
   },
   "outputs": [],
   "source": [
    "# Define the format of the dataset for the Surprise library\n",
    "reader = Reader(rating_scale=(1, 5))\n",
    "data = Dataset.load_from_df(df[['user_id', 'book_id', 'rating']], reader)"
   ]
  },
  {
   "cell_type": "code",
   "execution_count": 19,
   "id": "652a9a18",
   "metadata": {
    "execution": {
     "iopub.execute_input": "2023-03-30T04:10:41.650021Z",
     "iopub.status.busy": "2023-03-30T04:10:41.649617Z",
     "iopub.status.idle": "2023-03-30T04:10:41.675028Z",
     "shell.execute_reply": "2023-03-30T04:10:41.673934Z"
    },
    "papermill": {
     "duration": 0.0386,
     "end_time": "2023-03-30T04:10:41.677759",
     "exception": false,
     "start_time": "2023-03-30T04:10:41.639159",
     "status": "completed"
    },
    "tags": []
   },
   "outputs": [],
   "source": [
    "# Split the data into training and testing sets\n",
    "trainset, testset = train_test_split(data, test_size=0.2)"
   ]
  },
  {
   "cell_type": "code",
   "execution_count": 20,
   "id": "fbf83103",
   "metadata": {
    "execution": {
     "iopub.execute_input": "2023-03-30T04:10:41.697872Z",
     "iopub.status.busy": "2023-03-30T04:10:41.697406Z",
     "iopub.status.idle": "2023-03-30T04:10:46.122774Z",
     "shell.execute_reply": "2023-03-30T04:10:46.121176Z"
    },
    "papermill": {
     "duration": 4.439156,
     "end_time": "2023-03-30T04:10:46.126054",
     "exception": false,
     "start_time": "2023-03-30T04:10:41.686898",
     "status": "completed"
    },
    "tags": []
   },
   "outputs": [],
   "source": [
    "# Extract features from textual reviews using TF-IDF\n",
    "vectorizer = TfidfVectorizer()\n",
    "tfidf_matrix = vectorizer.fit_transform(df['review'])"
   ]
  },
  {
   "cell_type": "code",
   "execution_count": 21,
   "id": "ee4ca517",
   "metadata": {
    "execution": {
     "iopub.execute_input": "2023-03-30T04:10:46.146761Z",
     "iopub.status.busy": "2023-03-30T04:10:46.146282Z",
     "iopub.status.idle": "2023-03-30T04:11:46.766113Z",
     "shell.execute_reply": "2023-03-30T04:11:46.764469Z"
    },
    "papermill": {
     "duration": 60.634227,
     "end_time": "2023-03-30T04:11:46.769544",
     "exception": false,
     "start_time": "2023-03-30T04:10:46.135317",
     "status": "completed"
    },
    "tags": []
   },
   "outputs": [],
   "source": [
    "# Compute the cosine similarity matrix of the TF-IDF matrix\n",
    "cosine_sim = cosine_similarity(tfidf_matrix)"
   ]
  },
  {
   "cell_type": "code",
   "execution_count": 22,
   "id": "e17ed0b1",
   "metadata": {
    "execution": {
     "iopub.execute_input": "2023-03-30T04:11:46.790678Z",
     "iopub.status.busy": "2023-03-30T04:11:46.790174Z",
     "iopub.status.idle": "2023-03-30T04:11:46.847153Z",
     "shell.execute_reply": "2023-03-30T04:11:46.845696Z"
    },
    "papermill": {
     "duration": 0.070948,
     "end_time": "2023-03-30T04:11:46.849817",
     "exception": false,
     "start_time": "2023-03-30T04:11:46.778869",
     "status": "completed"
    },
    "tags": []
   },
   "outputs": [
    {
     "name": "stdout",
     "output_type": "stream",
     "text": [
      "Computing the cosine similarity matrix...\n",
      "Done computing similarity matrix.\n"
     ]
    },
    {
     "data": {
      "text/plain": [
       "<surprise.prediction_algorithms.knns.KNNWithMeans at 0x7f991226c490>"
      ]
     },
     "execution_count": 22,
     "metadata": {},
     "output_type": "execute_result"
    }
   ],
   "source": [
    "# Train the model using the Collaborative Filtering algorithm with textual reviews\n",
    "algo = KNNWithMeans(sim_options={'name': 'cosine', 'user_based': True})\n",
    "algo.fit(trainset)"
   ]
  },
  {
   "cell_type": "markdown",
   "id": "939c860a",
   "metadata": {
    "papermill": {
     "duration": 0.009318,
     "end_time": "2023-03-30T04:11:46.868301",
     "exception": false,
     "start_time": "2023-03-30T04:11:46.858983",
     "status": "completed"
    },
    "tags": []
   },
   "source": [
    "KNNWithMeans is a collaborative filtering algorithm provided by the Surprise library. It is an extension of the KNN algorithm, which is a memory-based algorithm for making recommendations.\n",
    "\n",
    "The KNNWithMeans algorithm computes the similarity between users or items based on their ratings and applies a mean-centering technique to address the issue of rating biases. Specifically, it first computes the similarity between users or items using a similarity measure such as cosine similarity, Pearson correlation, or other distance metrics. Then, it applies a mean-centering technique to the ratings of the target user or item and the similar users or items, which helps to correct for the rating biases caused by differences in rating scales or tendencies.\n",
    "\n",
    "* In the case of user-based collaborative filtering, the algorithm computes the similarity between users based on their rating patterns and identifies the k most similar users to the target user. It then predicts the rating of an item for the target user by taking a weighted average of the ratings of the k most similar users for that item, where the weights are the similarities between the users.\n",
    "\n",
    "* In the case of item-based collaborative filtering, the algorithm computes the similarity between items based on their co-rated users and identifies the k most similar items to the target item. It then predicts the rating of an item for the target user by taking a weighted average of the ratings of the target user for the k most similar items, where the weights are the similarities between the items.\n",
    "\n",
    "Overall, KNNWithMeans is a simple and effective algorithm for making recommendations based on user or item similarity. It is widely used in practice and can provide good results for a variety of recommendation tasks."
   ]
  },
  {
   "cell_type": "code",
   "execution_count": 23,
   "id": "0dee56de",
   "metadata": {
    "execution": {
     "iopub.execute_input": "2023-03-30T04:11:46.889537Z",
     "iopub.status.busy": "2023-03-30T04:11:46.888989Z",
     "iopub.status.idle": "2023-03-30T04:11:47.136401Z",
     "shell.execute_reply": "2023-03-30T04:11:47.134930Z"
    },
    "papermill": {
     "duration": 0.261805,
     "end_time": "2023-03-30T04:11:47.139732",
     "exception": false,
     "start_time": "2023-03-30T04:11:46.877927",
     "status": "completed"
    },
    "tags": []
   },
   "outputs": [],
   "source": [
    "# Compute the predictions on the testing set\n",
    "predictions = algo.test(testset)"
   ]
  },
  {
   "cell_type": "code",
   "execution_count": 24,
   "id": "c98131f6",
   "metadata": {
    "execution": {
     "iopub.execute_input": "2023-03-30T04:11:47.161135Z",
     "iopub.status.busy": "2023-03-30T04:11:47.160662Z",
     "iopub.status.idle": "2023-03-30T04:11:47.169041Z",
     "shell.execute_reply": "2023-03-30T04:11:47.167645Z"
    },
    "papermill": {
     "duration": 0.02262,
     "end_time": "2023-03-30T04:11:47.172041",
     "exception": false,
     "start_time": "2023-03-30T04:11:47.149421",
     "status": "completed"
    },
    "tags": []
   },
   "outputs": [
    {
     "data": {
      "text/plain": [
       "[Prediction(uid='A3QW09WANRS6BZ', iid='B000PCESRE', r_ui=4.0, est=3.890728175086277, details={'actual_k': 40, 'was_impossible': False}),\n",
       " Prediction(uid='AHCVWPLA1O4X8', iid='B000NWUHR6', r_ui=5.0, est=4.924034428595678, details={'actual_k': 22, 'was_impossible': False}),\n",
       " Prediction(uid='A1ZDWD35AZL3S', iid='B000FPWT36', r_ui=4.0, est=4.02648460199101, details={'actual_k': 22, 'was_impossible': False}),\n",
       " Prediction(uid='A2D9IEFJGB483Q', iid='B000MOPSSS', r_ui=2.0, est=3.8521608050191047, details={'actual_k': 14, 'was_impossible': False}),\n",
       " Prediction(uid='A2L7N2U5Z316ZE', iid='B000GYWPTE', r_ui=5.0, est=5, details={'actual_k': 38, 'was_impossible': False})]"
      ]
     },
     "execution_count": 24,
     "metadata": {},
     "output_type": "execute_result"
    }
   ],
   "source": [
    "predictions[:5]"
   ]
  },
  {
   "cell_type": "code",
   "execution_count": 25,
   "id": "0095b362",
   "metadata": {
    "execution": {
     "iopub.execute_input": "2023-03-30T04:11:47.193004Z",
     "iopub.status.busy": "2023-03-30T04:11:47.192574Z",
     "iopub.status.idle": "2023-03-30T04:11:47.203736Z",
     "shell.execute_reply": "2023-03-30T04:11:47.201363Z"
    },
    "papermill": {
     "duration": 0.025124,
     "end_time": "2023-03-30T04:11:47.206344",
     "exception": false,
     "start_time": "2023-03-30T04:11:47.181220",
     "status": "completed"
    },
    "tags": []
   },
   "outputs": [
    {
     "name": "stdout",
     "output_type": "stream",
     "text": [
      "RMSE: 0.6097\n"
     ]
    }
   ],
   "source": [
    "# Compute the accuracy of the model using RMSE\n",
    "rmse = accuracy.rmse(predictions)"
   ]
  },
  {
   "cell_type": "code",
   "execution_count": 26,
   "id": "c1dc3499",
   "metadata": {
    "execution": {
     "iopub.execute_input": "2023-03-30T04:11:47.227393Z",
     "iopub.status.busy": "2023-03-30T04:11:47.226976Z",
     "iopub.status.idle": "2023-03-30T04:11:47.238529Z",
     "shell.execute_reply": "2023-03-30T04:11:47.237106Z"
    },
    "papermill": {
     "duration": 0.025308,
     "end_time": "2023-03-30T04:11:47.241323",
     "exception": false,
     "start_time": "2023-03-30T04:11:47.216015",
     "status": "completed"
    },
    "tags": []
   },
   "outputs": [],
   "source": [
    "def get_recommendations(user_id, n=20):\n",
    "    # Find the top n most similar users based on their textual reviews\n",
    "    user_index = df[df['user_id'] == user_id].index[0]\n",
    "    sim_scores = list(enumerate(cosine_sim[user_index]))\n",
    "    sim_scores = sorted(sim_scores, key=lambda x: x[1], reverse=True)\n",
    "    sim_scores = sim_scores[1:n+1]\n",
    "    sim_users = [df['user_id'][i[0]] for i in sim_scores]\n",
    "\n",
    "    # Find the items that the similar users have rated highly\n",
    "    top_items = {}\n",
    "    for user in sim_users:\n",
    "        items = df[df['user_id'] == user]['book_id']\n",
    "        for item in items:\n",
    "            if item not in top_items:\n",
    "                top_items[item] = 1\n",
    "            else:\n",
    "                top_items[item] += 1\n",
    "                \n",
    "    # Sort the items by the number of times they have been recommended\n",
    "    top_items = sorted(top_items.items(), key=lambda x: x[1], reverse=True)\n",
    "    \n",
    "    # Return the top n items as recommendations\n",
    "    lst = [i[0] for i in top_items[:n]]\n",
    "    rec_books = set()\n",
    "    for i in lst:\n",
    "        book_name = df[df['book_id']==i].iloc[0]['title']\n",
    "        rec_books.add(book_name)\n",
    "    return list(rec_books)[:10]"
   ]
  },
  {
   "cell_type": "code",
   "execution_count": 27,
   "id": "fe45f26f",
   "metadata": {
    "execution": {
     "iopub.execute_input": "2023-03-30T04:11:47.261820Z",
     "iopub.status.busy": "2023-03-30T04:11:47.261275Z",
     "iopub.status.idle": "2023-03-30T04:11:47.360780Z",
     "shell.execute_reply": "2023-03-30T04:11:47.359258Z"
    },
    "papermill": {
     "duration": 0.112738,
     "end_time": "2023-03-30T04:11:47.363538",
     "exception": false,
     "start_time": "2023-03-30T04:11:47.250800",
     "status": "completed"
    },
    "tags": []
   },
   "outputs": [
    {
     "data": {
      "text/plain": [
       "['The great Gatsby (Leading English literature library)',\n",
       " 'The Great Gatsby',\n",
       " 'The Postman Always Rings Twice',\n",
       " 'The Scarlet Letter',\n",
       " '1984',\n",
       " 'The Old Man and the Sea',\n",
       " 'Lord of the flies',\n",
       " 'The Scarlet Letter A Romance',\n",
       " 'Great Gatsby (Everyman)',\n",
       " 'Manhattan Stories From the Heart of a Great City']"
      ]
     },
     "execution_count": 27,
     "metadata": {},
     "output_type": "execute_result"
    }
   ],
   "source": [
    "get_recommendations('A2SHQJP6PNQTLD')"
   ]
  },
  {
   "cell_type": "code",
   "execution_count": null,
   "id": "cde71769",
   "metadata": {
    "papermill": {
     "duration": 0.008991,
     "end_time": "2023-03-30T04:11:47.381844",
     "exception": false,
     "start_time": "2023-03-30T04:11:47.372853",
     "status": "completed"
    },
    "tags": []
   },
   "outputs": [],
   "source": []
  }
 ],
 "metadata": {
  "kernelspec": {
   "display_name": "Python 3",
   "language": "python",
   "name": "python3"
  },
  "language_info": {
   "codemirror_mode": {
    "name": "ipython",
    "version": 3
   },
   "file_extension": ".py",
   "mimetype": "text/x-python",
   "name": "python",
   "nbconvert_exporter": "python",
   "pygments_lexer": "ipython3",
   "version": "3.7.12"
  },
  "papermill": {
   "default_parameters": {},
   "duration": 159.764319,
   "end_time": "2023-03-30T04:11:49.321133",
   "environment_variables": {},
   "exception": null,
   "input_path": "__notebook__.ipynb",
   "output_path": "__notebook__.ipynb",
   "parameters": {},
   "start_time": "2023-03-30T04:09:09.556814",
   "version": "2.4.0"
  }
 },
 "nbformat": 4,
 "nbformat_minor": 5
}
