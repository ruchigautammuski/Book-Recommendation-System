{
 "cells": [
  {
   "cell_type": "code",
   "execution_count": 1,
   "id": "db418a2f",
   "metadata": {
    "_cell_guid": "b1076dfc-b9ad-4769-8c92-a6c4dae69d19",
    "_uuid": "8f2839f25d086af736a60e9eeb907d3b93b6e0e5",
    "execution": {
     "iopub.execute_input": "2023-04-15T05:40:21.394513Z",
     "iopub.status.busy": "2023-04-15T05:40:21.394057Z",
     "iopub.status.idle": "2023-04-15T05:40:21.416678Z",
     "shell.execute_reply": "2023-04-15T05:40:21.415219Z"
    },
    "papermill": {
     "duration": 0.038268,
     "end_time": "2023-04-15T05:40:21.419605",
     "exception": false,
     "start_time": "2023-04-15T05:40:21.381337",
     "status": "completed"
    },
    "tags": []
   },
   "outputs": [
    {
     "name": "stdout",
     "output_type": "stream",
     "text": [
      "/kaggle/input/amazon-books-reviews/books_data.csv\n",
      "/kaggle/input/amazon-books-reviews/Books_rating.csv\n"
     ]
    }
   ],
   "source": [
    "# This Python 3 environment comes with many helpful analytics libraries installed\n",
    "# It is defined by the kaggle/python Docker image: https://github.com/kaggle/docker-python\n",
    "# For example, here's several helpful packages to load\n",
    "\n",
    "import numpy as np # linear algebra\n",
    "import pandas as pd # data processing, CSV file I/O (e.g. pd.read_csv)\n",
    "\n",
    "# Input data files are available in the read-only \"../input/\" directory\n",
    "# For example, running this (by clicking run or pressing Shift+Enter) will list all files under the input directory\n",
    "\n",
    "import os\n",
    "for dirname, _, filenames in os.walk('/kaggle/input'):\n",
    "    for filename in filenames:\n",
    "        print(os.path.join(dirname, filename))\n",
    "\n",
    "# You can write up to 20GB to the current directory (/kaggle/working/) that gets preserved as output when you create a version using \"Save & Run All\" \n",
    "# You can also write temporary files to /kaggle/temp/, but they won't be saved outside of the current session"
   ]
  },
  {
   "cell_type": "code",
   "execution_count": 2,
   "id": "b42b15cb",
   "metadata": {
    "execution": {
     "iopub.execute_input": "2023-04-15T05:40:21.441208Z",
     "iopub.status.busy": "2023-04-15T05:40:21.440343Z",
     "iopub.status.idle": "2023-04-15T05:41:45.944572Z",
     "shell.execute_reply": "2023-04-15T05:41:45.943569Z"
    },
    "papermill": {
     "duration": 84.527875,
     "end_time": "2023-04-15T05:41:45.956826",
     "exception": false,
     "start_time": "2023-04-15T05:40:21.428951",
     "status": "completed"
    },
    "tags": []
   },
   "outputs": [
    {
     "data": {
      "text/html": [
       "<div>\n",
       "<style scoped>\n",
       "    .dataframe tbody tr th:only-of-type {\n",
       "        vertical-align: middle;\n",
       "    }\n",
       "\n",
       "    .dataframe tbody tr th {\n",
       "        vertical-align: top;\n",
       "    }\n",
       "\n",
       "    .dataframe thead th {\n",
       "        text-align: right;\n",
       "    }\n",
       "</style>\n",
       "<table border=\"1\" class=\"dataframe\">\n",
       "  <thead>\n",
       "    <tr style=\"text-align: right;\">\n",
       "      <th></th>\n",
       "      <th>Id</th>\n",
       "      <th>Title</th>\n",
       "      <th>Price</th>\n",
       "      <th>User_id</th>\n",
       "      <th>profileName</th>\n",
       "      <th>review/helpfulness</th>\n",
       "      <th>review/score</th>\n",
       "      <th>review/time</th>\n",
       "      <th>review/summary</th>\n",
       "      <th>review/text</th>\n",
       "    </tr>\n",
       "  </thead>\n",
       "  <tbody>\n",
       "    <tr>\n",
       "      <th>0</th>\n",
       "      <td>1882931173</td>\n",
       "      <td>Its Only Art If Its Well Hung!</td>\n",
       "      <td>NaN</td>\n",
       "      <td>AVCGYZL8FQQTD</td>\n",
       "      <td>Jim of Oz \"jim-of-oz\"</td>\n",
       "      <td>7/7</td>\n",
       "      <td>4.0</td>\n",
       "      <td>940636800</td>\n",
       "      <td>Nice collection of Julie Strain images</td>\n",
       "      <td>This is only for Julie Strain fans. It's a col...</td>\n",
       "    </tr>\n",
       "    <tr>\n",
       "      <th>1</th>\n",
       "      <td>0826414346</td>\n",
       "      <td>Dr. Seuss: American Icon</td>\n",
       "      <td>NaN</td>\n",
       "      <td>A30TK6U7DNS82R</td>\n",
       "      <td>Kevin Killian</td>\n",
       "      <td>10/10</td>\n",
       "      <td>5.0</td>\n",
       "      <td>1095724800</td>\n",
       "      <td>Really Enjoyed It</td>\n",
       "      <td>I don't care much for Dr. Seuss but after read...</td>\n",
       "    </tr>\n",
       "    <tr>\n",
       "      <th>2</th>\n",
       "      <td>0826414346</td>\n",
       "      <td>Dr. Seuss: American Icon</td>\n",
       "      <td>NaN</td>\n",
       "      <td>A3UH4UZ4RSVO82</td>\n",
       "      <td>John Granger</td>\n",
       "      <td>10/11</td>\n",
       "      <td>5.0</td>\n",
       "      <td>1078790400</td>\n",
       "      <td>Essential for every personal and Public Library</td>\n",
       "      <td>If people become the books they read and if \"t...</td>\n",
       "    </tr>\n",
       "    <tr>\n",
       "      <th>3</th>\n",
       "      <td>0826414346</td>\n",
       "      <td>Dr. Seuss: American Icon</td>\n",
       "      <td>NaN</td>\n",
       "      <td>A2MVUWT453QH61</td>\n",
       "      <td>Roy E. Perry \"amateur philosopher\"</td>\n",
       "      <td>7/7</td>\n",
       "      <td>4.0</td>\n",
       "      <td>1090713600</td>\n",
       "      <td>Phlip Nel gives silly Seuss a serious treatment</td>\n",
       "      <td>Theodore Seuss Geisel (1904-1991), aka &amp;quot;D...</td>\n",
       "    </tr>\n",
       "    <tr>\n",
       "      <th>4</th>\n",
       "      <td>0826414346</td>\n",
       "      <td>Dr. Seuss: American Icon</td>\n",
       "      <td>NaN</td>\n",
       "      <td>A22X4XUPKF66MR</td>\n",
       "      <td>D. H. Richards \"ninthwavestore\"</td>\n",
       "      <td>3/3</td>\n",
       "      <td>4.0</td>\n",
       "      <td>1107993600</td>\n",
       "      <td>Good academic overview</td>\n",
       "      <td>Philip Nel - Dr. Seuss: American IconThis is b...</td>\n",
       "    </tr>\n",
       "  </tbody>\n",
       "</table>\n",
       "</div>"
      ],
      "text/plain": [
       "           Id                           Title  Price         User_id  \\\n",
       "0  1882931173  Its Only Art If Its Well Hung!    NaN   AVCGYZL8FQQTD   \n",
       "1  0826414346        Dr. Seuss: American Icon    NaN  A30TK6U7DNS82R   \n",
       "2  0826414346        Dr. Seuss: American Icon    NaN  A3UH4UZ4RSVO82   \n",
       "3  0826414346        Dr. Seuss: American Icon    NaN  A2MVUWT453QH61   \n",
       "4  0826414346        Dr. Seuss: American Icon    NaN  A22X4XUPKF66MR   \n",
       "\n",
       "                          profileName review/helpfulness  review/score  \\\n",
       "0               Jim of Oz \"jim-of-oz\"                7/7           4.0   \n",
       "1                       Kevin Killian              10/10           5.0   \n",
       "2                        John Granger              10/11           5.0   \n",
       "3  Roy E. Perry \"amateur philosopher\"                7/7           4.0   \n",
       "4     D. H. Richards \"ninthwavestore\"                3/3           4.0   \n",
       "\n",
       "   review/time                                   review/summary  \\\n",
       "0    940636800           Nice collection of Julie Strain images   \n",
       "1   1095724800                                Really Enjoyed It   \n",
       "2   1078790400  Essential for every personal and Public Library   \n",
       "3   1090713600  Phlip Nel gives silly Seuss a serious treatment   \n",
       "4   1107993600                           Good academic overview   \n",
       "\n",
       "                                         review/text  \n",
       "0  This is only for Julie Strain fans. It's a col...  \n",
       "1  I don't care much for Dr. Seuss but after read...  \n",
       "2  If people become the books they read and if \"t...  \n",
       "3  Theodore Seuss Geisel (1904-1991), aka &quot;D...  \n",
       "4  Philip Nel - Dr. Seuss: American IconThis is b...  "
      ]
     },
     "execution_count": 2,
     "metadata": {},
     "output_type": "execute_result"
    }
   ],
   "source": [
    "ratings_df = pd.read_csv('/kaggle/input/amazon-books-reviews/Books_rating.csv')\n",
    "ratings_df.head()"
   ]
  },
  {
   "cell_type": "code",
   "execution_count": 3,
   "id": "5532521c",
   "metadata": {
    "execution": {
     "iopub.execute_input": "2023-04-15T05:41:45.978227Z",
     "iopub.status.busy": "2023-04-15T05:41:45.977747Z",
     "iopub.status.idle": "2023-04-15T05:41:46.182304Z",
     "shell.execute_reply": "2023-04-15T05:41:46.180324Z"
    },
    "papermill": {
     "duration": 0.221229,
     "end_time": "2023-04-15T05:41:46.187325",
     "exception": false,
     "start_time": "2023-04-15T05:41:45.966096",
     "status": "completed"
    },
    "tags": []
   },
   "outputs": [
    {
     "data": {
      "text/html": [
       "<div>\n",
       "<style scoped>\n",
       "    .dataframe tbody tr th:only-of-type {\n",
       "        vertical-align: middle;\n",
       "    }\n",
       "\n",
       "    .dataframe tbody tr th {\n",
       "        vertical-align: top;\n",
       "    }\n",
       "\n",
       "    .dataframe thead th {\n",
       "        text-align: right;\n",
       "    }\n",
       "</style>\n",
       "<table border=\"1\" class=\"dataframe\">\n",
       "  <thead>\n",
       "    <tr style=\"text-align: right;\">\n",
       "      <th></th>\n",
       "      <th>Id</th>\n",
       "      <th>User_id</th>\n",
       "      <th>review/text</th>\n",
       "      <th>Title</th>\n",
       "      <th>review/score</th>\n",
       "    </tr>\n",
       "  </thead>\n",
       "  <tbody>\n",
       "    <tr>\n",
       "      <th>0</th>\n",
       "      <td>1882931173</td>\n",
       "      <td>AVCGYZL8FQQTD</td>\n",
       "      <td>This is only for Julie Strain fans. It's a col...</td>\n",
       "      <td>Its Only Art If Its Well Hung!</td>\n",
       "      <td>4.0</td>\n",
       "    </tr>\n",
       "  </tbody>\n",
       "</table>\n",
       "</div>"
      ],
      "text/plain": [
       "           Id        User_id  \\\n",
       "0  1882931173  AVCGYZL8FQQTD   \n",
       "\n",
       "                                         review/text  \\\n",
       "0  This is only for Julie Strain fans. It's a col...   \n",
       "\n",
       "                            Title  review/score  \n",
       "0  Its Only Art If Its Well Hung!           4.0  "
      ]
     },
     "execution_count": 3,
     "metadata": {},
     "output_type": "execute_result"
    }
   ],
   "source": [
    "ratings_df = ratings_df[['Id','User_id','review/text','Title','review/score']]\n",
    "ratings_df.head(1)"
   ]
  },
  {
   "cell_type": "code",
   "execution_count": 4,
   "id": "f014e388",
   "metadata": {
    "execution": {
     "iopub.execute_input": "2023-04-15T05:41:46.210633Z",
     "iopub.status.busy": "2023-04-15T05:41:46.210144Z",
     "iopub.status.idle": "2023-04-15T05:41:46.218726Z",
     "shell.execute_reply": "2023-04-15T05:41:46.217271Z"
    },
    "papermill": {
     "duration": 0.023605,
     "end_time": "2023-04-15T05:41:46.221842",
     "exception": false,
     "start_time": "2023-04-15T05:41:46.198237",
     "status": "completed"
    },
    "tags": []
   },
   "outputs": [],
   "source": [
    "ratings_df.rename(columns={'Id':'book_id','User_id':'user_id','review/text':'review','Title':'title','review/score':'rating'},inplace=True)"
   ]
  },
  {
   "cell_type": "code",
   "execution_count": 5,
   "id": "8fe944c5",
   "metadata": {
    "execution": {
     "iopub.execute_input": "2023-04-15T05:41:46.244417Z",
     "iopub.status.busy": "2023-04-15T05:41:46.244017Z",
     "iopub.status.idle": "2023-04-15T05:41:51.071343Z",
     "shell.execute_reply": "2023-04-15T05:41:51.070153Z"
    },
    "papermill": {
     "duration": 4.84412,
     "end_time": "2023-04-15T05:41:51.076539",
     "exception": false,
     "start_time": "2023-04-15T05:41:46.232419",
     "status": "completed"
    },
    "tags": []
   },
   "outputs": [
    {
     "data": {
      "text/html": [
       "<div>\n",
       "<style scoped>\n",
       "    .dataframe tbody tr th:only-of-type {\n",
       "        vertical-align: middle;\n",
       "    }\n",
       "\n",
       "    .dataframe tbody tr th {\n",
       "        vertical-align: top;\n",
       "    }\n",
       "\n",
       "    .dataframe thead th {\n",
       "        text-align: right;\n",
       "    }\n",
       "</style>\n",
       "<table border=\"1\" class=\"dataframe\">\n",
       "  <thead>\n",
       "    <tr style=\"text-align: right;\">\n",
       "      <th></th>\n",
       "      <th>book_id</th>\n",
       "      <th>user_id</th>\n",
       "      <th>review</th>\n",
       "      <th>title</th>\n",
       "      <th>rating</th>\n",
       "    </tr>\n",
       "  </thead>\n",
       "  <tbody>\n",
       "    <tr>\n",
       "      <th>1747</th>\n",
       "      <td>B000N6DDJQ</td>\n",
       "      <td>AUM3YMZ0YRJE0</td>\n",
       "      <td>WHen I finally started reading this classic, I...</td>\n",
       "      <td>The Scarlet Letter A Romance</td>\n",
       "      <td>5.0</td>\n",
       "    </tr>\n",
       "    <tr>\n",
       "      <th>1807</th>\n",
       "      <td>B000N6DDJQ</td>\n",
       "      <td>AMKZHBOK7VMQR</td>\n",
       "      <td>Hawthorne wrote a masterful work of historical...</td>\n",
       "      <td>The Scarlet Letter A Romance</td>\n",
       "      <td>5.0</td>\n",
       "    </tr>\n",
       "    <tr>\n",
       "      <th>1820</th>\n",
       "      <td>B000N6DDJQ</td>\n",
       "      <td>AWLFVCT9128JV</td>\n",
       "      <td>I don't suppose anything can ruin a book more ...</td>\n",
       "      <td>The Scarlet Letter A Romance</td>\n",
       "      <td>4.0</td>\n",
       "    </tr>\n",
       "    <tr>\n",
       "      <th>1829</th>\n",
       "      <td>B000N6DDJQ</td>\n",
       "      <td>ABN5K7K1TM1QA</td>\n",
       "      <td>\"All have sinned and fall short of the glory o...</td>\n",
       "      <td>The Scarlet Letter A Romance</td>\n",
       "      <td>5.0</td>\n",
       "    </tr>\n",
       "    <tr>\n",
       "      <th>1830</th>\n",
       "      <td>B000N6DDJQ</td>\n",
       "      <td>A3IKBHODOTYYHM</td>\n",
       "      <td>I think the many readers who were forced to pa...</td>\n",
       "      <td>The Scarlet Letter A Romance</td>\n",
       "      <td>4.0</td>\n",
       "    </tr>\n",
       "  </tbody>\n",
       "</table>\n",
       "</div>"
      ],
      "text/plain": [
       "         book_id         user_id  \\\n",
       "1747  B000N6DDJQ   AUM3YMZ0YRJE0   \n",
       "1807  B000N6DDJQ   AMKZHBOK7VMQR   \n",
       "1820  B000N6DDJQ   AWLFVCT9128JV   \n",
       "1829  B000N6DDJQ   ABN5K7K1TM1QA   \n",
       "1830  B000N6DDJQ  A3IKBHODOTYYHM   \n",
       "\n",
       "                                                 review  \\\n",
       "1747  WHen I finally started reading this classic, I...   \n",
       "1807  Hawthorne wrote a masterful work of historical...   \n",
       "1820  I don't suppose anything can ruin a book more ...   \n",
       "1829  \"All have sinned and fall short of the glory o...   \n",
       "1830  I think the many readers who were forced to pa...   \n",
       "\n",
       "                             title  rating  \n",
       "1747  The Scarlet Letter A Romance     5.0  \n",
       "1807  The Scarlet Letter A Romance     5.0  \n",
       "1820  The Scarlet Letter A Romance     4.0  \n",
       "1829  The Scarlet Letter A Romance     5.0  \n",
       "1830  The Scarlet Letter A Romance     4.0  "
      ]
     },
     "execution_count": 5,
     "metadata": {},
     "output_type": "execute_result"
    }
   ],
   "source": [
    "x = ratings_df.groupby('user_id').count()['review'] > 200\n",
    "considerable_users = x[x].index\n",
    "filtered_rating = ratings_df[ratings_df['user_id'].isin(considerable_users)]\n",
    "\n",
    "y = filtered_rating.groupby('title').count()['review']>=50\n",
    "famous_books = y[y].index\n",
    "df = filtered_rating[filtered_rating['title'].isin(famous_books)]\n",
    "\n",
    "df.head()"
   ]
  },
  {
   "cell_type": "code",
   "execution_count": 6,
   "id": "7080bf3a",
   "metadata": {
    "execution": {
     "iopub.execute_input": "2023-04-15T05:41:51.099896Z",
     "iopub.status.busy": "2023-04-15T05:41:51.098894Z",
     "iopub.status.idle": "2023-04-15T05:41:51.107481Z",
     "shell.execute_reply": "2023-04-15T05:41:51.106211Z"
    },
    "papermill": {
     "duration": 0.023693,
     "end_time": "2023-04-15T05:41:51.110586",
     "exception": false,
     "start_time": "2023-04-15T05:41:51.086893",
     "status": "completed"
    },
    "tags": []
   },
   "outputs": [],
   "source": [
    "df = df.reset_index()"
   ]
  },
  {
   "cell_type": "code",
   "execution_count": 7,
   "id": "5af6ef42",
   "metadata": {
    "execution": {
     "iopub.execute_input": "2023-04-15T05:41:51.134025Z",
     "iopub.status.busy": "2023-04-15T05:41:51.133004Z",
     "iopub.status.idle": "2023-04-15T05:41:51.140935Z",
     "shell.execute_reply": "2023-04-15T05:41:51.139811Z"
    },
    "papermill": {
     "duration": 0.022307,
     "end_time": "2023-04-15T05:41:51.143507",
     "exception": false,
     "start_time": "2023-04-15T05:41:51.121200",
     "status": "completed"
    },
    "tags": []
   },
   "outputs": [
    {
     "data": {
      "text/plain": [
       "(17115, 6)"
      ]
     },
     "execution_count": 7,
     "metadata": {},
     "output_type": "execute_result"
    }
   ],
   "source": [
    "df.shape"
   ]
  },
  {
   "cell_type": "code",
   "execution_count": 8,
   "id": "aaa3c8e6",
   "metadata": {
    "execution": {
     "iopub.execute_input": "2023-04-15T05:41:51.168983Z",
     "iopub.status.busy": "2023-04-15T05:41:51.167945Z",
     "iopub.status.idle": "2023-04-15T05:41:53.101180Z",
     "shell.execute_reply": "2023-04-15T05:41:53.099879Z"
    },
    "papermill": {
     "duration": 1.948421,
     "end_time": "2023-04-15T05:41:53.104075",
     "exception": false,
     "start_time": "2023-04-15T05:41:51.155654",
     "status": "completed"
    },
    "tags": []
   },
   "outputs": [
    {
     "name": "stderr",
     "output_type": "stream",
     "text": [
      "/opt/conda/lib/python3.7/site-packages/nltk/twitter/__init__.py:20: UserWarning: The twython library has not been installed. Some functionality from the twitter package will not be available.\n",
      "  warnings.warn(\"The twython library has not been installed. \"\n"
     ]
    }
   ],
   "source": [
    "from surprise import Dataset, Reader\n",
    "from surprise import KNNWithMeans\n",
    "from surprise.model_selection import train_test_split\n",
    "from surprise import accuracy\n",
    "from nltk.sentiment import SentimentIntensityAnalyzer"
   ]
  },
  {
   "cell_type": "code",
   "execution_count": 9,
   "id": "12976ea8",
   "metadata": {
    "execution": {
     "iopub.execute_input": "2023-04-15T05:41:53.127883Z",
     "iopub.status.busy": "2023-04-15T05:41:53.127468Z",
     "iopub.status.idle": "2023-04-15T05:43:22.732095Z",
     "shell.execute_reply": "2023-04-15T05:43:22.730931Z"
    },
    "papermill": {
     "duration": 89.620061,
     "end_time": "2023-04-15T05:43:22.735291",
     "exception": false,
     "start_time": "2023-04-15T05:41:53.115230",
     "status": "completed"
    },
    "tags": []
   },
   "outputs": [],
   "source": [
    "# Calculate sentiment scores for each review\n",
    "sia = SentimentIntensityAnalyzer()\n",
    "df['sentiment'] = df['review'].apply(lambda x: sia.polarity_scores(x)['compound'])"
   ]
  },
  {
   "cell_type": "code",
   "execution_count": 10,
   "id": "213f5d4c",
   "metadata": {
    "execution": {
     "iopub.execute_input": "2023-04-15T05:43:22.757457Z",
     "iopub.status.busy": "2023-04-15T05:43:22.757000Z",
     "iopub.status.idle": "2023-04-15T05:43:22.765338Z",
     "shell.execute_reply": "2023-04-15T05:43:22.764037Z"
    },
    "papermill": {
     "duration": 0.022585,
     "end_time": "2023-04-15T05:43:22.768115",
     "exception": false,
     "start_time": "2023-04-15T05:43:22.745530",
     "status": "completed"
    },
    "tags": []
   },
   "outputs": [],
   "source": [
    "# Normalize the sentiment scores to be between 0 and 1\n",
    "df['sentiment'] = (df['sentiment'] - df['sentiment'].min()) / (df['sentiment'].max() - df['sentiment'].min())"
   ]
  },
  {
   "cell_type": "code",
   "execution_count": 11,
   "id": "b2eea94b",
   "metadata": {
    "execution": {
     "iopub.execute_input": "2023-04-15T05:43:22.790143Z",
     "iopub.status.busy": "2023-04-15T05:43:22.789599Z",
     "iopub.status.idle": "2023-04-15T05:43:22.809459Z",
     "shell.execute_reply": "2023-04-15T05:43:22.808308Z"
    },
    "papermill": {
     "duration": 0.034305,
     "end_time": "2023-04-15T05:43:22.812516",
     "exception": false,
     "start_time": "2023-04-15T05:43:22.778211",
     "status": "completed"
    },
    "tags": []
   },
   "outputs": [],
   "source": [
    "df = df.loc[~((df.rating.isin([1,2])) & (df['sentiment'] > 0.6))]\n",
    "df = df.loc[~((df.rating.isin([4,5])) & (df['sentiment'] < 0.6))]"
   ]
  },
  {
   "cell_type": "code",
   "execution_count": 12,
   "id": "c78bea5f",
   "metadata": {
    "execution": {
     "iopub.execute_input": "2023-04-15T05:43:22.835528Z",
     "iopub.status.busy": "2023-04-15T05:43:22.834859Z",
     "iopub.status.idle": "2023-04-15T05:43:22.842293Z",
     "shell.execute_reply": "2023-04-15T05:43:22.840742Z"
    },
    "papermill": {
     "duration": 0.021575,
     "end_time": "2023-04-15T05:43:22.844804",
     "exception": false,
     "start_time": "2023-04-15T05:43:22.823229",
     "status": "completed"
    },
    "tags": []
   },
   "outputs": [
    {
     "data": {
      "text/plain": [
       "(13824, 7)"
      ]
     },
     "execution_count": 12,
     "metadata": {},
     "output_type": "execute_result"
    }
   ],
   "source": [
    "df.shape"
   ]
  },
  {
   "cell_type": "code",
   "execution_count": 13,
   "id": "634c0d40",
   "metadata": {
    "execution": {
     "iopub.execute_input": "2023-04-15T05:43:22.867254Z",
     "iopub.status.busy": "2023-04-15T05:43:22.866546Z",
     "iopub.status.idle": "2023-04-15T05:43:22.873091Z",
     "shell.execute_reply": "2023-04-15T05:43:22.872119Z"
    },
    "papermill": {
     "duration": 0.020833,
     "end_time": "2023-04-15T05:43:22.875760",
     "exception": false,
     "start_time": "2023-04-15T05:43:22.854927",
     "status": "completed"
    },
    "tags": []
   },
   "outputs": [],
   "source": [
    "# Combine the rating and sentiment scores into a single score\n",
    "df['hybrid_score'] = df['rating'] * df['sentiment']"
   ]
  },
  {
   "cell_type": "code",
   "execution_count": 14,
   "id": "98401283",
   "metadata": {
    "execution": {
     "iopub.execute_input": "2023-04-15T05:43:22.898064Z",
     "iopub.status.busy": "2023-04-15T05:43:22.897339Z",
     "iopub.status.idle": "2023-04-15T05:43:22.913083Z",
     "shell.execute_reply": "2023-04-15T05:43:22.911763Z"
    },
    "papermill": {
     "duration": 0.029967,
     "end_time": "2023-04-15T05:43:22.915726",
     "exception": false,
     "start_time": "2023-04-15T05:43:22.885759",
     "status": "completed"
    },
    "tags": []
   },
   "outputs": [
    {
     "data": {
      "text/html": [
       "<div>\n",
       "<style scoped>\n",
       "    .dataframe tbody tr th:only-of-type {\n",
       "        vertical-align: middle;\n",
       "    }\n",
       "\n",
       "    .dataframe tbody tr th {\n",
       "        vertical-align: top;\n",
       "    }\n",
       "\n",
       "    .dataframe thead th {\n",
       "        text-align: right;\n",
       "    }\n",
       "</style>\n",
       "<table border=\"1\" class=\"dataframe\">\n",
       "  <thead>\n",
       "    <tr style=\"text-align: right;\">\n",
       "      <th></th>\n",
       "      <th>index</th>\n",
       "      <th>book_id</th>\n",
       "      <th>user_id</th>\n",
       "      <th>review</th>\n",
       "      <th>title</th>\n",
       "      <th>rating</th>\n",
       "      <th>sentiment</th>\n",
       "      <th>hybrid_score</th>\n",
       "    </tr>\n",
       "  </thead>\n",
       "  <tbody>\n",
       "    <tr>\n",
       "      <th>0</th>\n",
       "      <td>1747</td>\n",
       "      <td>B000N6DDJQ</td>\n",
       "      <td>AUM3YMZ0YRJE0</td>\n",
       "      <td>WHen I finally started reading this classic, I...</td>\n",
       "      <td>The Scarlet Letter A Romance</td>\n",
       "      <td>5.0</td>\n",
       "      <td>0.986494</td>\n",
       "      <td>4.932470</td>\n",
       "    </tr>\n",
       "    <tr>\n",
       "      <th>1</th>\n",
       "      <td>1807</td>\n",
       "      <td>B000N6DDJQ</td>\n",
       "      <td>AMKZHBOK7VMQR</td>\n",
       "      <td>Hawthorne wrote a masterful work of historical...</td>\n",
       "      <td>The Scarlet Letter A Romance</td>\n",
       "      <td>5.0</td>\n",
       "      <td>0.923916</td>\n",
       "      <td>4.619579</td>\n",
       "    </tr>\n",
       "    <tr>\n",
       "      <th>2</th>\n",
       "      <td>1820</td>\n",
       "      <td>B000N6DDJQ</td>\n",
       "      <td>AWLFVCT9128JV</td>\n",
       "      <td>I don't suppose anything can ruin a book more ...</td>\n",
       "      <td>The Scarlet Letter A Romance</td>\n",
       "      <td>4.0</td>\n",
       "      <td>0.960382</td>\n",
       "      <td>3.841529</td>\n",
       "    </tr>\n",
       "    <tr>\n",
       "      <th>3</th>\n",
       "      <td>1829</td>\n",
       "      <td>B000N6DDJQ</td>\n",
       "      <td>ABN5K7K1TM1QA</td>\n",
       "      <td>\"All have sinned and fall short of the glory o...</td>\n",
       "      <td>The Scarlet Letter A Romance</td>\n",
       "      <td>5.0</td>\n",
       "      <td>0.999200</td>\n",
       "      <td>4.995998</td>\n",
       "    </tr>\n",
       "    <tr>\n",
       "      <th>5</th>\n",
       "      <td>1833</td>\n",
       "      <td>B000N6DDJQ</td>\n",
       "      <td>A3KF4IP2MUS8QQ</td>\n",
       "      <td>The Scarlet Letter is truly one of literature'...</td>\n",
       "      <td>The Scarlet Letter A Romance</td>\n",
       "      <td>5.0</td>\n",
       "      <td>0.810215</td>\n",
       "      <td>4.051073</td>\n",
       "    </tr>\n",
       "  </tbody>\n",
       "</table>\n",
       "</div>"
      ],
      "text/plain": [
       "   index     book_id         user_id  \\\n",
       "0   1747  B000N6DDJQ   AUM3YMZ0YRJE0   \n",
       "1   1807  B000N6DDJQ   AMKZHBOK7VMQR   \n",
       "2   1820  B000N6DDJQ   AWLFVCT9128JV   \n",
       "3   1829  B000N6DDJQ   ABN5K7K1TM1QA   \n",
       "5   1833  B000N6DDJQ  A3KF4IP2MUS8QQ   \n",
       "\n",
       "                                              review  \\\n",
       "0  WHen I finally started reading this classic, I...   \n",
       "1  Hawthorne wrote a masterful work of historical...   \n",
       "2  I don't suppose anything can ruin a book more ...   \n",
       "3  \"All have sinned and fall short of the glory o...   \n",
       "5  The Scarlet Letter is truly one of literature'...   \n",
       "\n",
       "                          title  rating  sentiment  hybrid_score  \n",
       "0  The Scarlet Letter A Romance     5.0   0.986494      4.932470  \n",
       "1  The Scarlet Letter A Romance     5.0   0.923916      4.619579  \n",
       "2  The Scarlet Letter A Romance     4.0   0.960382      3.841529  \n",
       "3  The Scarlet Letter A Romance     5.0   0.999200      4.995998  \n",
       "5  The Scarlet Letter A Romance     5.0   0.810215      4.051073  "
      ]
     },
     "execution_count": 14,
     "metadata": {},
     "output_type": "execute_result"
    }
   ],
   "source": [
    "df.head()"
   ]
  },
  {
   "cell_type": "code",
   "execution_count": 15,
   "id": "9a2c427d",
   "metadata": {
    "execution": {
     "iopub.execute_input": "2023-04-15T05:43:22.938462Z",
     "iopub.status.busy": "2023-04-15T05:43:22.937748Z",
     "iopub.status.idle": "2023-04-15T05:43:23.591292Z",
     "shell.execute_reply": "2023-04-15T05:43:23.590047Z"
    },
    "papermill": {
     "duration": 0.668298,
     "end_time": "2023-04-15T05:43:23.594236",
     "exception": false,
     "start_time": "2023-04-15T05:43:22.925938",
     "status": "completed"
    },
    "tags": []
   },
   "outputs": [],
   "source": [
    "df.to_csv('nltk_ratings.csv',index=False)"
   ]
  },
  {
   "cell_type": "code",
   "execution_count": 16,
   "id": "2e203d08",
   "metadata": {
    "execution": {
     "iopub.execute_input": "2023-04-15T05:43:23.616930Z",
     "iopub.status.busy": "2023-04-15T05:43:23.616447Z",
     "iopub.status.idle": "2023-04-15T05:43:23.838587Z",
     "shell.execute_reply": "2023-04-15T05:43:23.837311Z"
    },
    "papermill": {
     "duration": 0.236794,
     "end_time": "2023-04-15T05:43:23.841636",
     "exception": false,
     "start_time": "2023-04-15T05:43:23.604842",
     "status": "completed"
    },
    "tags": []
   },
   "outputs": [
    {
     "data": {
      "text/html": [
       "<div>\n",
       "<style scoped>\n",
       "    .dataframe tbody tr th:only-of-type {\n",
       "        vertical-align: middle;\n",
       "    }\n",
       "\n",
       "    .dataframe tbody tr th {\n",
       "        vertical-align: top;\n",
       "    }\n",
       "\n",
       "    .dataframe thead th {\n",
       "        text-align: right;\n",
       "    }\n",
       "</style>\n",
       "<table border=\"1\" class=\"dataframe\">\n",
       "  <thead>\n",
       "    <tr style=\"text-align: right;\">\n",
       "      <th></th>\n",
       "      <th>index</th>\n",
       "      <th>book_id</th>\n",
       "      <th>user_id</th>\n",
       "      <th>review</th>\n",
       "      <th>title</th>\n",
       "      <th>rating</th>\n",
       "      <th>sentiment</th>\n",
       "      <th>hybrid_score</th>\n",
       "    </tr>\n",
       "  </thead>\n",
       "  <tbody>\n",
       "    <tr>\n",
       "      <th>0</th>\n",
       "      <td>1747</td>\n",
       "      <td>B000N6DDJQ</td>\n",
       "      <td>AUM3YMZ0YRJE0</td>\n",
       "      <td>WHen I finally started reading this classic, I...</td>\n",
       "      <td>The Scarlet Letter A Romance</td>\n",
       "      <td>5.0</td>\n",
       "      <td>0.986494</td>\n",
       "      <td>4.932470</td>\n",
       "    </tr>\n",
       "    <tr>\n",
       "      <th>1</th>\n",
       "      <td>1807</td>\n",
       "      <td>B000N6DDJQ</td>\n",
       "      <td>AMKZHBOK7VMQR</td>\n",
       "      <td>Hawthorne wrote a masterful work of historical...</td>\n",
       "      <td>The Scarlet Letter A Romance</td>\n",
       "      <td>5.0</td>\n",
       "      <td>0.923916</td>\n",
       "      <td>4.619579</td>\n",
       "    </tr>\n",
       "    <tr>\n",
       "      <th>2</th>\n",
       "      <td>1820</td>\n",
       "      <td>B000N6DDJQ</td>\n",
       "      <td>AWLFVCT9128JV</td>\n",
       "      <td>I don't suppose anything can ruin a book more ...</td>\n",
       "      <td>The Scarlet Letter A Romance</td>\n",
       "      <td>4.0</td>\n",
       "      <td>0.960382</td>\n",
       "      <td>3.841529</td>\n",
       "    </tr>\n",
       "    <tr>\n",
       "      <th>3</th>\n",
       "      <td>1829</td>\n",
       "      <td>B000N6DDJQ</td>\n",
       "      <td>ABN5K7K1TM1QA</td>\n",
       "      <td>\"All have sinned and fall short of the glory o...</td>\n",
       "      <td>The Scarlet Letter A Romance</td>\n",
       "      <td>5.0</td>\n",
       "      <td>0.999200</td>\n",
       "      <td>4.995998</td>\n",
       "    </tr>\n",
       "    <tr>\n",
       "      <th>4</th>\n",
       "      <td>1833</td>\n",
       "      <td>B000N6DDJQ</td>\n",
       "      <td>A3KF4IP2MUS8QQ</td>\n",
       "      <td>The Scarlet Letter is truly one of literature'...</td>\n",
       "      <td>The Scarlet Letter A Romance</td>\n",
       "      <td>5.0</td>\n",
       "      <td>0.810215</td>\n",
       "      <td>4.051073</td>\n",
       "    </tr>\n",
       "  </tbody>\n",
       "</table>\n",
       "</div>"
      ],
      "text/plain": [
       "   index     book_id         user_id  \\\n",
       "0   1747  B000N6DDJQ   AUM3YMZ0YRJE0   \n",
       "1   1807  B000N6DDJQ   AMKZHBOK7VMQR   \n",
       "2   1820  B000N6DDJQ   AWLFVCT9128JV   \n",
       "3   1829  B000N6DDJQ   ABN5K7K1TM1QA   \n",
       "4   1833  B000N6DDJQ  A3KF4IP2MUS8QQ   \n",
       "\n",
       "                                              review  \\\n",
       "0  WHen I finally started reading this classic, I...   \n",
       "1  Hawthorne wrote a masterful work of historical...   \n",
       "2  I don't suppose anything can ruin a book more ...   \n",
       "3  \"All have sinned and fall short of the glory o...   \n",
       "4  The Scarlet Letter is truly one of literature'...   \n",
       "\n",
       "                          title  rating  sentiment  hybrid_score  \n",
       "0  The Scarlet Letter A Romance     5.0   0.986494      4.932470  \n",
       "1  The Scarlet Letter A Romance     5.0   0.923916      4.619579  \n",
       "2  The Scarlet Letter A Romance     4.0   0.960382      3.841529  \n",
       "3  The Scarlet Letter A Romance     5.0   0.999200      4.995998  \n",
       "4  The Scarlet Letter A Romance     5.0   0.810215      4.051073  "
      ]
     },
     "execution_count": 16,
     "metadata": {},
     "output_type": "execute_result"
    }
   ],
   "source": [
    "df = pd.read_csv('/kaggle/working/nltk_ratings.csv')\n",
    "df.head()"
   ]
  },
  {
   "cell_type": "code",
   "execution_count": 17,
   "id": "63369fcb",
   "metadata": {
    "execution": {
     "iopub.execute_input": "2023-04-15T05:43:23.864870Z",
     "iopub.status.busy": "2023-04-15T05:43:23.864389Z",
     "iopub.status.idle": "2023-04-15T05:43:23.869719Z",
     "shell.execute_reply": "2023-04-15T05:43:23.868769Z"
    },
    "papermill": {
     "duration": 0.01999,
     "end_time": "2023-04-15T05:43:23.872147",
     "exception": false,
     "start_time": "2023-04-15T05:43:23.852157",
     "status": "completed"
    },
    "tags": []
   },
   "outputs": [],
   "source": [
    "from surprise import NMF, SVD\n",
    "from surprise import Dataset,Reader\n",
    "from surprise.model_selection import train_test_split\n",
    "from surprise import accuracy"
   ]
  },
  {
   "cell_type": "code",
   "execution_count": 18,
   "id": "78615888",
   "metadata": {
    "execution": {
     "iopub.execute_input": "2023-04-15T05:43:23.895721Z",
     "iopub.status.busy": "2023-04-15T05:43:23.895037Z",
     "iopub.status.idle": "2023-04-15T05:43:23.900733Z",
     "shell.execute_reply": "2023-04-15T05:43:23.899485Z"
    },
    "papermill": {
     "duration": 0.020315,
     "end_time": "2023-04-15T05:43:23.903436",
     "exception": false,
     "start_time": "2023-04-15T05:43:23.883121",
     "status": "completed"
    },
    "tags": []
   },
   "outputs": [],
   "source": [
    "# load data from a file\n",
    "reader = Reader(line_format='user item rating', sep=',')"
   ]
  },
  {
   "cell_type": "code",
   "execution_count": 19,
   "id": "e8dcc623",
   "metadata": {
    "execution": {
     "iopub.execute_input": "2023-04-15T05:43:23.926626Z",
     "iopub.status.busy": "2023-04-15T05:43:23.926181Z",
     "iopub.status.idle": "2023-04-15T05:43:23.950853Z",
     "shell.execute_reply": "2023-04-15T05:43:23.949312Z"
    },
    "papermill": {
     "duration": 0.040124,
     "end_time": "2023-04-15T05:43:23.954111",
     "exception": false,
     "start_time": "2023-04-15T05:43:23.913987",
     "status": "completed"
    },
    "tags": []
   },
   "outputs": [],
   "source": [
    "data = Dataset.load_from_df(df[['user_id', 'book_id', 'hybrid_score']], reader=reader)"
   ]
  },
  {
   "cell_type": "code",
   "execution_count": 20,
   "id": "a547cf1f",
   "metadata": {
    "execution": {
     "iopub.execute_input": "2023-04-15T05:43:23.977014Z",
     "iopub.status.busy": "2023-04-15T05:43:23.976562Z",
     "iopub.status.idle": "2023-04-15T05:43:23.999669Z",
     "shell.execute_reply": "2023-04-15T05:43:23.998322Z"
    },
    "papermill": {
     "duration": 0.037853,
     "end_time": "2023-04-15T05:43:24.002531",
     "exception": false,
     "start_time": "2023-04-15T05:43:23.964678",
     "status": "completed"
    },
    "tags": []
   },
   "outputs": [],
   "source": [
    "# Split the data into training and testing sets\n",
    "trainset, testset = train_test_split(data, test_size=.25)"
   ]
  },
  {
   "cell_type": "code",
   "execution_count": 21,
   "id": "c199ac6d",
   "metadata": {
    "execution": {
     "iopub.execute_input": "2023-04-15T05:43:24.025499Z",
     "iopub.status.busy": "2023-04-15T05:43:24.025044Z",
     "iopub.status.idle": "2023-04-15T05:43:24.033077Z",
     "shell.execute_reply": "2023-04-15T05:43:24.031851Z"
    },
    "papermill": {
     "duration": 0.02268,
     "end_time": "2023-04-15T05:43:24.035757",
     "exception": false,
     "start_time": "2023-04-15T05:43:24.013077",
     "status": "completed"
    },
    "tags": []
   },
   "outputs": [
    {
     "data": {
      "text/plain": [
       "[('AUM3YMZ0YRJE0', 'B000N6DDJQ', 4.9324696113250965, None),\n",
       " ('AMKZHBOK7VMQR', 'B000N6DDJQ', 4.619578810464709, None),\n",
       " ('AWLFVCT9128JV', 'B000N6DDJQ', 3.84152868790956, None),\n",
       " ('ABN5K7K1TM1QA', 'B000N6DDJQ', 4.995998199189636, None),\n",
       " ('A3KF4IP2MUS8QQ', 'B000N6DDJQ', 4.051072982842279, None)]"
      ]
     },
     "execution_count": 21,
     "metadata": {},
     "output_type": "execute_result"
    }
   ],
   "source": [
    "raw_ratings = data.raw_ratings\n",
    "raw_ratings[:5]"
   ]
  },
  {
   "cell_type": "code",
   "execution_count": 22,
   "id": "059231fb",
   "metadata": {
    "execution": {
     "iopub.execute_input": "2023-04-15T05:43:24.058805Z",
     "iopub.status.busy": "2023-04-15T05:43:24.058332Z",
     "iopub.status.idle": "2023-04-15T05:43:25.032631Z",
     "shell.execute_reply": "2023-04-15T05:43:25.031518Z"
    },
    "papermill": {
     "duration": 0.989175,
     "end_time": "2023-04-15T05:43:25.035633",
     "exception": false,
     "start_time": "2023-04-15T05:43:24.046458",
     "status": "completed"
    },
    "tags": []
   },
   "outputs": [
    {
     "data": {
      "text/plain": [
       "<surprise.prediction_algorithms.matrix_factorization.NMF at 0x71a9ca90b750>"
      ]
     },
     "execution_count": 22,
     "metadata": {},
     "output_type": "execute_result"
    }
   ],
   "source": [
    "# Train NMF model\n",
    "model = NMF(n_factors=20, random_state=42)\n",
    "model.fit(trainset)"
   ]
  },
  {
   "cell_type": "code",
   "execution_count": 23,
   "id": "888efe9c",
   "metadata": {
    "execution": {
     "iopub.execute_input": "2023-04-15T05:43:25.059298Z",
     "iopub.status.busy": "2023-04-15T05:43:25.058886Z",
     "iopub.status.idle": "2023-04-15T05:43:25.088465Z",
     "shell.execute_reply": "2023-04-15T05:43:25.087119Z"
    },
    "papermill": {
     "duration": 0.044907,
     "end_time": "2023-04-15T05:43:25.091397",
     "exception": false,
     "start_time": "2023-04-15T05:43:25.046490",
     "status": "completed"
    },
    "tags": []
   },
   "outputs": [],
   "source": [
    "# Make predictions on test set\n",
    "predictions = model.test(testset)"
   ]
  },
  {
   "cell_type": "code",
   "execution_count": 24,
   "id": "17ac57ac",
   "metadata": {
    "execution": {
     "iopub.execute_input": "2023-04-15T05:43:25.116880Z",
     "iopub.status.busy": "2023-04-15T05:43:25.116128Z",
     "iopub.status.idle": "2023-04-15T05:43:25.130201Z",
     "shell.execute_reply": "2023-04-15T05:43:25.128520Z"
    },
    "papermill": {
     "duration": 0.030716,
     "end_time": "2023-04-15T05:43:25.132947",
     "exception": false,
     "start_time": "2023-04-15T05:43:25.102231",
     "status": "completed"
    },
    "tags": []
   },
   "outputs": [
    {
     "name": "stdout",
     "output_type": "stream",
     "text": [
      "RMSE: 0.6504\n"
     ]
    }
   ],
   "source": [
    "# Evaluate model\n",
    "rmse = accuracy.rmse(predictions)"
   ]
  },
  {
   "cell_type": "code",
   "execution_count": 25,
   "id": "2d0051a2",
   "metadata": {
    "execution": {
     "iopub.execute_input": "2023-04-15T05:43:25.157457Z",
     "iopub.status.busy": "2023-04-15T05:43:25.156212Z",
     "iopub.status.idle": "2023-04-15T05:43:33.029354Z",
     "shell.execute_reply": "2023-04-15T05:43:33.027478Z"
    },
    "papermill": {
     "duration": 7.888577,
     "end_time": "2023-04-15T05:43:33.032327",
     "exception": false,
     "start_time": "2023-04-15T05:43:25.143750",
     "status": "completed"
    },
    "tags": []
   },
   "outputs": [
    {
     "name": "stdout",
     "output_type": "stream",
     "text": [
      "RMSE: 0.7846\n",
      "RMSE: 0.6504\n",
      "RMSE: 0.6318\n",
      "RMSE: 0.6767\n",
      "RMSE: 0.7014\n",
      "RMSE: 0.7389\n"
     ]
    }
   ],
   "source": [
    "import matplotlib.pyplot as plt\n",
    "# %matplotlib.inline\n",
    "\n",
    "rmse_lst = []\n",
    "\n",
    "for i in range(10,70,10):\n",
    "    model = NMF(n_factors=i,random_state=42)\n",
    "    model.fit(trainset)\n",
    "    predictions = model.test(testset)\n",
    "    rmse = accuracy.rmse(predictions)\n",
    "    rmse_lst.append(rmse)"
   ]
  },
  {
   "cell_type": "code",
   "execution_count": 26,
   "id": "261cc0de",
   "metadata": {
    "execution": {
     "iopub.execute_input": "2023-04-15T05:43:33.057367Z",
     "iopub.status.busy": "2023-04-15T05:43:33.056057Z",
     "iopub.status.idle": "2023-04-15T05:43:33.310515Z",
     "shell.execute_reply": "2023-04-15T05:43:33.309175Z"
    },
    "papermill": {
     "duration": 0.269783,
     "end_time": "2023-04-15T05:43:33.313401",
     "exception": false,
     "start_time": "2023-04-15T05:43:33.043618",
     "status": "completed"
    },
    "tags": []
   },
   "outputs": [
    {
     "data": {
      "image/png": "[encoded data removed]",
      "text/plain": [
       "<Figure size 640x480 with 1 Axes>"
      ]
     },
     "metadata": {},
     "output_type": "display_data"
    }
   ],
   "source": [
    "x = range(10,70,10)\n",
    "y = rmse_lst\n",
    "\n",
    "plt.plot(x, y)\n",
    "plt.title('RMSE vs n_factors (NMF)')\n",
    "plt.xlabel('n_factor')\n",
    "plt.ylabel('RMSE')\n",
    "plt.show()"
   ]
  },
  {
   "cell_type": "code",
   "execution_count": null,
   "id": "7488d0b9",
   "metadata": {
    "papermill": {
     "duration": 0.011807,
     "end_time": "2023-04-15T05:43:33.337424",
     "exception": false,
     "start_time": "2023-04-15T05:43:33.325617",
     "status": "completed"
    },
    "tags": []
   },
   "outputs": [],
   "source": []
  },
  {
   "cell_type": "code",
   "execution_count": 27,
   "id": "c01c4686",
   "metadata": {
    "execution": {
     "iopub.execute_input": "2023-04-15T05:43:33.362893Z",
     "iopub.status.busy": "2023-04-15T05:43:33.362447Z",
     "iopub.status.idle": "2023-04-15T05:43:33.368264Z",
     "shell.execute_reply": "2023-04-15T05:43:33.366569Z"
    },
    "papermill": {
     "duration": 0.022106,
     "end_time": "2023-04-15T05:43:33.371290",
     "exception": false,
     "start_time": "2023-04-15T05:43:33.349184",
     "status": "completed"
    },
    "tags": []
   },
   "outputs": [],
   "source": [
    "from collections import defaultdict"
   ]
  },
  {
   "cell_type": "code",
   "execution_count": 28,
   "id": "2c5c19d9",
   "metadata": {
    "execution": {
     "iopub.execute_input": "2023-04-15T05:43:33.398429Z",
     "iopub.status.busy": "2023-04-15T05:43:33.397462Z",
     "iopub.status.idle": "2023-04-15T05:43:33.408810Z",
     "shell.execute_reply": "2023-04-15T05:43:33.407285Z"
    },
    "papermill": {
     "duration": 0.02768,
     "end_time": "2023-04-15T05:43:33.411971",
     "exception": false,
     "start_time": "2023-04-15T05:43:33.384291",
     "status": "completed"
    },
    "tags": []
   },
   "outputs": [],
   "source": [
    "def precision_recall_at_k(predictions, k=10, threshold=3):\n",
    "    \"\"\"Return precision and recall at k metrics for each user\"\"\"\n",
    "\n",
    "    # First map the predictions to each user.\n",
    "    user_est_true = defaultdict(list)\n",
    "    for uid, _, true_r, est, _ in predictions:\n",
    "        user_est_true[uid].append((est, true_r))\n",
    "\n",
    "    precisions = dict()\n",
    "    recalls = dict()\n",
    "    for uid, user_ratings in user_est_true.items():\n",
    "\n",
    "        # Sort user ratings by estimated value\n",
    "        user_ratings.sort(key=lambda x: x[0], reverse=True)\n",
    "\n",
    "        # Number of relevant items\n",
    "        n_rel = sum((true_r >= threshold) for (_, true_r) in user_ratings)\n",
    "\n",
    "        # Number of recommended items in top k\n",
    "        n_rec_k = sum((est >= threshold) for (est, _) in user_ratings[:k])\n",
    "\n",
    "        # Number of relevant and recommended items in top k\n",
    "        n_rel_and_rec_k = sum(\n",
    "            ((true_r >= threshold) and (est >= threshold))\n",
    "            for (est, true_r) in user_ratings[:k]\n",
    "        )\n",
    "\n",
    "        # Precision@K: Proportion of recommended items that are relevant\n",
    "        # When n_rec_k is 0, Precision is undefined. We here set it to 0.\n",
    "\n",
    "        precisions[uid] = n_rel_and_rec_k / n_rec_k if n_rec_k != 0 else 0\n",
    "\n",
    "        # Recall@K: Proportion of relevant items that are recommended\n",
    "        # When n_rel is 0, Recall is undefined. We here set it to 0.\n",
    "\n",
    "        recalls[uid] = n_rel_and_rec_k / n_rel if n_rel != 0 else 0\n",
    "\n",
    "    return precisions, recalls"
   ]
  },
  {
   "cell_type": "code",
   "execution_count": 29,
   "id": "0e4dfa86",
   "metadata": {
    "execution": {
     "iopub.execute_input": "2023-04-15T05:43:33.437201Z",
     "iopub.status.busy": "2023-04-15T05:43:33.436748Z",
     "iopub.status.idle": "2023-04-15T05:43:33.444806Z",
     "shell.execute_reply": "2023-04-15T05:43:33.443551Z"
    },
    "papermill": {
     "duration": 0.023982,
     "end_time": "2023-04-15T05:43:33.447680",
     "exception": false,
     "start_time": "2023-04-15T05:43:33.423698",
     "status": "completed"
    },
    "tags": []
   },
   "outputs": [
    {
     "data": {
      "text/plain": [
       "[Prediction(uid='A1BA72K4VK1UN1', iid='B000N6DGGQ', r_ui=1.0161072482617175, est=2.497676999562239, details={'was_impossible': False}),\n",
       " Prediction(uid='A3QW09WANRS6BZ', iid='1576467449', r_ui=3.9539792906808064, est=4.822367562281591, details={'was_impossible': False}),\n",
       " Prediction(uid='A21VR7M8O55EF6', iid='B000K6AVQC', r_ui=4.992996848581862, est=5, details={'was_impossible': False}),\n",
       " Prediction(uid='AFYYHRPSFBLWS', iid='B000P91JYW', r_ui=4.979240658296234, est=4.634615239008092, details={'was_impossible': False}),\n",
       " Prediction(uid='A22DUZU3XVA8HA', iid='B000H6XJVY', r_ui=4.586814066329849, est=5, details={'was_impossible': False})]"
      ]
     },
     "execution_count": 29,
     "metadata": {},
     "output_type": "execute_result"
    }
   ],
   "source": [
    "predictions[:5]"
   ]
  },
  {
   "cell_type": "code",
   "execution_count": 30,
   "id": "c10954fe",
   "metadata": {
    "execution": {
     "iopub.execute_input": "2023-04-15T05:43:33.474578Z",
     "iopub.status.busy": "2023-04-15T05:43:33.473516Z",
     "iopub.status.idle": "2023-04-15T05:43:33.486115Z",
     "shell.execute_reply": "2023-04-15T05:43:33.484732Z"
    },
    "papermill": {
     "duration": 0.028953,
     "end_time": "2023-04-15T05:43:33.488994",
     "exception": false,
     "start_time": "2023-04-15T05:43:33.460041",
     "status": "completed"
    },
    "tags": []
   },
   "outputs": [],
   "source": [
    "precisions, recalls = precision_recall_at_k(predictions, k=5, threshold=2.5)"
   ]
  },
  {
   "cell_type": "code",
   "execution_count": 31,
   "id": "7bfc5232",
   "metadata": {
    "execution": {
     "iopub.execute_input": "2023-04-15T05:43:33.515097Z",
     "iopub.status.busy": "2023-04-15T05:43:33.514246Z",
     "iopub.status.idle": "2023-04-15T05:43:33.521333Z",
     "shell.execute_reply": "2023-04-15T05:43:33.520055Z"
    },
    "papermill": {
     "duration": 0.023179,
     "end_time": "2023-04-15T05:43:33.524130",
     "exception": false,
     "start_time": "2023-04-15T05:43:33.500951",
     "status": "completed"
    },
    "tags": []
   },
   "outputs": [
    {
     "name": "stdout",
     "output_type": "stream",
     "text": [
      "0.9751537515375153\n",
      "0.6304167694881463\n"
     ]
    }
   ],
   "source": [
    "print(sum(prec for prec in precisions.values()) / len(precisions))\n",
    "print(sum(rec for rec in recalls.values()) / len(recalls))"
   ]
  },
  {
   "cell_type": "code",
   "execution_count": 32,
   "id": "3516eb9f",
   "metadata": {
    "execution": {
     "iopub.execute_input": "2023-04-15T05:43:33.549929Z",
     "iopub.status.busy": "2023-04-15T05:43:33.549492Z",
     "iopub.status.idle": "2023-04-15T05:43:33.573144Z",
     "shell.execute_reply": "2023-04-15T05:43:33.571671Z"
    },
    "papermill": {
     "duration": 0.039979,
     "end_time": "2023-04-15T05:43:33.576113",
     "exception": false,
     "start_time": "2023-04-15T05:43:33.536134",
     "status": "completed"
    },
    "tags": []
   },
   "outputs": [
    {
     "name": "stdout",
     "output_type": "stream",
     "text": [
      "1. B000PG70MK(The Hitchhiker's Guide to the Galaxy) with predicted rating of 5.00\n",
      "2. B000BKUZYA(The Hitchhiker's Guide to the Galaxy) with predicted rating of 5.00\n",
      "3. B0009JKV9W(The Hitchhiker's Guide to the Galaxy) with predicted rating of 5.00\n",
      "4. B000GRNWSY(The Hitchhiker's Guide to the Galaxy) with predicted rating of 5.00\n",
      "5. B000IOKF8U(Alice\"s Adventures in Wonderland) with predicted rating of 4.49\n"
     ]
    }
   ],
   "source": [
    "# Get the user ID for whom you want to make recommendations\n",
    "user_id = 'A1X8VZWTOG8IS6'\n",
    "\n",
    "# Get the list of all items (books) in the dataset\n",
    "items = df['book_id'].unique()\n",
    "\n",
    "# Predict the rating the user would give to each item and store in a dictionary\n",
    "item_ratings = {}\n",
    "for item in items:\n",
    "    predicted_rating = model.predict(user_id, item).est\n",
    "    item_ratings[item] = predicted_rating\n",
    "\n",
    "# Sort the items by predicted rating in descending order and select the top 5\n",
    "top_items = sorted(item_ratings.items(), key=lambda x: x[1], reverse=True)[:5]\n",
    "\n",
    "# Print the top 5 recommended books\n",
    "for i, item in enumerate(top_items):\n",
    "    print(f\"{i+1}. {item[0]}({df[df['book_id']==item[0]].iloc[0].title}) with predicted rating of {item[1]:.2f}\")"
   ]
  },
  {
   "cell_type": "code",
   "execution_count": 33,
   "id": "690413e0",
   "metadata": {
    "execution": {
     "iopub.execute_input": "2023-04-15T05:43:33.602042Z",
     "iopub.status.busy": "2023-04-15T05:43:33.601594Z",
     "iopub.status.idle": "2023-04-15T05:43:34.051208Z",
     "shell.execute_reply": "2023-04-15T05:43:34.049844Z"
    },
    "papermill": {
     "duration": 0.465939,
     "end_time": "2023-04-15T05:43:34.053931",
     "exception": false,
     "start_time": "2023-04-15T05:43:33.587992",
     "status": "completed"
    },
    "tags": []
   },
   "outputs": [
    {
     "data": {
      "text/plain": [
       "<surprise.prediction_algorithms.matrix_factorization.SVD at 0x71a9ca5d6790>"
      ]
     },
     "execution_count": 33,
     "metadata": {},
     "output_type": "execute_result"
    }
   ],
   "source": [
    "# Train NMF model\n",
    "model = SVD(n_factors=50, random_state=42)\n",
    "model.fit(trainset)"
   ]
  },
  {
   "cell_type": "code",
   "execution_count": 34,
   "id": "e7d35379",
   "metadata": {
    "execution": {
     "iopub.execute_input": "2023-04-15T05:43:34.080139Z",
     "iopub.status.busy": "2023-04-15T05:43:34.079696Z",
     "iopub.status.idle": "2023-04-15T05:43:34.122357Z",
     "shell.execute_reply": "2023-04-15T05:43:34.121144Z"
    },
    "papermill": {
     "duration": 0.059146,
     "end_time": "2023-04-15T05:43:34.125396",
     "exception": false,
     "start_time": "2023-04-15T05:43:34.066250",
     "status": "completed"
    },
    "tags": []
   },
   "outputs": [
    {
     "name": "stdout",
     "output_type": "stream",
     "text": [
      "RMSE: 0.7411\n"
     ]
    }
   ],
   "source": [
    "# Evaluate the model on the test set\n",
    "from surprise import accuracy\n",
    "predictions = model.test(testset)\n",
    "rmse = accuracy.rmse(predictions)"
   ]
  },
  {
   "cell_type": "code",
   "execution_count": 35,
   "id": "de96cbe1",
   "metadata": {
    "execution": {
     "iopub.execute_input": "2023-04-15T05:43:34.151191Z",
     "iopub.status.busy": "2023-04-15T05:43:34.150739Z",
     "iopub.status.idle": "2023-04-15T05:43:34.168669Z",
     "shell.execute_reply": "2023-04-15T05:43:34.167652Z"
    },
    "papermill": {
     "duration": 0.033779,
     "end_time": "2023-04-15T05:43:34.171217",
     "exception": false,
     "start_time": "2023-04-15T05:43:34.137438",
     "status": "completed"
    },
    "tags": []
   },
   "outputs": [
    {
     "name": "stdout",
     "output_type": "stream",
     "text": [
      "0.9703567035670357\n",
      "0.6292472670963192\n"
     ]
    }
   ],
   "source": [
    "precisions, recalls = precision_recall_at_k(predictions, k=5, threshold=2)\n",
    "print(sum(prec for prec in precisions.values()) / len(precisions))\n",
    "print(sum(rec for rec in recalls.values()) / len(recalls))"
   ]
  },
  {
   "cell_type": "code",
   "execution_count": null,
   "id": "91333d27",
   "metadata": {
    "papermill": {
     "duration": 0.012339,
     "end_time": "2023-04-15T05:43:34.196372",
     "exception": false,
     "start_time": "2023-04-15T05:43:34.184033",
     "status": "completed"
    },
    "tags": []
   },
   "outputs": [],
   "source": []
  }
 ],
 "metadata": {
  "kernelspec": {
   "display_name": "Python 3",
   "language": "python",
   "name": "python3"
  },
  "language_info": {
   "codemirror_mode": {
    "name": "ipython",
    "version": 3
   },
   "file_extension": ".py",
   "mimetype": "text/x-python",
   "name": "python",
   "nbconvert_exporter": "python",
   "pygments_lexer": "ipython3",
   "version": "3.7.12"
  },
  "papermill": {
   "default_parameters": {},
   "duration": 207.937974,
   "end_time": "2023-04-15T05:43:35.837904",
   "environment_variables": {},
   "exception": null,
   "input_path": "__notebook__.ipynb",
   "output_path": "__notebook__.ipynb",
   "parameters": {},
   "start_time": "2023-04-15T05:40:07.899930",
   "version": "2.4.0"
  }
 },
 "nbformat": 4,
 "nbformat_minor": 5
}
