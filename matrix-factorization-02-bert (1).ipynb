{
 "cells": [
  {
   "cell_type": "code",
   "execution_count": 1,
   "id": "d1851792",
   "metadata": {
    "_cell_guid": "b1076dfc-b9ad-4769-8c92-a6c4dae69d19",
    "_uuid": "8f2839f25d086af736a60e9eeb907d3b93b6e0e5",
    "execution": {
     "iopub.execute_input": "2023-04-15T05:48:15.558273Z",
     "iopub.status.busy": "2023-04-15T05:48:15.556817Z",
     "iopub.status.idle": "2023-04-15T05:48:15.575015Z",
     "shell.execute_reply": "2023-04-15T05:48:15.573868Z"
    },
    "papermill": {
     "duration": 0.031591,
     "end_time": "2023-04-15T05:48:15.578386",
     "exception": false,
     "start_time": "2023-04-15T05:48:15.546795",
     "status": "completed"
    },
    "tags": []
   },
   "outputs": [
    {
     "name": "stdout",
     "output_type": "stream",
     "text": [
      "/kaggle/input/ratings/sentiment_bert.csv\n",
      "/kaggle/input/ratings/sentiment.csv\n"
     ]
    }
   ],
   "source": [
    "# This Python 3 environment comes with many helpful analytics libraries installed\n",
    "# It is defined by the kaggle/python Docker image: https://github.com/kaggle/docker-python\n",
    "# For example, here's several helpful packages to load\n",
    "\n",
    "import numpy as np # linear algebra\n",
    "import pandas as pd # data processing, CSV file I/O (e.g. pd.read_csv)\n",
    "\n",
    "# Input data files are available in the read-only \"../input/\" directory\n",
    "# For example, running this (by clicking run or pressing Shift+Enter) will list all files under the input directory\n",
    "\n",
    "import os\n",
    "for dirname, _, filenames in os.walk('/kaggle/input'):\n",
    "    for filename in filenames:\n",
    "        print(os.path.join(dirname, filename))\n",
    "\n",
    "# You can write up to 20GB to the current directory (/kaggle/working/) that gets preserved as output when you create a version using \"Save & Run All\" \n",
    "# You can also write temporary files to /kaggle/temp/, but they won't be saved outside of the current session"
   ]
  },
  {
   "cell_type": "code",
   "execution_count": 2,
   "id": "13ed950b",
   "metadata": {
    "execution": {
     "iopub.execute_input": "2023-04-15T05:48:15.594701Z",
     "iopub.status.busy": "2023-04-15T05:48:15.594379Z",
     "iopub.status.idle": "2023-04-15T05:48:15.598678Z",
     "shell.execute_reply": "2023-04-15T05:48:15.597599Z"
    },
    "papermill": {
     "duration": 0.014247,
     "end_time": "2023-04-15T05:48:15.600725",
     "exception": false,
     "start_time": "2023-04-15T05:48:15.586478",
     "status": "completed"
    },
    "tags": []
   },
   "outputs": [],
   "source": [
    "# !nvidia-smi"
   ]
  },
  {
   "cell_type": "code",
   "execution_count": 3,
   "id": "2b3c9bd3",
   "metadata": {
    "execution": {
     "iopub.execute_input": "2023-04-15T05:48:15.616854Z",
     "iopub.status.busy": "2023-04-15T05:48:15.615428Z",
     "iopub.status.idle": "2023-04-15T05:48:16.222717Z",
     "shell.execute_reply": "2023-04-15T05:48:16.221333Z"
    },
    "papermill": {
     "duration": 0.617293,
     "end_time": "2023-04-15T05:48:16.225016",
     "exception": false,
     "start_time": "2023-04-15T05:48:15.607723",
     "status": "completed"
    },
    "tags": []
   },
   "outputs": [
    {
     "data": {
      "text/html": [
       "<div>\n",
       "<style scoped>\n",
       "    .dataframe tbody tr th:only-of-type {\n",
       "        vertical-align: middle;\n",
       "    }\n",
       "\n",
       "    .dataframe tbody tr th {\n",
       "        vertical-align: top;\n",
       "    }\n",
       "\n",
       "    .dataframe thead th {\n",
       "        text-align: right;\n",
       "    }\n",
       "</style>\n",
       "<table border=\"1\" class=\"dataframe\">\n",
       "  <thead>\n",
       "    <tr style=\"text-align: right;\">\n",
       "      <th></th>\n",
       "      <th>index</th>\n",
       "      <th>book_id</th>\n",
       "      <th>user_id</th>\n",
       "      <th>review</th>\n",
       "      <th>title</th>\n",
       "      <th>rating</th>\n",
       "      <th>sentiment</th>\n",
       "    </tr>\n",
       "  </thead>\n",
       "  <tbody>\n",
       "    <tr>\n",
       "      <th>0</th>\n",
       "      <td>1747</td>\n",
       "      <td>B000N6DDJQ</td>\n",
       "      <td>AUM3YMZ0YRJE0</td>\n",
       "      <td>WHen I finally started reading this classic, I...</td>\n",
       "      <td>The Scarlet Letter A Romance</td>\n",
       "      <td>5.0</td>\n",
       "      <td>0.451157</td>\n",
       "    </tr>\n",
       "    <tr>\n",
       "      <th>1</th>\n",
       "      <td>1807</td>\n",
       "      <td>B000N6DDJQ</td>\n",
       "      <td>AMKZHBOK7VMQR</td>\n",
       "      <td>Hawthorne wrote a masterful work of historical...</td>\n",
       "      <td>The Scarlet Letter A Romance</td>\n",
       "      <td>5.0</td>\n",
       "      <td>0.636971</td>\n",
       "    </tr>\n",
       "    <tr>\n",
       "      <th>2</th>\n",
       "      <td>1820</td>\n",
       "      <td>B000N6DDJQ</td>\n",
       "      <td>AWLFVCT9128JV</td>\n",
       "      <td>I don't suppose anything can ruin a book more ...</td>\n",
       "      <td>The Scarlet Letter A Romance</td>\n",
       "      <td>4.0</td>\n",
       "      <td>0.481272</td>\n",
       "    </tr>\n",
       "    <tr>\n",
       "      <th>3</th>\n",
       "      <td>1829</td>\n",
       "      <td>B000N6DDJQ</td>\n",
       "      <td>ABN5K7K1TM1QA</td>\n",
       "      <td>\"All have sinned and fall short of the glory o...</td>\n",
       "      <td>The Scarlet Letter A Romance</td>\n",
       "      <td>5.0</td>\n",
       "      <td>0.495467</td>\n",
       "    </tr>\n",
       "    <tr>\n",
       "      <th>4</th>\n",
       "      <td>1830</td>\n",
       "      <td>B000N6DDJQ</td>\n",
       "      <td>A3IKBHODOTYYHM</td>\n",
       "      <td>I think the many readers who were forced to pa...</td>\n",
       "      <td>The Scarlet Letter A Romance</td>\n",
       "      <td>4.0</td>\n",
       "      <td>0.480073</td>\n",
       "    </tr>\n",
       "  </tbody>\n",
       "</table>\n",
       "</div>"
      ],
      "text/plain": [
       "   index     book_id         user_id  \\\n",
       "0   1747  B000N6DDJQ   AUM3YMZ0YRJE0   \n",
       "1   1807  B000N6DDJQ   AMKZHBOK7VMQR   \n",
       "2   1820  B000N6DDJQ   AWLFVCT9128JV   \n",
       "3   1829  B000N6DDJQ   ABN5K7K1TM1QA   \n",
       "4   1830  B000N6DDJQ  A3IKBHODOTYYHM   \n",
       "\n",
       "                                              review  \\\n",
       "0  WHen I finally started reading this classic, I...   \n",
       "1  Hawthorne wrote a masterful work of historical...   \n",
       "2  I don't suppose anything can ruin a book more ...   \n",
       "3  \"All have sinned and fall short of the glory o...   \n",
       "4  I think the many readers who were forced to pa...   \n",
       "\n",
       "                          title  rating  sentiment  \n",
       "0  The Scarlet Letter A Romance     5.0   0.451157  \n",
       "1  The Scarlet Letter A Romance     5.0   0.636971  \n",
       "2  The Scarlet Letter A Romance     4.0   0.481272  \n",
       "3  The Scarlet Letter A Romance     5.0   0.495467  \n",
       "4  The Scarlet Letter A Romance     4.0   0.480073  "
      ]
     },
     "execution_count": 3,
     "metadata": {},
     "output_type": "execute_result"
    }
   ],
   "source": [
    "df = pd.read_csv('/kaggle/input/ratings/sentiment.csv')\n",
    "df.head()"
   ]
  },
  {
   "cell_type": "code",
   "execution_count": 4,
   "id": "eaf792f7",
   "metadata": {
    "execution": {
     "iopub.execute_input": "2023-04-15T05:48:16.242691Z",
     "iopub.status.busy": "2023-04-15T05:48:16.240988Z",
     "iopub.status.idle": "2023-04-15T05:48:16.246556Z",
     "shell.execute_reply": "2023-04-15T05:48:16.245667Z"
    },
    "papermill": {
     "duration": 0.016145,
     "end_time": "2023-04-15T05:48:16.248725",
     "exception": false,
     "start_time": "2023-04-15T05:48:16.232580",
     "status": "completed"
    },
    "tags": []
   },
   "outputs": [],
   "source": [
    "# from nltk.corpus import stopwords\n",
    "# from nltk.stem import PorterStemmer\n",
    "# stop_words = stopwords.words('english')\n",
    "\n",
    "# porter = PorterStemmer()"
   ]
  },
  {
   "cell_type": "code",
   "execution_count": 5,
   "id": "bb1f8576",
   "metadata": {
    "execution": {
     "iopub.execute_input": "2023-04-15T05:48:16.264697Z",
     "iopub.status.busy": "2023-04-15T05:48:16.264387Z",
     "iopub.status.idle": "2023-04-15T05:48:16.268816Z",
     "shell.execute_reply": "2023-04-15T05:48:16.267751Z"
    },
    "papermill": {
     "duration": 0.015068,
     "end_time": "2023-04-15T05:48:16.271328",
     "exception": false,
     "start_time": "2023-04-15T05:48:16.256260",
     "status": "completed"
    },
    "tags": []
   },
   "outputs": [],
   "source": [
    "# import re\n",
    "# def clean_text(words):\n",
    "#     \"\"\"The function to clean text\"\"\"\n",
    "#     words = re.sub(\"[^a-zA-Z]\",\" \", words)\n",
    "#     text = words.lower().split()                   \n",
    "#     return \" \".join(text)\n",
    "\n",
    "# def remove_stopwords(text):\n",
    "#     \"\"\"The function to removing stopwords\"\"\"\n",
    "#     text = [word.lower() for word in text.split() if word.lower() not in stop_words]\n",
    "#     return \" \".join(text)\n",
    "\n",
    "# def stemmer(stem_text):\n",
    "#     \"\"\"The function to apply stemming\"\"\"\n",
    "#     stem_text = [porter.stem(word) for word in stem_text.split()]\n",
    "#     return \" \".join(stem_text)"
   ]
  },
  {
   "cell_type": "code",
   "execution_count": 6,
   "id": "7ac391c4",
   "metadata": {
    "execution": {
     "iopub.execute_input": "2023-04-15T05:48:16.287013Z",
     "iopub.status.busy": "2023-04-15T05:48:16.286500Z",
     "iopub.status.idle": "2023-04-15T05:48:16.292025Z",
     "shell.execute_reply": "2023-04-15T05:48:16.291132Z"
    },
    "papermill": {
     "duration": 0.015833,
     "end_time": "2023-04-15T05:48:16.294217",
     "exception": false,
     "start_time": "2023-04-15T05:48:16.278384",
     "status": "completed"
    },
    "tags": []
   },
   "outputs": [],
   "source": [
    "# df['review'] = df['review'].apply(clean_text)\n",
    "# df['review'] = df['review'].apply(remove_stopwords)\n",
    "# df['review'] = df['review'].apply(stemmer)"
   ]
  },
  {
   "cell_type": "code",
   "execution_count": 7,
   "id": "38c3c86f",
   "metadata": {
    "execution": {
     "iopub.execute_input": "2023-04-15T05:48:16.310064Z",
     "iopub.status.busy": "2023-04-15T05:48:16.309486Z",
     "iopub.status.idle": "2023-04-15T05:48:16.314352Z",
     "shell.execute_reply": "2023-04-15T05:48:16.313299Z"
    },
    "papermill": {
     "duration": 0.015426,
     "end_time": "2023-04-15T05:48:16.316731",
     "exception": false,
     "start_time": "2023-04-15T05:48:16.301305",
     "status": "completed"
    },
    "tags": []
   },
   "outputs": [],
   "source": [
    "# import tensorflow as tf\n",
    "# from transformers import BertTokenizer, TFBertModel\n",
    "\n",
    "# # Load the pre-trained BERT tokenizer and model\n",
    "# tokenizer = BertTokenizer.from_pretrained('bert-base-uncased')\n",
    "# model = TFBertModel.from_pretrained('bert-base-uncased')\n",
    "\n",
    "# # Define a function to generate a sentiment score from a review using BERT\n",
    "# def generate_sentiment_score(review):\n",
    "#     # Tokenize the review text\n",
    "#     inputs = tokenizer.encode_plus(review, add_special_tokens=True, return_tensors='tf')\n",
    "\n",
    "#     # Pass the tokenized inputs through the BERT model to generate embeddings\n",
    "#     outputs = model(inputs)\n",
    "#     embeddings = outputs.last_hidden_state\n",
    "\n",
    "#     # Compute a sentiment score by averaging the embeddings for each token\n",
    "#     mean_embedding = tf.reduce_mean(embeddings, axis=1)\n",
    "#     sentiment_score = tf.keras.layers.Dense(1, activation='sigmoid')(mean_embedding)\n",
    "\n",
    "#     # Return the sentiment score as a float between 0 and 1\n",
    "#     return float(sentiment_score.numpy())\n"
   ]
  },
  {
   "cell_type": "code",
   "execution_count": 8,
   "id": "9341ab17",
   "metadata": {
    "execution": {
     "iopub.execute_input": "2023-04-15T05:48:16.332979Z",
     "iopub.status.busy": "2023-04-15T05:48:16.332682Z",
     "iopub.status.idle": "2023-04-15T05:48:16.336944Z",
     "shell.execute_reply": "2023-04-15T05:48:16.335913Z"
    },
    "papermill": {
     "duration": 0.014378,
     "end_time": "2023-04-15T05:48:16.339045",
     "exception": false,
     "start_time": "2023-04-15T05:48:16.324667",
     "status": "completed"
    },
    "tags": []
   },
   "outputs": [],
   "source": [
    "# df['sentiment'] = df['review'].apply(lambda x: generate_sentiment_score(x))"
   ]
  },
  {
   "cell_type": "code",
   "execution_count": 9,
   "id": "21b60e19",
   "metadata": {
    "execution": {
     "iopub.execute_input": "2023-04-15T05:48:16.354668Z",
     "iopub.status.busy": "2023-04-15T05:48:16.354372Z",
     "iopub.status.idle": "2023-04-15T05:48:16.367717Z",
     "shell.execute_reply": "2023-04-15T05:48:16.366660Z"
    },
    "papermill": {
     "duration": 0.023774,
     "end_time": "2023-04-15T05:48:16.369919",
     "exception": false,
     "start_time": "2023-04-15T05:48:16.346145",
     "status": "completed"
    },
    "tags": []
   },
   "outputs": [
    {
     "data": {
      "text/html": [
       "<div>\n",
       "<style scoped>\n",
       "    .dataframe tbody tr th:only-of-type {\n",
       "        vertical-align: middle;\n",
       "    }\n",
       "\n",
       "    .dataframe tbody tr th {\n",
       "        vertical-align: top;\n",
       "    }\n",
       "\n",
       "    .dataframe thead th {\n",
       "        text-align: right;\n",
       "    }\n",
       "</style>\n",
       "<table border=\"1\" class=\"dataframe\">\n",
       "  <thead>\n",
       "    <tr style=\"text-align: right;\">\n",
       "      <th></th>\n",
       "      <th>index</th>\n",
       "      <th>book_id</th>\n",
       "      <th>user_id</th>\n",
       "      <th>review</th>\n",
       "      <th>title</th>\n",
       "      <th>rating</th>\n",
       "      <th>sentiment</th>\n",
       "    </tr>\n",
       "  </thead>\n",
       "  <tbody>\n",
       "    <tr>\n",
       "      <th>0</th>\n",
       "      <td>1747</td>\n",
       "      <td>B000N6DDJQ</td>\n",
       "      <td>AUM3YMZ0YRJE0</td>\n",
       "      <td>WHen I finally started reading this classic, I...</td>\n",
       "      <td>The Scarlet Letter A Romance</td>\n",
       "      <td>5.0</td>\n",
       "      <td>0.451157</td>\n",
       "    </tr>\n",
       "    <tr>\n",
       "      <th>1</th>\n",
       "      <td>1807</td>\n",
       "      <td>B000N6DDJQ</td>\n",
       "      <td>AMKZHBOK7VMQR</td>\n",
       "      <td>Hawthorne wrote a masterful work of historical...</td>\n",
       "      <td>The Scarlet Letter A Romance</td>\n",
       "      <td>5.0</td>\n",
       "      <td>0.636971</td>\n",
       "    </tr>\n",
       "    <tr>\n",
       "      <th>2</th>\n",
       "      <td>1820</td>\n",
       "      <td>B000N6DDJQ</td>\n",
       "      <td>AWLFVCT9128JV</td>\n",
       "      <td>I don't suppose anything can ruin a book more ...</td>\n",
       "      <td>The Scarlet Letter A Romance</td>\n",
       "      <td>4.0</td>\n",
       "      <td>0.481272</td>\n",
       "    </tr>\n",
       "    <tr>\n",
       "      <th>3</th>\n",
       "      <td>1829</td>\n",
       "      <td>B000N6DDJQ</td>\n",
       "      <td>ABN5K7K1TM1QA</td>\n",
       "      <td>\"All have sinned and fall short of the glory o...</td>\n",
       "      <td>The Scarlet Letter A Romance</td>\n",
       "      <td>5.0</td>\n",
       "      <td>0.495467</td>\n",
       "    </tr>\n",
       "    <tr>\n",
       "      <th>4</th>\n",
       "      <td>1830</td>\n",
       "      <td>B000N6DDJQ</td>\n",
       "      <td>A3IKBHODOTYYHM</td>\n",
       "      <td>I think the many readers who were forced to pa...</td>\n",
       "      <td>The Scarlet Letter A Romance</td>\n",
       "      <td>4.0</td>\n",
       "      <td>0.480073</td>\n",
       "    </tr>\n",
       "  </tbody>\n",
       "</table>\n",
       "</div>"
      ],
      "text/plain": [
       "   index     book_id         user_id  \\\n",
       "0   1747  B000N6DDJQ   AUM3YMZ0YRJE0   \n",
       "1   1807  B000N6DDJQ   AMKZHBOK7VMQR   \n",
       "2   1820  B000N6DDJQ   AWLFVCT9128JV   \n",
       "3   1829  B000N6DDJQ   ABN5K7K1TM1QA   \n",
       "4   1830  B000N6DDJQ  A3IKBHODOTYYHM   \n",
       "\n",
       "                                              review  \\\n",
       "0  WHen I finally started reading this classic, I...   \n",
       "1  Hawthorne wrote a masterful work of historical...   \n",
       "2  I don't suppose anything can ruin a book more ...   \n",
       "3  \"All have sinned and fall short of the glory o...   \n",
       "4  I think the many readers who were forced to pa...   \n",
       "\n",
       "                          title  rating  sentiment  \n",
       "0  The Scarlet Letter A Romance     5.0   0.451157  \n",
       "1  The Scarlet Letter A Romance     5.0   0.636971  \n",
       "2  The Scarlet Letter A Romance     4.0   0.481272  \n",
       "3  The Scarlet Letter A Romance     5.0   0.495467  \n",
       "4  The Scarlet Letter A Romance     4.0   0.480073  "
      ]
     },
     "execution_count": 9,
     "metadata": {},
     "output_type": "execute_result"
    }
   ],
   "source": [
    "df.head()"
   ]
  },
  {
   "cell_type": "code",
   "execution_count": 10,
   "id": "6016e561",
   "metadata": {
    "execution": {
     "iopub.execute_input": "2023-04-15T05:48:16.386159Z",
     "iopub.status.busy": "2023-04-15T05:48:16.385859Z",
     "iopub.status.idle": "2023-04-15T05:48:16.875498Z",
     "shell.execute_reply": "2023-04-15T05:48:16.874476Z"
    },
    "papermill": {
     "duration": 0.500743,
     "end_time": "2023-04-15T05:48:16.878196",
     "exception": false,
     "start_time": "2023-04-15T05:48:16.377453",
     "status": "completed"
    },
    "tags": []
   },
   "outputs": [],
   "source": [
    "df.to_csv('ratings.csv',index=False)"
   ]
  },
  {
   "cell_type": "code",
   "execution_count": 11,
   "id": "135fd4de",
   "metadata": {
    "execution": {
     "iopub.execute_input": "2023-04-15T05:48:16.895303Z",
     "iopub.status.busy": "2023-04-15T05:48:16.894983Z",
     "iopub.status.idle": "2023-04-15T05:48:16.900193Z",
     "shell.execute_reply": "2023-04-15T05:48:16.899291Z"
    },
    "papermill": {
     "duration": 0.016319,
     "end_time": "2023-04-15T05:48:16.902278",
     "exception": false,
     "start_time": "2023-04-15T05:48:16.885959",
     "status": "completed"
    },
    "tags": []
   },
   "outputs": [],
   "source": [
    "# df.drop(['index'],axis=1,inplace=True)"
   ]
  },
  {
   "cell_type": "code",
   "execution_count": 12,
   "id": "760d578d",
   "metadata": {
    "execution": {
     "iopub.execute_input": "2023-04-15T05:48:16.917972Z",
     "iopub.status.busy": "2023-04-15T05:48:16.917677Z",
     "iopub.status.idle": "2023-04-15T05:48:16.934803Z",
     "shell.execute_reply": "2023-04-15T05:48:16.933934Z"
    },
    "papermill": {
     "duration": 0.027858,
     "end_time": "2023-04-15T05:48:16.937280",
     "exception": false,
     "start_time": "2023-04-15T05:48:16.909422",
     "status": "completed"
    },
    "tags": []
   },
   "outputs": [],
   "source": [
    "df = df.loc[~((df.rating.isin([1,2])) & (df['sentiment'] > 0.6))]\n",
    "df = df.loc[~((df.rating.isin([4,5])) & (df['sentiment'] < 0.4))]"
   ]
  },
  {
   "cell_type": "code",
   "execution_count": 13,
   "id": "42f9b4ea",
   "metadata": {
    "execution": {
     "iopub.execute_input": "2023-04-15T05:48:16.953564Z",
     "iopub.status.busy": "2023-04-15T05:48:16.953276Z",
     "iopub.status.idle": "2023-04-15T05:48:16.960341Z",
     "shell.execute_reply": "2023-04-15T05:48:16.959307Z"
    },
    "papermill": {
     "duration": 0.017741,
     "end_time": "2023-04-15T05:48:16.962479",
     "exception": false,
     "start_time": "2023-04-15T05:48:16.944738",
     "status": "completed"
    },
    "tags": []
   },
   "outputs": [
    {
     "data": {
      "text/plain": [
       "(14355, 7)"
      ]
     },
     "execution_count": 13,
     "metadata": {},
     "output_type": "execute_result"
    }
   ],
   "source": [
    "df.shape"
   ]
  },
  {
   "cell_type": "code",
   "execution_count": 14,
   "id": "d9d4358b",
   "metadata": {
    "execution": {
     "iopub.execute_input": "2023-04-15T05:48:16.978234Z",
     "iopub.status.busy": "2023-04-15T05:48:16.977954Z",
     "iopub.status.idle": "2023-04-15T05:48:17.069904Z",
     "shell.execute_reply": "2023-04-15T05:48:17.068908Z"
    },
    "papermill": {
     "duration": 0.102569,
     "end_time": "2023-04-15T05:48:17.072422",
     "exception": false,
     "start_time": "2023-04-15T05:48:16.969853",
     "status": "completed"
    },
    "tags": []
   },
   "outputs": [],
   "source": [
    "from surprise import Dataset, Reader\n",
    "from surprise import NMF, SVD\n",
    "from surprise.model_selection import train_test_split\n",
    "from surprise import accuracy"
   ]
  },
  {
   "cell_type": "code",
   "execution_count": 15,
   "id": "9aced8a8",
   "metadata": {
    "execution": {
     "iopub.execute_input": "2023-04-15T05:48:17.089274Z",
     "iopub.status.busy": "2023-04-15T05:48:17.088956Z",
     "iopub.status.idle": "2023-04-15T05:48:17.095488Z",
     "shell.execute_reply": "2023-04-15T05:48:17.094538Z"
    },
    "papermill": {
     "duration": 0.017152,
     "end_time": "2023-04-15T05:48:17.097572",
     "exception": false,
     "start_time": "2023-04-15T05:48:17.080420",
     "status": "completed"
    },
    "tags": []
   },
   "outputs": [],
   "source": [
    "# Combine the rating and sentiment scores into a single score\n",
    "df['hybrid_score'] = df['rating'] * df['sentiment']"
   ]
  },
  {
   "cell_type": "code",
   "execution_count": 16,
   "id": "58ec797c",
   "metadata": {
    "execution": {
     "iopub.execute_input": "2023-04-15T05:48:17.113618Z",
     "iopub.status.busy": "2023-04-15T05:48:17.113335Z",
     "iopub.status.idle": "2023-04-15T05:48:17.118917Z",
     "shell.execute_reply": "2023-04-15T05:48:17.118053Z"
    },
    "papermill": {
     "duration": 0.015842,
     "end_time": "2023-04-15T05:48:17.121019",
     "exception": false,
     "start_time": "2023-04-15T05:48:17.105177",
     "status": "completed"
    },
    "tags": []
   },
   "outputs": [],
   "source": [
    "# load data from a file\n",
    "reader = Reader(line_format='user item rating', sep=',')"
   ]
  },
  {
   "cell_type": "code",
   "execution_count": 17,
   "id": "932ed94b",
   "metadata": {
    "execution": {
     "iopub.execute_input": "2023-04-15T05:48:17.137425Z",
     "iopub.status.busy": "2023-04-15T05:48:17.136522Z",
     "iopub.status.idle": "2023-04-15T05:48:17.158341Z",
     "shell.execute_reply": "2023-04-15T05:48:17.157417Z"
    },
    "papermill": {
     "duration": 0.032295,
     "end_time": "2023-04-15T05:48:17.160615",
     "exception": false,
     "start_time": "2023-04-15T05:48:17.128320",
     "status": "completed"
    },
    "tags": []
   },
   "outputs": [],
   "source": [
    "data = Dataset.load_from_df(df[['user_id', 'book_id', 'hybrid_score']], reader=reader)"
   ]
  },
  {
   "cell_type": "code",
   "execution_count": 18,
   "id": "372e8fb1",
   "metadata": {
    "execution": {
     "iopub.execute_input": "2023-04-15T05:48:17.176502Z",
     "iopub.status.busy": "2023-04-15T05:48:17.176218Z",
     "iopub.status.idle": "2023-04-15T05:48:17.194092Z",
     "shell.execute_reply": "2023-04-15T05:48:17.192981Z"
    },
    "papermill": {
     "duration": 0.028126,
     "end_time": "2023-04-15T05:48:17.196089",
     "exception": false,
     "start_time": "2023-04-15T05:48:17.167963",
     "status": "completed"
    },
    "tags": []
   },
   "outputs": [],
   "source": [
    "# Split the data into training and testing sets\n",
    "trainset, testset = train_test_split(data, test_size=.25)"
   ]
  },
  {
   "cell_type": "code",
   "execution_count": 19,
   "id": "ca95a253",
   "metadata": {
    "execution": {
     "iopub.execute_input": "2023-04-15T05:48:17.212711Z",
     "iopub.status.busy": "2023-04-15T05:48:17.211891Z",
     "iopub.status.idle": "2023-04-15T05:48:17.218725Z",
     "shell.execute_reply": "2023-04-15T05:48:17.217694Z"
    },
    "papermill": {
     "duration": 0.017195,
     "end_time": "2023-04-15T05:48:17.220795",
     "exception": false,
     "start_time": "2023-04-15T05:48:17.203600",
     "status": "completed"
    },
    "tags": []
   },
   "outputs": [
    {
     "data": {
      "text/plain": [
       "[('AUM3YMZ0YRJE0', 'B000N6DDJQ', 2.255786806344986, None),\n",
       " ('AMKZHBOK7VMQR', 'B000N6DDJQ', 3.1848567724227905, None),\n",
       " ('AWLFVCT9128JV', 'B000N6DDJQ', 1.9250879287719724, None),\n",
       " ('ABN5K7K1TM1QA', 'B000N6DDJQ', 2.477333843708038, None),\n",
       " ('A3IKBHODOTYYHM', 'B000N6DDJQ', 1.9202926158905027, None)]"
      ]
     },
     "execution_count": 19,
     "metadata": {},
     "output_type": "execute_result"
    }
   ],
   "source": [
    "raw_ratings = data.raw_ratings\n",
    "raw_ratings[:5]"
   ]
  },
  {
   "cell_type": "code",
   "execution_count": 20,
   "id": "ec011cba",
   "metadata": {
    "execution": {
     "iopub.execute_input": "2023-04-15T05:48:17.238385Z",
     "iopub.status.busy": "2023-04-15T05:48:17.236711Z",
     "iopub.status.idle": "2023-04-15T05:48:18.644807Z",
     "shell.execute_reply": "2023-04-15T05:48:18.643686Z"
    },
    "papermill": {
     "duration": 1.418791,
     "end_time": "2023-04-15T05:48:18.647028",
     "exception": false,
     "start_time": "2023-04-15T05:48:17.228237",
     "status": "completed"
    },
    "tags": []
   },
   "outputs": [
    {
     "data": {
      "text/plain": [
       "<surprise.prediction_algorithms.matrix_factorization.NMF at 0x78ff1e941450>"
      ]
     },
     "execution_count": 20,
     "metadata": {},
     "output_type": "execute_result"
    }
   ],
   "source": [
    "# Train NMF model\n",
    "model = NMF(n_factors=50, random_state=42)\n",
    "model.fit(trainset)"
   ]
  },
  {
   "cell_type": "code",
   "execution_count": 21,
   "id": "6bde76ae",
   "metadata": {
    "execution": {
     "iopub.execute_input": "2023-04-15T05:48:18.664686Z",
     "iopub.status.busy": "2023-04-15T05:48:18.663732Z",
     "iopub.status.idle": "2023-04-15T05:48:18.731127Z",
     "shell.execute_reply": "2023-04-15T05:48:18.729782Z"
    },
    "papermill": {
     "duration": 0.078577,
     "end_time": "2023-04-15T05:48:18.733458",
     "exception": false,
     "start_time": "2023-04-15T05:48:18.654881",
     "status": "completed"
    },
    "tags": []
   },
   "outputs": [
    {
     "name": "stdout",
     "output_type": "stream",
     "text": [
      "RMSE: 0.5054\n"
     ]
    }
   ],
   "source": [
    "# Evaluate the model on the test set\n",
    "from surprise import accuracy\n",
    "predictions = model.test(testset)\n",
    "rmse = accuracy.rmse(predictions)"
   ]
  },
  {
   "cell_type": "code",
   "execution_count": 22,
   "id": "290022eb",
   "metadata": {
    "execution": {
     "iopub.execute_input": "2023-04-15T05:48:18.750650Z",
     "iopub.status.busy": "2023-04-15T05:48:18.750331Z",
     "iopub.status.idle": "2023-04-15T05:48:25.348229Z",
     "shell.execute_reply": "2023-04-15T05:48:25.347197Z"
    },
    "papermill": {
     "duration": 6.608776,
     "end_time": "2023-04-15T05:48:25.350461",
     "exception": false,
     "start_time": "2023-04-15T05:48:18.741685",
     "status": "completed"
    },
    "tags": []
   },
   "outputs": [
    {
     "name": "stdout",
     "output_type": "stream",
     "text": [
      "RMSE: 0.5277\n",
      "RMSE: 0.5105\n",
      "RMSE: 0.5059\n",
      "RMSE: 0.5048\n",
      "RMSE: 0.5054\n",
      "RMSE: 0.5051\n"
     ]
    }
   ],
   "source": [
    "import matplotlib.pyplot as plt\n",
    "# %matplotlib.inline\n",
    "\n",
    "rmse_lst = []\n",
    "\n",
    "for i in range(10,70,10):\n",
    "    model = NMF(n_factors=i,random_state=42)\n",
    "    model.fit(trainset)\n",
    "    predictions = model.test(testset)\n",
    "    rmse = accuracy.rmse(predictions)\n",
    "    rmse_lst.append(rmse)"
   ]
  },
  {
   "cell_type": "code",
   "execution_count": 23,
   "id": "e8b0ce94",
   "metadata": {
    "execution": {
     "iopub.execute_input": "2023-04-15T05:48:25.368368Z",
     "iopub.status.busy": "2023-04-15T05:48:25.368064Z",
     "iopub.status.idle": "2023-04-15T05:48:25.586044Z",
     "shell.execute_reply": "2023-04-15T05:48:25.585060Z"
    },
    "papermill": {
     "duration": 0.229787,
     "end_time": "2023-04-15T05:48:25.588446",
     "exception": false,
     "start_time": "2023-04-15T05:48:25.358659",
     "status": "completed"
    },
    "tags": []
   },
   "outputs": [
    {
     "data": {
      "image/png": "[encoded data removed]",
      "text/plain": [
       "<Figure size 640x480 with 1 Axes>"
      ]
     },
     "metadata": {},
     "output_type": "display_data"
    }
   ],
   "source": [
    "x = range(10,70,10)\n",
    "y = rmse_lst\n",
    "\n",
    "plt.plot(x, y)\n",
    "plt.title('RMSE vs n_factors (NMF)')\n",
    "plt.xlabel('n_factor')\n",
    "plt.ylabel('RMSE')\n",
    "plt.show()"
   ]
  },
  {
   "cell_type": "code",
   "execution_count": 24,
   "id": "f3e1df46",
   "metadata": {
    "execution": {
     "iopub.execute_input": "2023-04-15T05:48:25.607831Z",
     "iopub.status.busy": "2023-04-15T05:48:25.607432Z",
     "iopub.status.idle": "2023-04-15T05:48:25.613930Z",
     "shell.execute_reply": "2023-04-15T05:48:25.612917Z"
    },
    "papermill": {
     "duration": 0.018791,
     "end_time": "2023-04-15T05:48:25.616459",
     "exception": false,
     "start_time": "2023-04-15T05:48:25.597668",
     "status": "completed"
    },
    "tags": []
   },
   "outputs": [],
   "source": [
    "from collections import defaultdict"
   ]
  },
  {
   "cell_type": "code",
   "execution_count": 25,
   "id": "ee6cfeb8",
   "metadata": {
    "execution": {
     "iopub.execute_input": "2023-04-15T05:48:25.637546Z",
     "iopub.status.busy": "2023-04-15T05:48:25.636523Z",
     "iopub.status.idle": "2023-04-15T05:48:25.647667Z",
     "shell.execute_reply": "2023-04-15T05:48:25.646673Z"
    },
    "papermill": {
     "duration": 0.024206,
     "end_time": "2023-04-15T05:48:25.650074",
     "exception": false,
     "start_time": "2023-04-15T05:48:25.625868",
     "status": "completed"
    },
    "tags": []
   },
   "outputs": [],
   "source": [
    "def precision_recall_at_k(predictions, k=10, threshold=3.5):\n",
    "    \"\"\"Return precision and recall at k metrics for each user\"\"\"\n",
    "\n",
    "    # First map the predictions to each user.\n",
    "    user_est_true = defaultdict(list)\n",
    "    for uid, _, true_r, est, _ in predictions:\n",
    "        user_est_true[uid].append((est, true_r))\n",
    "\n",
    "    precisions = dict()\n",
    "    recalls = dict()\n",
    "    for uid, user_ratings in user_est_true.items():\n",
    "\n",
    "        # Sort user ratings by estimated value\n",
    "        user_ratings.sort(key=lambda x: x[0], reverse=True)\n",
    "\n",
    "        # Number of relevant items\n",
    "        n_rel = sum((true_r >= threshold) for (_, true_r) in user_ratings)\n",
    "\n",
    "        # Number of recommended items in top k\n",
    "        n_rec_k = sum((est >= threshold) for (est, _) in user_ratings[:k])\n",
    "\n",
    "        # Number of relevant and recommended items in top k\n",
    "        n_rel_and_rec_k = sum(\n",
    "            ((true_r >= threshold) and (est >= threshold))\n",
    "            for (est, true_r) in user_ratings[:k]\n",
    "        )\n",
    "\n",
    "        # Precision@K: Proportion of recommended items that are relevant\n",
    "        # When n_rec_k is 0, Precision is undefined. We here set it to 0.\n",
    "\n",
    "        precisions[uid] = n_rel_and_rec_k / n_rec_k if n_rec_k != 0 else 0\n",
    "\n",
    "        # Recall@K: Proportion of relevant items that are recommended\n",
    "        # When n_rel is 0, Recall is undefined. We here set it to 0.\n",
    "\n",
    "        recalls[uid] = n_rel_and_rec_k / n_rel if n_rel != 0 else 0\n",
    "\n",
    "    return precisions, recalls"
   ]
  },
  {
   "cell_type": "code",
   "execution_count": 26,
   "id": "ff11c149",
   "metadata": {
    "execution": {
     "iopub.execute_input": "2023-04-15T05:48:25.670869Z",
     "iopub.status.busy": "2023-04-15T05:48:25.669735Z",
     "iopub.status.idle": "2023-04-15T05:48:25.687090Z",
     "shell.execute_reply": "2023-04-15T05:48:25.685569Z"
    },
    "papermill": {
     "duration": 0.029879,
     "end_time": "2023-04-15T05:48:25.689386",
     "exception": false,
     "start_time": "2023-04-15T05:48:25.659507",
     "status": "completed"
    },
    "tags": []
   },
   "outputs": [
    {
     "name": "stdout",
     "output_type": "stream",
     "text": [
      "0.8491666666666671\n",
      "0.5685036191295647\n"
     ]
    }
   ],
   "source": [
    "precisions, recalls = precision_recall_at_k(predictions, k=5, threshold=2)\n",
    "print(sum(prec for prec in precisions.values()) / len(precisions))\n",
    "print(sum(rec for rec in recalls.values()) / len(recalls))"
   ]
  },
  {
   "cell_type": "code",
   "execution_count": 27,
   "id": "3c8adb72",
   "metadata": {
    "execution": {
     "iopub.execute_input": "2023-04-15T05:48:25.708138Z",
     "iopub.status.busy": "2023-04-15T05:48:25.707807Z",
     "iopub.status.idle": "2023-04-15T05:48:25.714794Z",
     "shell.execute_reply": "2023-04-15T05:48:25.713533Z"
    },
    "papermill": {
     "duration": 0.018644,
     "end_time": "2023-04-15T05:48:25.716859",
     "exception": false,
     "start_time": "2023-04-15T05:48:25.698215",
     "status": "completed"
    },
    "tags": []
   },
   "outputs": [],
   "source": [
    "true_val = []\n",
    "pred_val = []\n",
    "\n",
    "for uid, _, true_r, est, _ in predictions:\n",
    "    true_val.append(true_r)\n",
    "    pred_val.append(est)"
   ]
  },
  {
   "cell_type": "code",
   "execution_count": 28,
   "id": "d4e6c0e7",
   "metadata": {
    "execution": {
     "iopub.execute_input": "2023-04-15T05:48:25.735108Z",
     "iopub.status.busy": "2023-04-15T05:48:25.734786Z",
     "iopub.status.idle": "2023-04-15T05:48:25.739335Z",
     "shell.execute_reply": "2023-04-15T05:48:25.738295Z"
    },
    "papermill": {
     "duration": 0.016148,
     "end_time": "2023-04-15T05:48:25.741424",
     "exception": false,
     "start_time": "2023-04-15T05:48:25.725276",
     "status": "completed"
    },
    "tags": []
   },
   "outputs": [],
   "source": [
    "threshold = 2.5"
   ]
  },
  {
   "cell_type": "code",
   "execution_count": 29,
   "id": "bbd767db",
   "metadata": {
    "execution": {
     "iopub.execute_input": "2023-04-15T05:48:25.759980Z",
     "iopub.status.busy": "2023-04-15T05:48:25.759337Z",
     "iopub.status.idle": "2023-04-15T05:48:25.765576Z",
     "shell.execute_reply": "2023-04-15T05:48:25.764543Z"
    },
    "papermill": {
     "duration": 0.017739,
     "end_time": "2023-04-15T05:48:25.767762",
     "exception": false,
     "start_time": "2023-04-15T05:48:25.750023",
     "status": "completed"
    },
    "tags": []
   },
   "outputs": [],
   "source": [
    "# convert predicted scores to binary labels using the threshold\n",
    "y_pred = [1 if score >= threshold else 0 for score in pred_val]\n",
    "y_true = [1 if score >= threshold else 0 for score in true_val]"
   ]
  },
  {
   "cell_type": "code",
   "execution_count": 30,
   "id": "a34ebe10",
   "metadata": {
    "execution": {
     "iopub.execute_input": "2023-04-15T05:48:25.789701Z",
     "iopub.status.busy": "2023-04-15T05:48:25.788611Z",
     "iopub.status.idle": "2023-04-15T05:48:26.651776Z",
     "shell.execute_reply": "2023-04-15T05:48:26.650671Z"
    },
    "papermill": {
     "duration": 0.877817,
     "end_time": "2023-04-15T05:48:26.653923",
     "exception": false,
     "start_time": "2023-04-15T05:48:25.776106",
     "status": "completed"
    },
    "tags": []
   },
   "outputs": [
    {
     "data": {
      "image/png": "[encoded data removed]",
      "text/plain": [
       "<Figure size 640x480 with 1 Axes>"
      ]
     },
     "metadata": {},
     "output_type": "display_data"
    }
   ],
   "source": [
    "from sklearn.metrics import precision_recall_curve\n",
    "import matplotlib.pyplot as plt\n",
    "\n",
    "# compute precision and recall for various thresholds\n",
    "precision, recall, thresholds = precision_recall_curve(y_true, y_pred)\n",
    "\n",
    "# plot the precision-recall curve\n",
    "plt.plot(recall, precision, marker='.')\n",
    "plt.xlabel('Recall')\n",
    "plt.ylabel('Precision')\n",
    "plt.show()\n"
   ]
  },
  {
   "cell_type": "code",
   "execution_count": 31,
   "id": "84c7d8ca",
   "metadata": {
    "execution": {
     "iopub.execute_input": "2023-04-15T05:48:26.673233Z",
     "iopub.status.busy": "2023-04-15T05:48:26.672919Z",
     "iopub.status.idle": "2023-04-15T05:48:26.694112Z",
     "shell.execute_reply": "2023-04-15T05:48:26.692771Z"
    },
    "papermill": {
     "duration": 0.033535,
     "end_time": "2023-04-15T05:48:26.696403",
     "exception": false,
     "start_time": "2023-04-15T05:48:26.662868",
     "status": "completed"
    },
    "tags": []
   },
   "outputs": [
    {
     "name": "stdout",
     "output_type": "stream",
     "text": [
      "1. B000NLWCE8(The Martian Chronicles) with predicted rating of 2.99\n",
      "2. B000NPRINY(All Creatures Great and Small) with predicted rating of 2.96\n",
      "3. B000J5ZQH8(The Sea Wolf) with predicted rating of 2.96\n",
      "4. B000BUZWWK(Alice in Wonderland and Through the Looking Glass) with predicted rating of 2.88\n",
      "5. B000HEGYW2(East of Eden) with predicted rating of 2.88\n"
     ]
    }
   ],
   "source": [
    "# Get the user ID for whom you want to make recommendations\n",
    "user_id = 'AWLFVCT9128JV'\n",
    "\n",
    "# Get the list of all items (books) in the dataset\n",
    "items = df['book_id'].unique()\n",
    "\n",
    "# Predict the rating the user would give to each item and store in a dictionary\n",
    "item_ratings = {}\n",
    "for item in items:\n",
    "    predicted_rating = model.predict(user_id, item).est\n",
    "    item_ratings[item] = predicted_rating\n",
    "\n",
    "# Sort the items by predicted rating in descending order and select the top 5\n",
    "top_items = sorted(item_ratings.items(), key=lambda x: x[1], reverse=True)[:5]\n",
    "\n",
    "# Print the top 5 recommended books\n",
    "for i, item in enumerate(top_items):\n",
    "    print(f\"{i+1}. {item[0]}({df[df['book_id']==item[0]].iloc[0].title}) with predicted rating of {item[1]:.2f}\")"
   ]
  },
  {
   "cell_type": "code",
   "execution_count": 32,
   "id": "38dab346",
   "metadata": {
    "execution": {
     "iopub.execute_input": "2023-04-15T05:48:26.715162Z",
     "iopub.status.busy": "2023-04-15T05:48:26.714600Z",
     "iopub.status.idle": "2023-04-15T05:48:27.175494Z",
     "shell.execute_reply": "2023-04-15T05:48:27.174535Z"
    },
    "papermill": {
     "duration": 0.472635,
     "end_time": "2023-04-15T05:48:27.177763",
     "exception": false,
     "start_time": "2023-04-15T05:48:26.705128",
     "status": "completed"
    },
    "tags": []
   },
   "outputs": [
    {
     "data": {
      "text/plain": [
       "<surprise.prediction_algorithms.matrix_factorization.SVD at 0x78ff0ee82b10>"
      ]
     },
     "execution_count": 32,
     "metadata": {},
     "output_type": "execute_result"
    }
   ],
   "source": [
    "# Train SVD model\n",
    "model = SVD(n_factors=50, random_state=42)\n",
    "model.fit(trainset)"
   ]
  },
  {
   "cell_type": "code",
   "execution_count": 33,
   "id": "b38e8fa1",
   "metadata": {
    "execution": {
     "iopub.execute_input": "2023-04-15T05:48:27.198389Z",
     "iopub.status.busy": "2023-04-15T05:48:27.196691Z",
     "iopub.status.idle": "2023-04-15T05:48:27.269885Z",
     "shell.execute_reply": "2023-04-15T05:48:27.268749Z"
    },
    "papermill": {
     "duration": 0.085206,
     "end_time": "2023-04-15T05:48:27.272001",
     "exception": false,
     "start_time": "2023-04-15T05:48:27.186795",
     "status": "completed"
    },
    "tags": []
   },
   "outputs": [
    {
     "name": "stdout",
     "output_type": "stream",
     "text": [
      "RMSE: 0.5198\n"
     ]
    }
   ],
   "source": [
    "# Evaluate the model on the test set\n",
    "predictions = model.test(testset)\n",
    "rmse = accuracy.rmse(predictions)"
   ]
  },
  {
   "cell_type": "code",
   "execution_count": 34,
   "id": "db95757a",
   "metadata": {
    "execution": {
     "iopub.execute_input": "2023-04-15T05:48:27.291601Z",
     "iopub.status.busy": "2023-04-15T05:48:27.291291Z",
     "iopub.status.idle": "2023-04-15T05:48:27.306466Z",
     "shell.execute_reply": "2023-04-15T05:48:27.305455Z"
    },
    "papermill": {
     "duration": 0.027563,
     "end_time": "2023-04-15T05:48:27.308851",
     "exception": false,
     "start_time": "2023-04-15T05:48:27.281288",
     "status": "completed"
    },
    "tags": []
   },
   "outputs": [
    {
     "name": "stdout",
     "output_type": "stream",
     "text": [
      "0.8049404761904767\n",
      "0.5631376350178099\n"
     ]
    }
   ],
   "source": [
    "precisions, recalls = precision_recall_at_k(predictions, k=5, threshold=2)\n",
    "print(sum(prec for prec in precisions.values()) / len(precisions))\n",
    "print(sum(rec for rec in recalls.values()) / len(recalls))"
   ]
  },
  {
   "cell_type": "code",
   "execution_count": null,
   "id": "e040dcf2",
   "metadata": {
    "papermill": {
     "duration": 0.009089,
     "end_time": "2023-04-15T05:48:27.326906",
     "exception": false,
     "start_time": "2023-04-15T05:48:27.317817",
     "status": "completed"
    },
    "tags": []
   },
   "outputs": [],
   "source": []
  }
 ],
 "metadata": {
  "kernelspec": {
   "display_name": "Python 3",
   "language": "python",
   "name": "python3"
  },
  "language_info": {
   "codemirror_mode": {
    "name": "ipython",
    "version": 3
   },
   "file_extension": ".py",
   "mimetype": "text/x-python",
   "name": "python",
   "nbconvert_exporter": "python",
   "pygments_lexer": "ipython3",
   "version": "3.7.12"
  },
  "papermill": {
   "default_parameters": {},
   "duration": 21.795607,
   "end_time": "2023-04-15T05:48:27.957479",
   "environment_variables": {},
   "exception": null,
   "input_path": "__notebook__.ipynb",
   "output_path": "__notebook__.ipynb",
   "parameters": {},
   "start_time": "2023-04-15T05:48:06.161872",
   "version": "2.4.0"
  }
 },
 "nbformat": 4,
 "nbformat_minor": 5
}
