{
 "cells": [
  {
   "cell_type": "code",
   "execution_count": 1,
   "id": "f1dea809",
   "metadata": {
    "_cell_guid": "b1076dfc-b9ad-4769-8c92-a6c4dae69d19",
    "_uuid": "8f2839f25d086af736a60e9eeb907d3b93b6e0e5",
    "execution": {
     "iopub.execute_input": "2023-04-10T17:14:12.398607Z",
     "iopub.status.busy": "2023-04-10T17:14:12.398127Z",
     "iopub.status.idle": "2023-04-10T17:14:12.415501Z",
     "shell.execute_reply": "2023-04-10T17:14:12.414158Z"
    },
    "papermill": {
     "duration": 0.02799,
     "end_time": "2023-04-10T17:14:12.417990",
     "exception": false,
     "start_time": "2023-04-10T17:14:12.390000",
     "status": "completed"
    },
    "tags": []
   },
   "outputs": [
    {
     "name": "stdout",
     "output_type": "stream",
     "text": [
      "/kaggle/input/ratings/sentiment.csv\n"
     ]
    }
   ],
   "source": [
    "# This Python 3 environment comes with many helpful analytics libraries installed\n",
    "# It is defined by the kaggle/python Docker image: https://github.com/kaggle/docker-python\n",
    "# For example, here's several helpful packages to load\n",
    "\n",
    "import numpy as np # linear algebra\n",
    "import pandas as pd # data processing, CSV file I/O (e.g. pd.read_csv)\n",
    "\n",
    "# Input data files are available in the read-only \"../input/\" directory\n",
    "# For example, running this (by clicking run or pressing Shift+Enter) will list all files under the input directory\n",
    "\n",
    "import os\n",
    "for dirname, _, filenames in os.walk('/kaggle/input'):\n",
    "    for filename in filenames:\n",
    "        print(os.path.join(dirname, filename))\n",
    "\n",
    "# You can write up to 20GB to the current directory (/kaggle/working/) that gets preserved as output when you create a version using \"Save & Run All\" \n",
    "# You can also write temporary files to /kaggle/temp/, but they won't be saved outside of the current session"
   ]
  },
  {
   "cell_type": "code",
   "execution_count": 2,
   "id": "064e27e5",
   "metadata": {
    "execution": {
     "iopub.execute_input": "2023-04-10T17:14:12.429240Z",
     "iopub.status.busy": "2023-04-10T17:14:12.428953Z",
     "iopub.status.idle": "2023-04-10T17:14:12.433056Z",
     "shell.execute_reply": "2023-04-10T17:14:12.432031Z"
    },
    "papermill": {
     "duration": 0.012199,
     "end_time": "2023-04-10T17:14:12.435190",
     "exception": false,
     "start_time": "2023-04-10T17:14:12.422991",
     "status": "completed"
    },
    "tags": []
   },
   "outputs": [],
   "source": [
    "# !nvidia-smi"
   ]
  },
  {
   "cell_type": "code",
   "execution_count": 3,
   "id": "cbefd273",
   "metadata": {
    "execution": {
     "iopub.execute_input": "2023-04-10T17:14:12.446147Z",
     "iopub.status.busy": "2023-04-10T17:14:12.445892Z",
     "iopub.status.idle": "2023-04-10T17:14:12.450693Z",
     "shell.execute_reply": "2023-04-10T17:14:12.449682Z"
    },
    "papermill": {
     "duration": 0.012564,
     "end_time": "2023-04-10T17:14:12.452839",
     "exception": false,
     "start_time": "2023-04-10T17:14:12.440275",
     "status": "completed"
    },
    "tags": []
   },
   "outputs": [],
   "source": [
    "# import tensorflow as tf\n",
    "# from transformers import BertTokenizer, TFBertModel\n",
    "\n",
    "# # Load the pre-trained BERT tokenizer and model\n",
    "# tokenizer = BertTokenizer.from_pretrained('bert-base-uncased')\n",
    "# model = TFBertModel.from_pretrained('bert-base-uncased')\n",
    "\n",
    "# # Define a function to generate a sentiment score from a review using BERT\n",
    "# def generate_sentiment_score(review):\n",
    "#     # Tokenize the review text\n",
    "#     inputs = tokenizer.encode_plus(review, add_special_tokens=True, return_tensors='tf')\n",
    "\n",
    "#     # Pass the tokenized inputs through the BERT model to generate embeddings\n",
    "#     outputs = model(inputs)\n",
    "#     embeddings = outputs.last_hidden_state\n",
    "\n",
    "#     # Compute a sentiment score by averaging the embeddings for each token\n",
    "#     mean_embedding = tf.reduce_mean(embeddings, axis=1)\n",
    "#     sentiment_score = tf.keras.layers.Dense(1, activation='sigmoid')(mean_embedding)\n",
    "\n",
    "#     # Return the sentiment score as a float between 0 and 1\n",
    "#     return float(sentiment_score.numpy())\n"
   ]
  },
  {
   "cell_type": "code",
   "execution_count": 4,
   "id": "dca716ad",
   "metadata": {
    "execution": {
     "iopub.execute_input": "2023-04-10T17:14:12.463935Z",
     "iopub.status.busy": "2023-04-10T17:14:12.463681Z",
     "iopub.status.idle": "2023-04-10T17:14:12.467952Z",
     "shell.execute_reply": "2023-04-10T17:14:12.466681Z"
    },
    "papermill": {
     "duration": 0.011915,
     "end_time": "2023-04-10T17:14:12.469991",
     "exception": false,
     "start_time": "2023-04-10T17:14:12.458076",
     "status": "completed"
    },
    "tags": []
   },
   "outputs": [],
   "source": [
    "# df['sentiment'] = df['review'].apply(lambda x: generate_sentiment_score(x))"
   ]
  },
  {
   "cell_type": "code",
   "execution_count": 5,
   "id": "855acec8",
   "metadata": {
    "execution": {
     "iopub.execute_input": "2023-04-10T17:14:12.480947Z",
     "iopub.status.busy": "2023-04-10T17:14:12.480694Z",
     "iopub.status.idle": "2023-04-10T17:14:13.020249Z",
     "shell.execute_reply": "2023-04-10T17:14:13.019228Z"
    },
    "papermill": {
     "duration": 0.547597,
     "end_time": "2023-04-10T17:14:13.022396",
     "exception": false,
     "start_time": "2023-04-10T17:14:12.474799",
     "status": "completed"
    },
    "tags": []
   },
   "outputs": [
    {
     "data": {
      "text/html": [
       "<div>\n",
       "<style scoped>\n",
       "    .dataframe tbody tr th:only-of-type {\n",
       "        vertical-align: middle;\n",
       "    }\n",
       "\n",
       "    .dataframe tbody tr th {\n",
       "        vertical-align: top;\n",
       "    }\n",
       "\n",
       "    .dataframe thead th {\n",
       "        text-align: right;\n",
       "    }\n",
       "</style>\n",
       "<table border=\"1\" class=\"dataframe\">\n",
       "  <thead>\n",
       "    <tr style=\"text-align: right;\">\n",
       "      <th></th>\n",
       "      <th>index</th>\n",
       "      <th>book_id</th>\n",
       "      <th>user_id</th>\n",
       "      <th>review</th>\n",
       "      <th>title</th>\n",
       "      <th>rating</th>\n",
       "      <th>sentiment</th>\n",
       "    </tr>\n",
       "  </thead>\n",
       "  <tbody>\n",
       "    <tr>\n",
       "      <th>0</th>\n",
       "      <td>1747</td>\n",
       "      <td>B000N6DDJQ</td>\n",
       "      <td>AUM3YMZ0YRJE0</td>\n",
       "      <td>WHen I finally started reading this classic, I...</td>\n",
       "      <td>The Scarlet Letter A Romance</td>\n",
       "      <td>5.0</td>\n",
       "      <td>0.451157</td>\n",
       "    </tr>\n",
       "    <tr>\n",
       "      <th>1</th>\n",
       "      <td>1807</td>\n",
       "      <td>B000N6DDJQ</td>\n",
       "      <td>AMKZHBOK7VMQR</td>\n",
       "      <td>Hawthorne wrote a masterful work of historical...</td>\n",
       "      <td>The Scarlet Letter A Romance</td>\n",
       "      <td>5.0</td>\n",
       "      <td>0.636971</td>\n",
       "    </tr>\n",
       "    <tr>\n",
       "      <th>2</th>\n",
       "      <td>1820</td>\n",
       "      <td>B000N6DDJQ</td>\n",
       "      <td>AWLFVCT9128JV</td>\n",
       "      <td>I don't suppose anything can ruin a book more ...</td>\n",
       "      <td>The Scarlet Letter A Romance</td>\n",
       "      <td>4.0</td>\n",
       "      <td>0.481272</td>\n",
       "    </tr>\n",
       "    <tr>\n",
       "      <th>3</th>\n",
       "      <td>1829</td>\n",
       "      <td>B000N6DDJQ</td>\n",
       "      <td>ABN5K7K1TM1QA</td>\n",
       "      <td>\"All have sinned and fall short of the glory o...</td>\n",
       "      <td>The Scarlet Letter A Romance</td>\n",
       "      <td>5.0</td>\n",
       "      <td>0.495467</td>\n",
       "    </tr>\n",
       "    <tr>\n",
       "      <th>4</th>\n",
       "      <td>1830</td>\n",
       "      <td>B000N6DDJQ</td>\n",
       "      <td>A3IKBHODOTYYHM</td>\n",
       "      <td>I think the many readers who were forced to pa...</td>\n",
       "      <td>The Scarlet Letter A Romance</td>\n",
       "      <td>4.0</td>\n",
       "      <td>0.480073</td>\n",
       "    </tr>\n",
       "  </tbody>\n",
       "</table>\n",
       "</div>"
      ],
      "text/plain": [
       "   index     book_id         user_id  \\\n",
       "0   1747  B000N6DDJQ   AUM3YMZ0YRJE0   \n",
       "1   1807  B000N6DDJQ   AMKZHBOK7VMQR   \n",
       "2   1820  B000N6DDJQ   AWLFVCT9128JV   \n",
       "3   1829  B000N6DDJQ   ABN5K7K1TM1QA   \n",
       "4   1830  B000N6DDJQ  A3IKBHODOTYYHM   \n",
       "\n",
       "                                              review  \\\n",
       "0  WHen I finally started reading this classic, I...   \n",
       "1  Hawthorne wrote a masterful work of historical...   \n",
       "2  I don't suppose anything can ruin a book more ...   \n",
       "3  \"All have sinned and fall short of the glory o...   \n",
       "4  I think the many readers who were forced to pa...   \n",
       "\n",
       "                          title  rating  sentiment  \n",
       "0  The Scarlet Letter A Romance     5.0   0.451157  \n",
       "1  The Scarlet Letter A Romance     5.0   0.636971  \n",
       "2  The Scarlet Letter A Romance     4.0   0.481272  \n",
       "3  The Scarlet Letter A Romance     5.0   0.495467  \n",
       "4  The Scarlet Letter A Romance     4.0   0.480073  "
      ]
     },
     "execution_count": 5,
     "metadata": {},
     "output_type": "execute_result"
    }
   ],
   "source": [
    "df = pd.read_csv('/kaggle/input/ratings/sentiment.csv')\n",
    "df.head()"
   ]
  },
  {
   "cell_type": "code",
   "execution_count": 6,
   "id": "c77e8b15",
   "metadata": {
    "execution": {
     "iopub.execute_input": "2023-04-10T17:14:13.034826Z",
     "iopub.status.busy": "2023-04-10T17:14:13.033987Z",
     "iopub.status.idle": "2023-04-10T17:14:13.038655Z",
     "shell.execute_reply": "2023-04-10T17:14:13.037573Z"
    },
    "papermill": {
     "duration": 0.012802,
     "end_time": "2023-04-10T17:14:13.040740",
     "exception": false,
     "start_time": "2023-04-10T17:14:13.027938",
     "status": "completed"
    },
    "tags": []
   },
   "outputs": [],
   "source": [
    "# df.to_csv('ratings.csv',index=False)"
   ]
  },
  {
   "cell_type": "code",
   "execution_count": 7,
   "id": "7a646604",
   "metadata": {
    "execution": {
     "iopub.execute_input": "2023-04-10T17:14:13.052174Z",
     "iopub.status.busy": "2023-04-10T17:14:13.051904Z",
     "iopub.status.idle": "2023-04-10T17:14:13.061937Z",
     "shell.execute_reply": "2023-04-10T17:14:13.061044Z"
    },
    "papermill": {
     "duration": 0.018167,
     "end_time": "2023-04-10T17:14:13.063966",
     "exception": false,
     "start_time": "2023-04-10T17:14:13.045799",
     "status": "completed"
    },
    "tags": []
   },
   "outputs": [],
   "source": [
    "df.drop(['index'],axis=1,inplace=True)"
   ]
  },
  {
   "cell_type": "code",
   "execution_count": 8,
   "id": "f447516a",
   "metadata": {
    "execution": {
     "iopub.execute_input": "2023-04-10T17:14:13.075679Z",
     "iopub.status.busy": "2023-04-10T17:14:13.075420Z",
     "iopub.status.idle": "2023-04-10T17:14:13.086501Z",
     "shell.execute_reply": "2023-04-10T17:14:13.085649Z"
    },
    "papermill": {
     "duration": 0.019263,
     "end_time": "2023-04-10T17:14:13.088594",
     "exception": false,
     "start_time": "2023-04-10T17:14:13.069331",
     "status": "completed"
    },
    "tags": []
   },
   "outputs": [],
   "source": [
    "df = df.loc[~((df.rating.isin([1,2])) & (df['sentiment'] > 0.7))]"
   ]
  },
  {
   "cell_type": "code",
   "execution_count": 9,
   "id": "770f0608",
   "metadata": {
    "execution": {
     "iopub.execute_input": "2023-04-10T17:14:13.100165Z",
     "iopub.status.busy": "2023-04-10T17:14:13.099898Z",
     "iopub.status.idle": "2023-04-10T17:14:13.105693Z",
     "shell.execute_reply": "2023-04-10T17:14:13.104690Z"
    },
    "papermill": {
     "duration": 0.014292,
     "end_time": "2023-04-10T17:14:13.108026",
     "exception": false,
     "start_time": "2023-04-10T17:14:13.093734",
     "status": "completed"
    },
    "tags": []
   },
   "outputs": [
    {
     "data": {
      "text/plain": [
       "(17100, 6)"
      ]
     },
     "execution_count": 9,
     "metadata": {},
     "output_type": "execute_result"
    }
   ],
   "source": [
    "df.shape"
   ]
  },
  {
   "cell_type": "code",
   "execution_count": 10,
   "id": "c17cc61b",
   "metadata": {
    "execution": {
     "iopub.execute_input": "2023-04-10T17:14:13.119534Z",
     "iopub.status.busy": "2023-04-10T17:14:13.119279Z",
     "iopub.status.idle": "2023-04-10T17:14:13.127099Z",
     "shell.execute_reply": "2023-04-10T17:14:13.126187Z"
    },
    "papermill": {
     "duration": 0.016247,
     "end_time": "2023-04-10T17:14:13.129406",
     "exception": false,
     "start_time": "2023-04-10T17:14:13.113159",
     "status": "completed"
    },
    "tags": []
   },
   "outputs": [],
   "source": [
    "df = df.loc[~((df.rating.isin([4,5])) & (df['sentiment'] < 0.4))]"
   ]
  },
  {
   "cell_type": "code",
   "execution_count": 11,
   "id": "b4f93f24",
   "metadata": {
    "execution": {
     "iopub.execute_input": "2023-04-10T17:14:13.141391Z",
     "iopub.status.busy": "2023-04-10T17:14:13.140639Z",
     "iopub.status.idle": "2023-04-10T17:14:13.222923Z",
     "shell.execute_reply": "2023-04-10T17:14:13.222002Z"
    },
    "papermill": {
     "duration": 0.090474,
     "end_time": "2023-04-10T17:14:13.225010",
     "exception": false,
     "start_time": "2023-04-10T17:14:13.134536",
     "status": "completed"
    },
    "tags": []
   },
   "outputs": [],
   "source": [
    "from surprise import Dataset, Reader\n",
    "from surprise import KNNWithMeans\n",
    "from surprise.model_selection import train_test_split\n",
    "from surprise import accuracy"
   ]
  },
  {
   "cell_type": "code",
   "execution_count": 12,
   "id": "cc4b3ecd",
   "metadata": {
    "execution": {
     "iopub.execute_input": "2023-04-10T17:14:13.238565Z",
     "iopub.status.busy": "2023-04-10T17:14:13.237721Z",
     "iopub.status.idle": "2023-04-10T17:14:13.244648Z",
     "shell.execute_reply": "2023-04-10T17:14:13.243676Z"
    },
    "papermill": {
     "duration": 0.01554,
     "end_time": "2023-04-10T17:14:13.247009",
     "exception": false,
     "start_time": "2023-04-10T17:14:13.231469",
     "status": "completed"
    },
    "tags": []
   },
   "outputs": [],
   "source": [
    "# Combine the rating and sentiment scores into a single score\n",
    "df['hybrid_score'] = df['rating'] * df['sentiment']"
   ]
  },
  {
   "cell_type": "code",
   "execution_count": 13,
   "id": "05715537",
   "metadata": {
    "execution": {
     "iopub.execute_input": "2023-04-10T17:14:13.258869Z",
     "iopub.status.busy": "2023-04-10T17:14:13.258586Z",
     "iopub.status.idle": "2023-04-10T17:14:13.262757Z",
     "shell.execute_reply": "2023-04-10T17:14:13.261713Z"
    },
    "papermill": {
     "duration": 0.012727,
     "end_time": "2023-04-10T17:14:13.265169",
     "exception": false,
     "start_time": "2023-04-10T17:14:13.252442",
     "status": "completed"
    },
    "tags": []
   },
   "outputs": [],
   "source": [
    "# load data from a file\n",
    "reader = Reader(line_format='user item rating', sep=',')"
   ]
  },
  {
   "cell_type": "code",
   "execution_count": 14,
   "id": "1cdc4eb4",
   "metadata": {
    "execution": {
     "iopub.execute_input": "2023-04-10T17:14:13.277406Z",
     "iopub.status.busy": "2023-04-10T17:14:13.276523Z",
     "iopub.status.idle": "2023-04-10T17:14:13.298771Z",
     "shell.execute_reply": "2023-04-10T17:14:13.297736Z"
    },
    "papermill": {
     "duration": 0.030496,
     "end_time": "2023-04-10T17:14:13.301000",
     "exception": false,
     "start_time": "2023-04-10T17:14:13.270504",
     "status": "completed"
    },
    "tags": []
   },
   "outputs": [],
   "source": [
    "data = Dataset.load_from_df(df[['user_id', 'book_id', 'hybrid_score']], reader=reader)"
   ]
  },
  {
   "cell_type": "code",
   "execution_count": 15,
   "id": "549cb940",
   "metadata": {
    "execution": {
     "iopub.execute_input": "2023-04-10T17:14:13.313260Z",
     "iopub.status.busy": "2023-04-10T17:14:13.312954Z",
     "iopub.status.idle": "2023-04-10T17:14:13.333028Z",
     "shell.execute_reply": "2023-04-10T17:14:13.332086Z"
    },
    "papermill": {
     "duration": 0.028749,
     "end_time": "2023-04-10T17:14:13.335160",
     "exception": false,
     "start_time": "2023-04-10T17:14:13.306411",
     "status": "completed"
    },
    "tags": []
   },
   "outputs": [],
   "source": [
    "# Split the data into training and testing sets\n",
    "trainset, testset = train_test_split(data, test_size=.25)"
   ]
  },
  {
   "cell_type": "code",
   "execution_count": 16,
   "id": "4b572dc0",
   "metadata": {
    "execution": {
     "iopub.execute_input": "2023-04-10T17:14:13.346955Z",
     "iopub.status.busy": "2023-04-10T17:14:13.346625Z",
     "iopub.status.idle": "2023-04-10T17:14:13.353457Z",
     "shell.execute_reply": "2023-04-10T17:14:13.352077Z"
    },
    "papermill": {
     "duration": 0.015527,
     "end_time": "2023-04-10T17:14:13.356125",
     "exception": false,
     "start_time": "2023-04-10T17:14:13.340598",
     "status": "completed"
    },
    "tags": []
   },
   "outputs": [
    {
     "data": {
      "text/plain": [
       "[('AUM3YMZ0YRJE0', 'B000N6DDJQ', 2.255786806344986, None),\n",
       " ('AMKZHBOK7VMQR', 'B000N6DDJQ', 3.1848567724227905, None),\n",
       " ('AWLFVCT9128JV', 'B000N6DDJQ', 1.9250879287719724, None),\n",
       " ('ABN5K7K1TM1QA', 'B000N6DDJQ', 2.477333843708038, None),\n",
       " ('A3IKBHODOTYYHM', 'B000N6DDJQ', 1.9202926158905027, None)]"
      ]
     },
     "execution_count": 16,
     "metadata": {},
     "output_type": "execute_result"
    }
   ],
   "source": [
    "raw_ratings = data.raw_ratings\n",
    "raw_ratings[:5]"
   ]
  },
  {
   "cell_type": "code",
   "execution_count": 17,
   "id": "0b0d916a",
   "metadata": {
    "execution": {
     "iopub.execute_input": "2023-04-10T17:14:13.368248Z",
     "iopub.status.busy": "2023-04-10T17:14:13.367926Z",
     "iopub.status.idle": "2023-04-10T17:14:13.421175Z",
     "shell.execute_reply": "2023-04-10T17:14:13.420183Z"
    },
    "papermill": {
     "duration": 0.061627,
     "end_time": "2023-04-10T17:14:13.423347",
     "exception": false,
     "start_time": "2023-04-10T17:14:13.361720",
     "status": "completed"
    },
    "tags": []
   },
   "outputs": [
    {
     "name": "stdout",
     "output_type": "stream",
     "text": [
      "Estimating biases using als...\n",
      "Computing the pearson_baseline similarity matrix...\n",
      "Done computing similarity matrix.\n"
     ]
    },
    {
     "data": {
      "text/plain": [
       "<surprise.prediction_algorithms.knns.KNNWithMeans at 0x709157f8cc50>"
      ]
     },
     "execution_count": 17,
     "metadata": {},
     "output_type": "execute_result"
    }
   ],
   "source": [
    "# Train a KNNWithMeans model on the combined score\n",
    "model = KNNWithMeans(k=50, sim_options={'name': 'pearson_baseline', 'user_based': True})\n",
    "model.fit(trainset)"
   ]
  },
  {
   "cell_type": "code",
   "execution_count": 18,
   "id": "f556ac52",
   "metadata": {
    "execution": {
     "iopub.execute_input": "2023-04-10T17:14:13.435926Z",
     "iopub.status.busy": "2023-04-10T17:14:13.435261Z",
     "iopub.status.idle": "2023-04-10T17:14:13.619742Z",
     "shell.execute_reply": "2023-04-10T17:14:13.617056Z"
    },
    "papermill": {
     "duration": 0.194471,
     "end_time": "2023-04-10T17:14:13.623383",
     "exception": false,
     "start_time": "2023-04-10T17:14:13.428912",
     "status": "completed"
    },
    "tags": []
   },
   "outputs": [
    {
     "name": "stdout",
     "output_type": "stream",
     "text": [
      "RMSE: 0.5162\n"
     ]
    }
   ],
   "source": [
    "# Evaluate the model on the test set\n",
    "from surprise import accuracy\n",
    "predictions = model.test(testset)\n",
    "rmse = accuracy.rmse(predictions)"
   ]
  },
  {
   "cell_type": "code",
   "execution_count": 19,
   "id": "ceff1a54",
   "metadata": {
    "execution": {
     "iopub.execute_input": "2023-04-10T17:14:13.648608Z",
     "iopub.status.busy": "2023-04-10T17:14:13.648188Z",
     "iopub.status.idle": "2023-04-10T17:14:13.653068Z",
     "shell.execute_reply": "2023-04-10T17:14:13.652072Z"
    },
    "papermill": {
     "duration": 0.021183,
     "end_time": "2023-04-10T17:14:13.655522",
     "exception": false,
     "start_time": "2023-04-10T17:14:13.634339",
     "status": "completed"
    },
    "tags": []
   },
   "outputs": [],
   "source": [
    "from collections import defaultdict"
   ]
  },
  {
   "cell_type": "code",
   "execution_count": 20,
   "id": "62ffb9b0",
   "metadata": {
    "execution": {
     "iopub.execute_input": "2023-04-10T17:14:13.675940Z",
     "iopub.status.busy": "2023-04-10T17:14:13.675620Z",
     "iopub.status.idle": "2023-04-10T17:14:13.692077Z",
     "shell.execute_reply": "2023-04-10T17:14:13.691099Z"
    },
    "papermill": {
     "duration": 0.029585,
     "end_time": "2023-04-10T17:14:13.695278",
     "exception": false,
     "start_time": "2023-04-10T17:14:13.665693",
     "status": "completed"
    },
    "tags": []
   },
   "outputs": [],
   "source": [
    "def precision_recall_at_k(predictions, k=10, threshold=3.5):\n",
    "    \"\"\"Return precision and recall at k metrics for each user\"\"\"\n",
    "\n",
    "    # First map the predictions to each user.\n",
    "    user_est_true = defaultdict(list)\n",
    "    for uid, _, true_r, est, _ in predictions:\n",
    "        user_est_true[uid].append((est, true_r))\n",
    "\n",
    "    precisions = dict()\n",
    "    recalls = dict()\n",
    "    for uid, user_ratings in user_est_true.items():\n",
    "\n",
    "        # Sort user ratings by estimated value\n",
    "        user_ratings.sort(key=lambda x: x[0], reverse=True)\n",
    "\n",
    "        # Number of relevant items\n",
    "        n_rel = sum((true_r >= threshold) for (_, true_r) in user_ratings)\n",
    "\n",
    "        # Number of recommended items in top k\n",
    "        n_rec_k = sum((est >= threshold) for (est, _) in user_ratings[:k])\n",
    "\n",
    "        # Number of relevant and recommended items in top k\n",
    "        n_rel_and_rec_k = sum(\n",
    "            ((true_r >= threshold) and (est >= threshold))\n",
    "            for (est, true_r) in user_ratings[:k]\n",
    "        )\n",
    "\n",
    "        # Precision@K: Proportion of recommended items that are relevant\n",
    "        # When n_rec_k is 0, Precision is undefined. We here set it to 0.\n",
    "\n",
    "        precisions[uid] = n_rel_and_rec_k / n_rec_k if n_rec_k != 0 else 0\n",
    "\n",
    "        # Recall@K: Proportion of relevant items that are recommended\n",
    "        # When n_rel is 0, Recall is undefined. We here set it to 0.\n",
    "\n",
    "        recalls[uid] = n_rel_and_rec_k / n_rel if n_rel != 0 else 0\n",
    "\n",
    "    return precisions, recalls"
   ]
  },
  {
   "cell_type": "code",
   "execution_count": 21,
   "id": "0fbe06ea",
   "metadata": {
    "execution": {
     "iopub.execute_input": "2023-04-10T17:14:13.718988Z",
     "iopub.status.busy": "2023-04-10T17:14:13.718675Z",
     "iopub.status.idle": "2023-04-10T17:14:13.827980Z",
     "shell.execute_reply": "2023-04-10T17:14:13.826553Z"
    },
    "papermill": {
     "duration": 0.123713,
     "end_time": "2023-04-10T17:14:13.830621",
     "exception": false,
     "start_time": "2023-04-10T17:14:13.706908",
     "status": "completed"
    },
    "tags": []
   },
   "outputs": [
    {
     "name": "stdout",
     "output_type": "stream",
     "text": [
      "0.8362089201877935\n",
      "0.5476681303314147\n"
     ]
    }
   ],
   "source": [
    "precisions, recalls = precision_recall_at_k(predictions, k=5, threshold=2)\n",
    "print(sum(prec for prec in precisions.values()) / len(precisions))\n",
    "print(sum(rec for rec in recalls.values()) / len(recalls))"
   ]
  },
  {
   "cell_type": "code",
   "execution_count": null,
   "id": "3a8197d6",
   "metadata": {
    "papermill": {
     "duration": 0.005633,
     "end_time": "2023-04-10T17:14:13.842074",
     "exception": false,
     "start_time": "2023-04-10T17:14:13.836441",
     "status": "completed"
    },
    "tags": []
   },
   "outputs": [],
   "source": []
  },
  {
   "cell_type": "code",
   "execution_count": 22,
   "id": "9910123d",
   "metadata": {
    "execution": {
     "iopub.execute_input": "2023-04-10T17:14:13.854629Z",
     "iopub.status.busy": "2023-04-10T17:14:13.854315Z",
     "iopub.status.idle": "2023-04-10T17:14:13.884918Z",
     "shell.execute_reply": "2023-04-10T17:14:13.883442Z"
    },
    "papermill": {
     "duration": 0.039517,
     "end_time": "2023-04-10T17:14:13.887224",
     "exception": false,
     "start_time": "2023-04-10T17:14:13.847707",
     "status": "completed"
    },
    "tags": []
   },
   "outputs": [
    {
     "name": "stdout",
     "output_type": "stream",
     "text": [
      "1. B000PC3Q3G(East of Eden) with predicted rating of 3.62\n",
      "2. B000PYIUAI(The Autobiography of Benjamin Franklin) with predicted rating of 3.54\n",
      "3. B000NLWCE8(The Martian Chronicles) with predicted rating of 3.48\n",
      "4. B00087JQ6Y(Leaves of Grass) with predicted rating of 3.41\n",
      "5. B0007BNSM4(An inquiry into the nature and causes of the wealth of nations) with predicted rating of 3.40\n"
     ]
    }
   ],
   "source": [
    "# Get the user ID for whom you want to make recommendations\n",
    "user_id = 'AWLFVCT9128JV'\n",
    "\n",
    "# Get the list of all items (books) in the dataset\n",
    "items = df['book_id'].unique()\n",
    "\n",
    "# Predict the rating the user would give to each item and store in a dictionary\n",
    "item_ratings = {}\n",
    "for item in items:\n",
    "    predicted_rating = model.predict(user_id, item).est\n",
    "    item_ratings[item] = predicted_rating\n",
    "\n",
    "# Sort the items by predicted rating in descending order and select the top 5\n",
    "top_items = sorted(item_ratings.items(), key=lambda x: x[1], reverse=True)[:5]\n",
    "\n",
    "# Print the top 5 recommended books\n",
    "for i, item in enumerate(top_items):\n",
    "    print(f\"{i+1}. {item[0]}({df[df['book_id']==item[0]].iloc[0].title}) with predicted rating of {item[1]:.2f}\")"
   ]
  },
  {
   "cell_type": "code",
   "execution_count": null,
   "id": "bf2e301a",
   "metadata": {
    "papermill": {
     "duration": 0.00576,
     "end_time": "2023-04-10T17:14:13.898762",
     "exception": false,
     "start_time": "2023-04-10T17:14:13.893002",
     "status": "completed"
    },
    "tags": []
   },
   "outputs": [],
   "source": []
  }
 ],
 "metadata": {
  "kernelspec": {
   "display_name": "Python 3",
   "language": "python",
   "name": "python3"
  },
  "language_info": {
   "codemirror_mode": {
    "name": "ipython",
    "version": 3
   },
   "file_extension": ".py",
   "mimetype": "text/x-python",
   "name": "python",
   "nbconvert_exporter": "python",
   "pygments_lexer": "ipython3",
   "version": "3.7.12"
  },
  "papermill": {
   "default_parameters": {},
   "duration": 10.998329,
   "end_time": "2023-04-10T17:14:14.423899",
   "environment_variables": {},
   "exception": null,
   "input_path": "__notebook__.ipynb",
   "output_path": "__notebook__.ipynb",
   "parameters": {},
   "start_time": "2023-04-10T17:14:03.425570",
   "version": "2.4.0"
  }
 },
 "nbformat": 4,
 "nbformat_minor": 5
}
