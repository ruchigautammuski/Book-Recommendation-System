{
 "cells": [
  {
   "cell_type": "code",
   "execution_count": 1,
   "id": "63530ec0",
   "metadata": {
    "_cell_guid": "b1076dfc-b9ad-4769-8c92-a6c4dae69d19",
    "_uuid": "8f2839f25d086af736a60e9eeb907d3b93b6e0e5",
    "execution": {
     "iopub.execute_input": "2023-04-10T13:42:05.085704Z",
     "iopub.status.busy": "2023-04-10T13:42:05.084759Z",
     "iopub.status.idle": "2023-04-10T13:42:05.101997Z",
     "shell.execute_reply": "2023-04-10T13:42:05.100962Z"
    },
    "papermill": {
     "duration": 0.027106,
     "end_time": "2023-04-10T13:42:05.104154",
     "exception": false,
     "start_time": "2023-04-10T13:42:05.077048",
     "status": "completed"
    },
    "tags": []
   },
   "outputs": [
    {
     "name": "stdout",
     "output_type": "stream",
     "text": [
      "/kaggle/input/amazon-books-reviews/books_data.csv\n",
      "/kaggle/input/amazon-books-reviews/Books_rating.csv\n"
     ]
    }
   ],
   "source": [
    "# This Python 3 environment comes with many helpful analytics libraries installed\n",
    "# It is defined by the kaggle/python Docker image: https://github.com/kaggle/docker-python\n",
    "# For example, here's several helpful packages to load\n",
    "\n",
    "import numpy as np # linear algebra\n",
    "import pandas as pd # data processing, CSV file I/O (e.g. pd.read_csv)\n",
    "\n",
    "# Input data files are available in the read-only \"../input/\" directory\n",
    "# For example, running this (by clicking run or pressing Shift+Enter) will list all files under the input directory\n",
    "\n",
    "import os\n",
    "for dirname, _, filenames in os.walk('/kaggle/input'):\n",
    "    for filename in filenames:\n",
    "        print(os.path.join(dirname, filename))\n",
    "\n",
    "# You can write up to 20GB to the current directory (/kaggle/working/) that gets preserved as output when you create a version using \"Save & Run All\" \n",
    "# You can also write temporary files to /kaggle/temp/, but they won't be saved outside of the current session"
   ]
  },
  {
   "cell_type": "code",
   "execution_count": 2,
   "id": "cbb60740",
   "metadata": {
    "execution": {
     "iopub.execute_input": "2023-04-10T13:42:05.116336Z",
     "iopub.status.busy": "2023-04-10T13:42:05.116077Z",
     "iopub.status.idle": "2023-04-10T13:42:59.204856Z",
     "shell.execute_reply": "2023-04-10T13:42:59.203794Z"
    },
    "papermill": {
     "duration": 54.102982,
     "end_time": "2023-04-10T13:42:59.212715",
     "exception": false,
     "start_time": "2023-04-10T13:42:05.109733",
     "status": "completed"
    },
    "tags": []
   },
   "outputs": [
    {
     "data": {
      "text/html": [
       "<div>\n",
       "<style scoped>\n",
       "    .dataframe tbody tr th:only-of-type {\n",
       "        vertical-align: middle;\n",
       "    }\n",
       "\n",
       "    .dataframe tbody tr th {\n",
       "        vertical-align: top;\n",
       "    }\n",
       "\n",
       "    .dataframe thead th {\n",
       "        text-align: right;\n",
       "    }\n",
       "</style>\n",
       "<table border=\"1\" class=\"dataframe\">\n",
       "  <thead>\n",
       "    <tr style=\"text-align: right;\">\n",
       "      <th></th>\n",
       "      <th>Id</th>\n",
       "      <th>Title</th>\n",
       "      <th>Price</th>\n",
       "      <th>User_id</th>\n",
       "      <th>profileName</th>\n",
       "      <th>review/helpfulness</th>\n",
       "      <th>review/score</th>\n",
       "      <th>review/time</th>\n",
       "      <th>review/summary</th>\n",
       "      <th>review/text</th>\n",
       "    </tr>\n",
       "  </thead>\n",
       "  <tbody>\n",
       "    <tr>\n",
       "      <th>0</th>\n",
       "      <td>1882931173</td>\n",
       "      <td>Its Only Art If Its Well Hung!</td>\n",
       "      <td>NaN</td>\n",
       "      <td>AVCGYZL8FQQTD</td>\n",
       "      <td>Jim of Oz \"jim-of-oz\"</td>\n",
       "      <td>7/7</td>\n",
       "      <td>4.0</td>\n",
       "      <td>940636800</td>\n",
       "      <td>Nice collection of Julie Strain images</td>\n",
       "      <td>This is only for Julie Strain fans. It's a col...</td>\n",
       "    </tr>\n",
       "    <tr>\n",
       "      <th>1</th>\n",
       "      <td>0826414346</td>\n",
       "      <td>Dr. Seuss: American Icon</td>\n",
       "      <td>NaN</td>\n",
       "      <td>A30TK6U7DNS82R</td>\n",
       "      <td>Kevin Killian</td>\n",
       "      <td>10/10</td>\n",
       "      <td>5.0</td>\n",
       "      <td>1095724800</td>\n",
       "      <td>Really Enjoyed It</td>\n",
       "      <td>I don't care much for Dr. Seuss but after read...</td>\n",
       "    </tr>\n",
       "    <tr>\n",
       "      <th>2</th>\n",
       "      <td>0826414346</td>\n",
       "      <td>Dr. Seuss: American Icon</td>\n",
       "      <td>NaN</td>\n",
       "      <td>A3UH4UZ4RSVO82</td>\n",
       "      <td>John Granger</td>\n",
       "      <td>10/11</td>\n",
       "      <td>5.0</td>\n",
       "      <td>1078790400</td>\n",
       "      <td>Essential for every personal and Public Library</td>\n",
       "      <td>If people become the books they read and if \"t...</td>\n",
       "    </tr>\n",
       "    <tr>\n",
       "      <th>3</th>\n",
       "      <td>0826414346</td>\n",
       "      <td>Dr. Seuss: American Icon</td>\n",
       "      <td>NaN</td>\n",
       "      <td>A2MVUWT453QH61</td>\n",
       "      <td>Roy E. Perry \"amateur philosopher\"</td>\n",
       "      <td>7/7</td>\n",
       "      <td>4.0</td>\n",
       "      <td>1090713600</td>\n",
       "      <td>Phlip Nel gives silly Seuss a serious treatment</td>\n",
       "      <td>Theodore Seuss Geisel (1904-1991), aka &amp;quot;D...</td>\n",
       "    </tr>\n",
       "    <tr>\n",
       "      <th>4</th>\n",
       "      <td>0826414346</td>\n",
       "      <td>Dr. Seuss: American Icon</td>\n",
       "      <td>NaN</td>\n",
       "      <td>A22X4XUPKF66MR</td>\n",
       "      <td>D. H. Richards \"ninthwavestore\"</td>\n",
       "      <td>3/3</td>\n",
       "      <td>4.0</td>\n",
       "      <td>1107993600</td>\n",
       "      <td>Good academic overview</td>\n",
       "      <td>Philip Nel - Dr. Seuss: American IconThis is b...</td>\n",
       "    </tr>\n",
       "  </tbody>\n",
       "</table>\n",
       "</div>"
      ],
      "text/plain": [
       "           Id                           Title  Price         User_id  \\\n",
       "0  1882931173  Its Only Art If Its Well Hung!    NaN   AVCGYZL8FQQTD   \n",
       "1  0826414346        Dr. Seuss: American Icon    NaN  A30TK6U7DNS82R   \n",
       "2  0826414346        Dr. Seuss: American Icon    NaN  A3UH4UZ4RSVO82   \n",
       "3  0826414346        Dr. Seuss: American Icon    NaN  A2MVUWT453QH61   \n",
       "4  0826414346        Dr. Seuss: American Icon    NaN  A22X4XUPKF66MR   \n",
       "\n",
       "                          profileName review/helpfulness  review/score  \\\n",
       "0               Jim of Oz \"jim-of-oz\"                7/7           4.0   \n",
       "1                       Kevin Killian              10/10           5.0   \n",
       "2                        John Granger              10/11           5.0   \n",
       "3  Roy E. Perry \"amateur philosopher\"                7/7           4.0   \n",
       "4     D. H. Richards \"ninthwavestore\"                3/3           4.0   \n",
       "\n",
       "   review/time                                   review/summary  \\\n",
       "0    940636800           Nice collection of Julie Strain images   \n",
       "1   1095724800                                Really Enjoyed It   \n",
       "2   1078790400  Essential for every personal and Public Library   \n",
       "3   1090713600  Phlip Nel gives silly Seuss a serious treatment   \n",
       "4   1107993600                           Good academic overview   \n",
       "\n",
       "                                         review/text  \n",
       "0  This is only for Julie Strain fans. It's a col...  \n",
       "1  I don't care much for Dr. Seuss but after read...  \n",
       "2  If people become the books they read and if \"t...  \n",
       "3  Theodore Seuss Geisel (1904-1991), aka &quot;D...  \n",
       "4  Philip Nel - Dr. Seuss: American IconThis is b...  "
      ]
     },
     "execution_count": 2,
     "metadata": {},
     "output_type": "execute_result"
    }
   ],
   "source": [
    "ratings_df = pd.read_csv('/kaggle/input/amazon-books-reviews/Books_rating.csv')\n",
    "ratings_df.head()"
   ]
  },
  {
   "cell_type": "code",
   "execution_count": 3,
   "id": "87c76502",
   "metadata": {
    "execution": {
     "iopub.execute_input": "2023-04-10T13:42:59.226273Z",
     "iopub.status.busy": "2023-04-10T13:42:59.225303Z",
     "iopub.status.idle": "2023-04-10T13:42:59.427835Z",
     "shell.execute_reply": "2023-04-10T13:42:59.422757Z"
    },
    "papermill": {
     "duration": 0.213214,
     "end_time": "2023-04-10T13:42:59.431770",
     "exception": false,
     "start_time": "2023-04-10T13:42:59.218556",
     "status": "completed"
    },
    "tags": []
   },
   "outputs": [
    {
     "data": {
      "text/html": [
       "<div>\n",
       "<style scoped>\n",
       "    .dataframe tbody tr th:only-of-type {\n",
       "        vertical-align: middle;\n",
       "    }\n",
       "\n",
       "    .dataframe tbody tr th {\n",
       "        vertical-align: top;\n",
       "    }\n",
       "\n",
       "    .dataframe thead th {\n",
       "        text-align: right;\n",
       "    }\n",
       "</style>\n",
       "<table border=\"1\" class=\"dataframe\">\n",
       "  <thead>\n",
       "    <tr style=\"text-align: right;\">\n",
       "      <th></th>\n",
       "      <th>Id</th>\n",
       "      <th>User_id</th>\n",
       "      <th>review/text</th>\n",
       "      <th>Title</th>\n",
       "      <th>review/score</th>\n",
       "    </tr>\n",
       "  </thead>\n",
       "  <tbody>\n",
       "    <tr>\n",
       "      <th>0</th>\n",
       "      <td>1882931173</td>\n",
       "      <td>AVCGYZL8FQQTD</td>\n",
       "      <td>This is only for Julie Strain fans. It's a col...</td>\n",
       "      <td>Its Only Art If Its Well Hung!</td>\n",
       "      <td>4.0</td>\n",
       "    </tr>\n",
       "  </tbody>\n",
       "</table>\n",
       "</div>"
      ],
      "text/plain": [
       "           Id        User_id  \\\n",
       "0  1882931173  AVCGYZL8FQQTD   \n",
       "\n",
       "                                         review/text  \\\n",
       "0  This is only for Julie Strain fans. It's a col...   \n",
       "\n",
       "                            Title  review/score  \n",
       "0  Its Only Art If Its Well Hung!           4.0  "
      ]
     },
     "execution_count": 3,
     "metadata": {},
     "output_type": "execute_result"
    }
   ],
   "source": [
    "ratings_df = ratings_df[['Id','User_id','review/text','Title','review/score']]\n",
    "ratings_df.head(1)"
   ]
  },
  {
   "cell_type": "code",
   "execution_count": 4,
   "id": "dcfcf549",
   "metadata": {
    "execution": {
     "iopub.execute_input": "2023-04-10T13:42:59.463382Z",
     "iopub.status.busy": "2023-04-10T13:42:59.461379Z",
     "iopub.status.idle": "2023-04-10T13:42:59.473653Z",
     "shell.execute_reply": "2023-04-10T13:42:59.472681Z"
    },
    "papermill": {
     "duration": 0.033637,
     "end_time": "2023-04-10T13:42:59.477012",
     "exception": false,
     "start_time": "2023-04-10T13:42:59.443375",
     "status": "completed"
    },
    "tags": []
   },
   "outputs": [],
   "source": [
    "ratings_df.rename(columns={'Id':'book_id','User_id':'user_id','review/text':'review','Title':'title','review/score':'rating'},inplace=True)"
   ]
  },
  {
   "cell_type": "code",
   "execution_count": 5,
   "id": "00007f2a",
   "metadata": {
    "execution": {
     "iopub.execute_input": "2023-04-10T13:42:59.505599Z",
     "iopub.status.busy": "2023-04-10T13:42:59.505192Z",
     "iopub.status.idle": "2023-04-10T13:43:02.926589Z",
     "shell.execute_reply": "2023-04-10T13:43:02.925569Z"
    },
    "papermill": {
     "duration": 3.441533,
     "end_time": "2023-04-10T13:43:02.928733",
     "exception": false,
     "start_time": "2023-04-10T13:42:59.487200",
     "status": "completed"
    },
    "tags": []
   },
   "outputs": [
    {
     "data": {
      "text/html": [
       "<div>\n",
       "<style scoped>\n",
       "    .dataframe tbody tr th:only-of-type {\n",
       "        vertical-align: middle;\n",
       "    }\n",
       "\n",
       "    .dataframe tbody tr th {\n",
       "        vertical-align: top;\n",
       "    }\n",
       "\n",
       "    .dataframe thead th {\n",
       "        text-align: right;\n",
       "    }\n",
       "</style>\n",
       "<table border=\"1\" class=\"dataframe\">\n",
       "  <thead>\n",
       "    <tr style=\"text-align: right;\">\n",
       "      <th></th>\n",
       "      <th>book_id</th>\n",
       "      <th>user_id</th>\n",
       "      <th>review</th>\n",
       "      <th>title</th>\n",
       "      <th>rating</th>\n",
       "    </tr>\n",
       "  </thead>\n",
       "  <tbody>\n",
       "    <tr>\n",
       "      <th>1747</th>\n",
       "      <td>B000N6DDJQ</td>\n",
       "      <td>AUM3YMZ0YRJE0</td>\n",
       "      <td>WHen I finally started reading this classic, I...</td>\n",
       "      <td>The Scarlet Letter A Romance</td>\n",
       "      <td>5.0</td>\n",
       "    </tr>\n",
       "    <tr>\n",
       "      <th>1807</th>\n",
       "      <td>B000N6DDJQ</td>\n",
       "      <td>AMKZHBOK7VMQR</td>\n",
       "      <td>Hawthorne wrote a masterful work of historical...</td>\n",
       "      <td>The Scarlet Letter A Romance</td>\n",
       "      <td>5.0</td>\n",
       "    </tr>\n",
       "    <tr>\n",
       "      <th>1820</th>\n",
       "      <td>B000N6DDJQ</td>\n",
       "      <td>AWLFVCT9128JV</td>\n",
       "      <td>I don't suppose anything can ruin a book more ...</td>\n",
       "      <td>The Scarlet Letter A Romance</td>\n",
       "      <td>4.0</td>\n",
       "    </tr>\n",
       "    <tr>\n",
       "      <th>1829</th>\n",
       "      <td>B000N6DDJQ</td>\n",
       "      <td>ABN5K7K1TM1QA</td>\n",
       "      <td>\"All have sinned and fall short of the glory o...</td>\n",
       "      <td>The Scarlet Letter A Romance</td>\n",
       "      <td>5.0</td>\n",
       "    </tr>\n",
       "    <tr>\n",
       "      <th>1830</th>\n",
       "      <td>B000N6DDJQ</td>\n",
       "      <td>A3IKBHODOTYYHM</td>\n",
       "      <td>I think the many readers who were forced to pa...</td>\n",
       "      <td>The Scarlet Letter A Romance</td>\n",
       "      <td>4.0</td>\n",
       "    </tr>\n",
       "  </tbody>\n",
       "</table>\n",
       "</div>"
      ],
      "text/plain": [
       "         book_id         user_id  \\\n",
       "1747  B000N6DDJQ   AUM3YMZ0YRJE0   \n",
       "1807  B000N6DDJQ   AMKZHBOK7VMQR   \n",
       "1820  B000N6DDJQ   AWLFVCT9128JV   \n",
       "1829  B000N6DDJQ   ABN5K7K1TM1QA   \n",
       "1830  B000N6DDJQ  A3IKBHODOTYYHM   \n",
       "\n",
       "                                                 review  \\\n",
       "1747  WHen I finally started reading this classic, I...   \n",
       "1807  Hawthorne wrote a masterful work of historical...   \n",
       "1820  I don't suppose anything can ruin a book more ...   \n",
       "1829  \"All have sinned and fall short of the glory o...   \n",
       "1830  I think the many readers who were forced to pa...   \n",
       "\n",
       "                             title  rating  \n",
       "1747  The Scarlet Letter A Romance     5.0  \n",
       "1807  The Scarlet Letter A Romance     5.0  \n",
       "1820  The Scarlet Letter A Romance     4.0  \n",
       "1829  The Scarlet Letter A Romance     5.0  \n",
       "1830  The Scarlet Letter A Romance     4.0  "
      ]
     },
     "execution_count": 5,
     "metadata": {},
     "output_type": "execute_result"
    }
   ],
   "source": [
    "x = ratings_df.groupby('user_id').count()['review'] > 200\n",
    "considerable_users = x[x].index\n",
    "filtered_rating = ratings_df[ratings_df['user_id'].isin(considerable_users)]\n",
    "\n",
    "y = filtered_rating.groupby('title').count()['review']>=50\n",
    "famous_books = y[y].index\n",
    "df = filtered_rating[filtered_rating['title'].isin(famous_books)]\n",
    "\n",
    "df.head()"
   ]
  },
  {
   "cell_type": "code",
   "execution_count": 6,
   "id": "30f76532",
   "metadata": {
    "execution": {
     "iopub.execute_input": "2023-04-10T13:43:02.942219Z",
     "iopub.status.busy": "2023-04-10T13:43:02.941931Z",
     "iopub.status.idle": "2023-04-10T13:43:02.947917Z",
     "shell.execute_reply": "2023-04-10T13:43:02.946863Z"
    },
    "papermill": {
     "duration": 0.015404,
     "end_time": "2023-04-10T13:43:02.950347",
     "exception": false,
     "start_time": "2023-04-10T13:43:02.934943",
     "status": "completed"
    },
    "tags": []
   },
   "outputs": [],
   "source": [
    "df = df.reset_index()"
   ]
  },
  {
   "cell_type": "code",
   "execution_count": 7,
   "id": "194b0610",
   "metadata": {
    "execution": {
     "iopub.execute_input": "2023-04-10T13:43:02.963333Z",
     "iopub.status.busy": "2023-04-10T13:43:02.963067Z",
     "iopub.status.idle": "2023-04-10T13:43:02.969140Z",
     "shell.execute_reply": "2023-04-10T13:43:02.968156Z"
    },
    "papermill": {
     "duration": 0.014986,
     "end_time": "2023-04-10T13:43:02.971226",
     "exception": false,
     "start_time": "2023-04-10T13:43:02.956240",
     "status": "completed"
    },
    "tags": []
   },
   "outputs": [
    {
     "data": {
      "text/plain": [
       "(17115, 6)"
      ]
     },
     "execution_count": 7,
     "metadata": {},
     "output_type": "execute_result"
    }
   ],
   "source": [
    "df.shape"
   ]
  },
  {
   "cell_type": "code",
   "execution_count": 8,
   "id": "a3f2e00f",
   "metadata": {
    "execution": {
     "iopub.execute_input": "2023-04-10T13:43:02.985184Z",
     "iopub.status.busy": "2023-04-10T13:43:02.984917Z",
     "iopub.status.idle": "2023-04-10T13:43:04.301930Z",
     "shell.execute_reply": "2023-04-10T13:43:04.299399Z"
    },
    "papermill": {
     "duration": 1.327457,
     "end_time": "2023-04-10T13:43:04.304649",
     "exception": false,
     "start_time": "2023-04-10T13:43:02.977192",
     "status": "completed"
    },
    "tags": []
   },
   "outputs": [
    {
     "name": "stderr",
     "output_type": "stream",
     "text": [
      "/opt/conda/lib/python3.7/site-packages/nltk/twitter/__init__.py:20: UserWarning: The twython library has not been installed. Some functionality from the twitter package will not be available.\n",
      "  warnings.warn(\"The twython library has not been installed. \"\n"
     ]
    }
   ],
   "source": [
    "from surprise import Dataset, Reader\n",
    "from surprise import KNNWithMeans\n",
    "from surprise.model_selection import train_test_split\n",
    "from surprise import accuracy\n",
    "from nltk.sentiment import SentimentIntensityAnalyzer"
   ]
  },
  {
   "cell_type": "code",
   "execution_count": 9,
   "id": "dcde2643",
   "metadata": {
    "execution": {
     "iopub.execute_input": "2023-04-10T13:43:04.319515Z",
     "iopub.status.busy": "2023-04-10T13:43:04.319209Z",
     "iopub.status.idle": "2023-04-10T13:44:17.512265Z",
     "shell.execute_reply": "2023-04-10T13:44:17.511178Z"
    },
    "papermill": {
     "duration": 73.203535,
     "end_time": "2023-04-10T13:44:17.514854",
     "exception": false,
     "start_time": "2023-04-10T13:43:04.311319",
     "status": "completed"
    },
    "tags": []
   },
   "outputs": [],
   "source": [
    "# Calculate sentiment scores for each review\n",
    "sia = SentimentIntensityAnalyzer()\n",
    "df['sentiment'] = df['review'].apply(lambda x: sia.polarity_scores(x)['compound'])"
   ]
  },
  {
   "cell_type": "code",
   "execution_count": 10,
   "id": "2af1466c",
   "metadata": {
    "execution": {
     "iopub.execute_input": "2023-04-10T13:44:17.529293Z",
     "iopub.status.busy": "2023-04-10T13:44:17.528629Z",
     "iopub.status.idle": "2023-04-10T13:44:17.535602Z",
     "shell.execute_reply": "2023-04-10T13:44:17.534716Z"
    },
    "papermill": {
     "duration": 0.016355,
     "end_time": "2023-04-10T13:44:17.537710",
     "exception": false,
     "start_time": "2023-04-10T13:44:17.521355",
     "status": "completed"
    },
    "tags": []
   },
   "outputs": [],
   "source": [
    "# Normalize the sentiment scores to be between 0 and 1\n",
    "df['sentiment'] = (df['sentiment'] - df['sentiment'].min()) / (df['sentiment'].max() - df['sentiment'].min())"
   ]
  },
  {
   "cell_type": "code",
   "execution_count": 11,
   "id": "99d9d6d2",
   "metadata": {
    "execution": {
     "iopub.execute_input": "2023-04-10T13:44:17.551215Z",
     "iopub.status.busy": "2023-04-10T13:44:17.550946Z",
     "iopub.status.idle": "2023-04-10T13:44:17.564491Z",
     "shell.execute_reply": "2023-04-10T13:44:17.563620Z"
    },
    "papermill": {
     "duration": 0.022779,
     "end_time": "2023-04-10T13:44:17.566638",
     "exception": false,
     "start_time": "2023-04-10T13:44:17.543859",
     "status": "completed"
    },
    "tags": []
   },
   "outputs": [],
   "source": [
    "df = df.loc[~((df.rating.isin([1,2])) & (df['sentiment'] > 0.6))]\n",
    "df = df.loc[~((df.rating.isin([4,5])) & (df['sentiment'] < 0.6))]"
   ]
  },
  {
   "cell_type": "code",
   "execution_count": 12,
   "id": "c3edf243",
   "metadata": {
    "execution": {
     "iopub.execute_input": "2023-04-10T13:44:17.580089Z",
     "iopub.status.busy": "2023-04-10T13:44:17.579781Z",
     "iopub.status.idle": "2023-04-10T13:44:17.585817Z",
     "shell.execute_reply": "2023-04-10T13:44:17.584867Z"
    },
    "papermill": {
     "duration": 0.015088,
     "end_time": "2023-04-10T13:44:17.587753",
     "exception": false,
     "start_time": "2023-04-10T13:44:17.572665",
     "status": "completed"
    },
    "tags": []
   },
   "outputs": [
    {
     "data": {
      "text/plain": [
       "(13824, 7)"
      ]
     },
     "execution_count": 12,
     "metadata": {},
     "output_type": "execute_result"
    }
   ],
   "source": [
    "df.shape"
   ]
  },
  {
   "cell_type": "code",
   "execution_count": 13,
   "id": "9c00ec49",
   "metadata": {
    "execution": {
     "iopub.execute_input": "2023-04-10T13:44:17.601832Z",
     "iopub.status.busy": "2023-04-10T13:44:17.601022Z",
     "iopub.status.idle": "2023-04-10T13:44:17.606647Z",
     "shell.execute_reply": "2023-04-10T13:44:17.605724Z"
    },
    "papermill": {
     "duration": 0.014649,
     "end_time": "2023-04-10T13:44:17.608659",
     "exception": false,
     "start_time": "2023-04-10T13:44:17.594010",
     "status": "completed"
    },
    "tags": []
   },
   "outputs": [],
   "source": [
    "# Combine the rating and sentiment scores into a single score\n",
    "df['hybrid_score'] = df['rating'] * df['sentiment']"
   ]
  },
  {
   "cell_type": "code",
   "execution_count": 14,
   "id": "1c966b74",
   "metadata": {
    "execution": {
     "iopub.execute_input": "2023-04-10T13:44:17.622904Z",
     "iopub.status.busy": "2023-04-10T13:44:17.622127Z",
     "iopub.status.idle": "2023-04-10T13:44:17.635380Z",
     "shell.execute_reply": "2023-04-10T13:44:17.634246Z"
    },
    "papermill": {
     "duration": 0.022303,
     "end_time": "2023-04-10T13:44:17.637434",
     "exception": false,
     "start_time": "2023-04-10T13:44:17.615131",
     "status": "completed"
    },
    "tags": []
   },
   "outputs": [
    {
     "data": {
      "text/html": [
       "<div>\n",
       "<style scoped>\n",
       "    .dataframe tbody tr th:only-of-type {\n",
       "        vertical-align: middle;\n",
       "    }\n",
       "\n",
       "    .dataframe tbody tr th {\n",
       "        vertical-align: top;\n",
       "    }\n",
       "\n",
       "    .dataframe thead th {\n",
       "        text-align: right;\n",
       "    }\n",
       "</style>\n",
       "<table border=\"1\" class=\"dataframe\">\n",
       "  <thead>\n",
       "    <tr style=\"text-align: right;\">\n",
       "      <th></th>\n",
       "      <th>index</th>\n",
       "      <th>book_id</th>\n",
       "      <th>user_id</th>\n",
       "      <th>review</th>\n",
       "      <th>title</th>\n",
       "      <th>rating</th>\n",
       "      <th>sentiment</th>\n",
       "      <th>hybrid_score</th>\n",
       "    </tr>\n",
       "  </thead>\n",
       "  <tbody>\n",
       "    <tr>\n",
       "      <th>0</th>\n",
       "      <td>1747</td>\n",
       "      <td>B000N6DDJQ</td>\n",
       "      <td>AUM3YMZ0YRJE0</td>\n",
       "      <td>WHen I finally started reading this classic, I...</td>\n",
       "      <td>The Scarlet Letter A Romance</td>\n",
       "      <td>5.0</td>\n",
       "      <td>0.986494</td>\n",
       "      <td>4.932470</td>\n",
       "    </tr>\n",
       "    <tr>\n",
       "      <th>1</th>\n",
       "      <td>1807</td>\n",
       "      <td>B000N6DDJQ</td>\n",
       "      <td>AMKZHBOK7VMQR</td>\n",
       "      <td>Hawthorne wrote a masterful work of historical...</td>\n",
       "      <td>The Scarlet Letter A Romance</td>\n",
       "      <td>5.0</td>\n",
       "      <td>0.923916</td>\n",
       "      <td>4.619579</td>\n",
       "    </tr>\n",
       "    <tr>\n",
       "      <th>2</th>\n",
       "      <td>1820</td>\n",
       "      <td>B000N6DDJQ</td>\n",
       "      <td>AWLFVCT9128JV</td>\n",
       "      <td>I don't suppose anything can ruin a book more ...</td>\n",
       "      <td>The Scarlet Letter A Romance</td>\n",
       "      <td>4.0</td>\n",
       "      <td>0.960382</td>\n",
       "      <td>3.841529</td>\n",
       "    </tr>\n",
       "    <tr>\n",
       "      <th>3</th>\n",
       "      <td>1829</td>\n",
       "      <td>B000N6DDJQ</td>\n",
       "      <td>ABN5K7K1TM1QA</td>\n",
       "      <td>\"All have sinned and fall short of the glory o...</td>\n",
       "      <td>The Scarlet Letter A Romance</td>\n",
       "      <td>5.0</td>\n",
       "      <td>0.999200</td>\n",
       "      <td>4.995998</td>\n",
       "    </tr>\n",
       "    <tr>\n",
       "      <th>5</th>\n",
       "      <td>1833</td>\n",
       "      <td>B000N6DDJQ</td>\n",
       "      <td>A3KF4IP2MUS8QQ</td>\n",
       "      <td>The Scarlet Letter is truly one of literature'...</td>\n",
       "      <td>The Scarlet Letter A Romance</td>\n",
       "      <td>5.0</td>\n",
       "      <td>0.810215</td>\n",
       "      <td>4.051073</td>\n",
       "    </tr>\n",
       "  </tbody>\n",
       "</table>\n",
       "</div>"
      ],
      "text/plain": [
       "   index     book_id         user_id  \\\n",
       "0   1747  B000N6DDJQ   AUM3YMZ0YRJE0   \n",
       "1   1807  B000N6DDJQ   AMKZHBOK7VMQR   \n",
       "2   1820  B000N6DDJQ   AWLFVCT9128JV   \n",
       "3   1829  B000N6DDJQ   ABN5K7K1TM1QA   \n",
       "5   1833  B000N6DDJQ  A3KF4IP2MUS8QQ   \n",
       "\n",
       "                                              review  \\\n",
       "0  WHen I finally started reading this classic, I...   \n",
       "1  Hawthorne wrote a masterful work of historical...   \n",
       "2  I don't suppose anything can ruin a book more ...   \n",
       "3  \"All have sinned and fall short of the glory o...   \n",
       "5  The Scarlet Letter is truly one of literature'...   \n",
       "\n",
       "                          title  rating  sentiment  hybrid_score  \n",
       "0  The Scarlet Letter A Romance     5.0   0.986494      4.932470  \n",
       "1  The Scarlet Letter A Romance     5.0   0.923916      4.619579  \n",
       "2  The Scarlet Letter A Romance     4.0   0.960382      3.841529  \n",
       "3  The Scarlet Letter A Romance     5.0   0.999200      4.995998  \n",
       "5  The Scarlet Letter A Romance     5.0   0.810215      4.051073  "
      ]
     },
     "execution_count": 14,
     "metadata": {},
     "output_type": "execute_result"
    }
   ],
   "source": [
    "df.head()"
   ]
  },
  {
   "cell_type": "code",
   "execution_count": 15,
   "id": "034058a3",
   "metadata": {
    "execution": {
     "iopub.execute_input": "2023-04-10T13:44:17.651988Z",
     "iopub.status.busy": "2023-04-10T13:44:17.651230Z",
     "iopub.status.idle": "2023-04-10T13:44:17.655697Z",
     "shell.execute_reply": "2023-04-10T13:44:17.654844Z"
    },
    "papermill": {
     "duration": 0.01374,
     "end_time": "2023-04-10T13:44:17.657592",
     "exception": false,
     "start_time": "2023-04-10T13:44:17.643852",
     "status": "completed"
    },
    "tags": []
   },
   "outputs": [],
   "source": [
    "from collections import defaultdict"
   ]
  },
  {
   "cell_type": "code",
   "execution_count": 16,
   "id": "7261889a",
   "metadata": {
    "execution": {
     "iopub.execute_input": "2023-04-10T13:44:17.671959Z",
     "iopub.status.busy": "2023-04-10T13:44:17.671191Z",
     "iopub.status.idle": "2023-04-10T13:44:17.679984Z",
     "shell.execute_reply": "2023-04-10T13:44:17.679092Z"
    },
    "papermill": {
     "duration": 0.01795,
     "end_time": "2023-04-10T13:44:17.682036",
     "exception": false,
     "start_time": "2023-04-10T13:44:17.664086",
     "status": "completed"
    },
    "tags": []
   },
   "outputs": [],
   "source": [
    "def precision_recall_at_k(predictions, k=10, threshold=3):\n",
    "    \"\"\"Return precision and recall at k metrics for each user\"\"\"\n",
    "\n",
    "    # First map the predictions to each user.\n",
    "    user_est_true = defaultdict(list)\n",
    "    for uid, _, true_r, est, _ in predictions:\n",
    "        user_est_true[uid].append((est, true_r))\n",
    "\n",
    "    precisions = dict()\n",
    "    recalls = dict()\n",
    "    for uid, user_ratings in user_est_true.items():\n",
    "\n",
    "        # Sort user ratings by estimated value\n",
    "        user_ratings.sort(key=lambda x: x[0], reverse=True)\n",
    "\n",
    "        # Number of relevant items\n",
    "        n_rel = sum((true_r >= threshold) for (_, true_r) in user_ratings)\n",
    "\n",
    "        # Number of recommended items in top k\n",
    "        n_rec_k = sum((est >= threshold) for (est, _) in user_ratings[:k])\n",
    "\n",
    "        # Number of relevant and recommended items in top k\n",
    "        n_rel_and_rec_k = sum(\n",
    "            ((true_r >= threshold) and (est >= threshold))\n",
    "            for (est, true_r) in user_ratings[:k]\n",
    "        )\n",
    "\n",
    "        # Precision@K: Proportion of recommended items that are relevant\n",
    "        # When n_rec_k is 0, Precision is undefined. We here set it to 0.\n",
    "\n",
    "        precisions[uid] = n_rel_and_rec_k / n_rec_k if n_rec_k != 0 else 0\n",
    "\n",
    "        # Recall@K: Proportion of relevant items that are recommended\n",
    "        # When n_rel is 0, Recall is undefined. We here set it to 0.\n",
    "\n",
    "        recalls[uid] = n_rel_and_rec_k / n_rel if n_rel != 0 else 0\n",
    "\n",
    "    return precisions, recalls"
   ]
  },
  {
   "cell_type": "code",
   "execution_count": 17,
   "id": "5181bc76",
   "metadata": {
    "execution": {
     "iopub.execute_input": "2023-04-10T13:44:17.696259Z",
     "iopub.status.busy": "2023-04-10T13:44:17.695483Z",
     "iopub.status.idle": "2023-04-10T13:44:17.700116Z",
     "shell.execute_reply": "2023-04-10T13:44:17.699252Z"
    },
    "papermill": {
     "duration": 0.013606,
     "end_time": "2023-04-10T13:44:17.702005",
     "exception": false,
     "start_time": "2023-04-10T13:44:17.688399",
     "status": "completed"
    },
    "tags": []
   },
   "outputs": [],
   "source": [
    "# load data from a file\n",
    "reader = Reader(line_format='user item rating', sep=',')"
   ]
  },
  {
   "cell_type": "code",
   "execution_count": 18,
   "id": "56c82877",
   "metadata": {
    "execution": {
     "iopub.execute_input": "2023-04-10T13:44:17.716241Z",
     "iopub.status.busy": "2023-04-10T13:44:17.715475Z",
     "iopub.status.idle": "2023-04-10T13:44:17.735315Z",
     "shell.execute_reply": "2023-04-10T13:44:17.734424Z"
    },
    "papermill": {
     "duration": 0.02902,
     "end_time": "2023-04-10T13:44:17.737425",
     "exception": false,
     "start_time": "2023-04-10T13:44:17.708405",
     "status": "completed"
    },
    "tags": []
   },
   "outputs": [],
   "source": [
    "data = Dataset.load_from_df(df[['user_id', 'book_id', 'hybrid_score']], reader=reader)"
   ]
  },
  {
   "cell_type": "code",
   "execution_count": 19,
   "id": "c3292148",
   "metadata": {
    "execution": {
     "iopub.execute_input": "2023-04-10T13:44:17.751911Z",
     "iopub.status.busy": "2023-04-10T13:44:17.751120Z",
     "iopub.status.idle": "2023-04-10T13:44:17.768827Z",
     "shell.execute_reply": "2023-04-10T13:44:17.767955Z"
    },
    "papermill": {
     "duration": 0.027246,
     "end_time": "2023-04-10T13:44:17.770993",
     "exception": false,
     "start_time": "2023-04-10T13:44:17.743747",
     "status": "completed"
    },
    "tags": []
   },
   "outputs": [],
   "source": [
    "# Split the data into training and testing sets\n",
    "trainset, testset = train_test_split(data, test_size=.25)"
   ]
  },
  {
   "cell_type": "code",
   "execution_count": 20,
   "id": "ef266995",
   "metadata": {
    "execution": {
     "iopub.execute_input": "2023-04-10T13:44:17.784707Z",
     "iopub.status.busy": "2023-04-10T13:44:17.784436Z",
     "iopub.status.idle": "2023-04-10T13:44:17.790720Z",
     "shell.execute_reply": "2023-04-10T13:44:17.789783Z"
    },
    "papermill": {
     "duration": 0.015673,
     "end_time": "2023-04-10T13:44:17.792883",
     "exception": false,
     "start_time": "2023-04-10T13:44:17.777210",
     "status": "completed"
    },
    "tags": []
   },
   "outputs": [
    {
     "data": {
      "text/plain": [
       "[('AUM3YMZ0YRJE0', 'B000N6DDJQ', 4.9324696113250965, None),\n",
       " ('AMKZHBOK7VMQR', 'B000N6DDJQ', 4.619578810464709, None),\n",
       " ('AWLFVCT9128JV', 'B000N6DDJQ', 3.8415286879095594, None),\n",
       " ('ABN5K7K1TM1QA', 'B000N6DDJQ', 4.995998199189636, None),\n",
       " ('A3KF4IP2MUS8QQ', 'B000N6DDJQ', 4.051072982842279, None)]"
      ]
     },
     "execution_count": 20,
     "metadata": {},
     "output_type": "execute_result"
    }
   ],
   "source": [
    "raw_ratings = data.raw_ratings\n",
    "raw_ratings[:5]"
   ]
  },
  {
   "cell_type": "code",
   "execution_count": 21,
   "id": "fdf88515",
   "metadata": {
    "execution": {
     "iopub.execute_input": "2023-04-10T13:44:17.807692Z",
     "iopub.status.busy": "2023-04-10T13:44:17.806839Z",
     "iopub.status.idle": "2023-04-10T13:44:17.853001Z",
     "shell.execute_reply": "2023-04-10T13:44:17.851988Z"
    },
    "papermill": {
     "duration": 0.055724,
     "end_time": "2023-04-10T13:44:17.855112",
     "exception": false,
     "start_time": "2023-04-10T13:44:17.799388",
     "status": "completed"
    },
    "tags": []
   },
   "outputs": [
    {
     "name": "stdout",
     "output_type": "stream",
     "text": [
      "Estimating biases using als...\n",
      "Computing the pearson_baseline similarity matrix...\n",
      "Done computing similarity matrix.\n"
     ]
    },
    {
     "data": {
      "text/plain": [
       "<surprise.prediction_algorithms.knns.KNNWithMeans at 0x76d946b9c690>"
      ]
     },
     "execution_count": 21,
     "metadata": {},
     "output_type": "execute_result"
    }
   ],
   "source": [
    "# Train a KNNWithMeans model on the combined score\n",
    "model = KNNWithMeans(k=50, sim_options={'name': 'pearson_baseline', 'user_based': True})\n",
    "model.fit(trainset)"
   ]
  },
  {
   "cell_type": "code",
   "execution_count": 22,
   "id": "b4c62b08",
   "metadata": {
    "execution": {
     "iopub.execute_input": "2023-04-10T13:44:17.869279Z",
     "iopub.status.busy": "2023-04-10T13:44:17.869012Z",
     "iopub.status.idle": "2023-04-10T13:44:18.000263Z",
     "shell.execute_reply": "2023-04-10T13:44:17.998872Z"
    },
    "papermill": {
     "duration": 0.140982,
     "end_time": "2023-04-10T13:44:18.002565",
     "exception": false,
     "start_time": "2023-04-10T13:44:17.861583",
     "status": "completed"
    },
    "tags": []
   },
   "outputs": [
    {
     "name": "stdout",
     "output_type": "stream",
     "text": [
      "RMSE: 0.6296\n"
     ]
    }
   ],
   "source": [
    "# Evaluate the model on the test set\n",
    "from surprise import accuracy\n",
    "predictions = model.test(testset)\n",
    "rmse = accuracy.rmse(predictions)"
   ]
  },
  {
   "cell_type": "code",
   "execution_count": 23,
   "id": "7ee3615b",
   "metadata": {
    "execution": {
     "iopub.execute_input": "2023-04-10T13:44:18.018431Z",
     "iopub.status.busy": "2023-04-10T13:44:18.017590Z",
     "iopub.status.idle": "2023-04-10T13:44:18.024456Z",
     "shell.execute_reply": "2023-04-10T13:44:18.023364Z"
    },
    "papermill": {
     "duration": 0.01716,
     "end_time": "2023-04-10T13:44:18.027101",
     "exception": false,
     "start_time": "2023-04-10T13:44:18.009941",
     "status": "completed"
    },
    "tags": []
   },
   "outputs": [
    {
     "data": {
      "text/plain": [
       "[Prediction(uid='A3DF7LMEQOND63', iid='B000BUZWWK', r_ui=4.98074133360012, est=4.757342782394012, details={'actual_k': 9, 'was_impossible': False}),\n",
       " Prediction(uid='A2ODBHT4URXVXQ', iid='B000HLFD4K', r_ui=4.26266820069031, est=3.63445353499924, details={'actual_k': 27, 'was_impossible': False}),\n",
       " Prediction(uid='AI37YX1U4KB1L', iid='0393097730', r_ui=0.6001200540243108, est=3.1726809935641365, details={'actual_k': 3, 'was_impossible': False}),\n",
       " Prediction(uid='AGG9C66TOLJZB', iid='0708982581', r_ui=4.989245160322145, est=5, details={'actual_k': 27, 'was_impossible': False}),\n",
       " Prediction(uid='A2I3D2NX4XKZYJ', iid='B000P91JYW', r_ui=4.538042118953529, est=3.5254117731734045, details={'actual_k': 13, 'was_impossible': False})]"
      ]
     },
     "execution_count": 23,
     "metadata": {},
     "output_type": "execute_result"
    }
   ],
   "source": [
    "predictions[:5]"
   ]
  },
  {
   "cell_type": "code",
   "execution_count": 24,
   "id": "5d51c290",
   "metadata": {
    "execution": {
     "iopub.execute_input": "2023-04-10T13:44:18.042020Z",
     "iopub.status.busy": "2023-04-10T13:44:18.041725Z",
     "iopub.status.idle": "2023-04-10T13:44:18.053945Z",
     "shell.execute_reply": "2023-04-10T13:44:18.052862Z"
    },
    "papermill": {
     "duration": 0.02254,
     "end_time": "2023-04-10T13:44:18.056430",
     "exception": false,
     "start_time": "2023-04-10T13:44:18.033890",
     "status": "completed"
    },
    "tags": []
   },
   "outputs": [],
   "source": [
    "precisions, recalls = precision_recall_at_k(predictions, k=5, threshold=2)"
   ]
  },
  {
   "cell_type": "code",
   "execution_count": 25,
   "id": "7386ae85",
   "metadata": {
    "execution": {
     "iopub.execute_input": "2023-04-10T13:44:18.071317Z",
     "iopub.status.busy": "2023-04-10T13:44:18.070547Z",
     "iopub.status.idle": "2023-04-10T13:44:18.076295Z",
     "shell.execute_reply": "2023-04-10T13:44:18.075291Z"
    },
    "papermill": {
     "duration": 0.015568,
     "end_time": "2023-04-10T13:44:18.078630",
     "exception": false,
     "start_time": "2023-04-10T13:44:18.063062",
     "status": "completed"
    },
    "tags": []
   },
   "outputs": [
    {
     "name": "stdout",
     "output_type": "stream",
     "text": [
      "0.9668532338308458\n",
      "0.6448747497554294\n"
     ]
    }
   ],
   "source": [
    "print(sum(prec for prec in precisions.values()) / len(precisions))\n",
    "print(sum(rec for rec in recalls.values()) / len(recalls))"
   ]
  },
  {
   "cell_type": "code",
   "execution_count": 26,
   "id": "021dc04e",
   "metadata": {
    "execution": {
     "iopub.execute_input": "2023-04-10T13:44:18.094271Z",
     "iopub.status.busy": "2023-04-10T13:44:18.093316Z",
     "iopub.status.idle": "2023-04-10T13:44:18.123739Z",
     "shell.execute_reply": "2023-04-10T13:44:18.122791Z"
    },
    "papermill": {
     "duration": 0.040526,
     "end_time": "2023-04-10T13:44:18.125940",
     "exception": false,
     "start_time": "2023-04-10T13:44:18.085414",
     "status": "completed"
    },
    "tags": []
   },
   "outputs": [
    {
     "name": "stdout",
     "output_type": "stream",
     "text": [
      "1. B000NVLWSU(Night) with predicted rating of 4.77\n",
      "2. B000JVH6OI(Twenty Thousand Leagues Under the Sea) with predicted rating of 4.14\n",
      "3. B000R4SOGG(Twenty Thousand Leagues Under the Sea) with predicted rating of 4.12\n",
      "4. B0008B52RC(Twenty thousand leagues under the sea) with predicted rating of 4.10\n",
      "5. B0007HKB6Y(Twenty thousand leagues under the sea) with predicted rating of 4.07\n"
     ]
    }
   ],
   "source": [
    "# Get the user ID for whom you want to make recommendations\n",
    "user_id = 'A1X8VZWTOG8IS6'\n",
    "\n",
    "# Get the list of all items (books) in the dataset\n",
    "items = df['book_id'].unique()\n",
    "\n",
    "# Predict the rating the user would give to each item and store in a dictionary\n",
    "item_ratings = {}\n",
    "for item in items:\n",
    "    predicted_rating = model.predict(user_id, item).est\n",
    "    item_ratings[item] = predicted_rating\n",
    "\n",
    "# Sort the items by predicted rating in descending order and select the top 5\n",
    "top_items = sorted(item_ratings.items(), key=lambda x: x[1], reverse=True)[:5]\n",
    "\n",
    "# Print the top 5 recommended books\n",
    "for i, item in enumerate(top_items):\n",
    "    print(f\"{i+1}. {item[0]}({df[df['book_id']==item[0]].iloc[0].title}) with predicted rating of {item[1]:.2f}\")"
   ]
  },
  {
   "cell_type": "code",
   "execution_count": null,
   "id": "84efd24d",
   "metadata": {
    "papermill": {
     "duration": 0.006846,
     "end_time": "2023-04-10T13:44:18.140310",
     "exception": false,
     "start_time": "2023-04-10T13:44:18.133464",
     "status": "completed"
    },
    "tags": []
   },
   "outputs": [],
   "source": []
  }
 ],
 "metadata": {
  "kernelspec": {
   "display_name": "Python 3",
   "language": "python",
   "name": "python3"
  },
  "language_info": {
   "codemirror_mode": {
    "name": "ipython",
    "version": 3
   },
   "file_extension": ".py",
   "mimetype": "text/x-python",
   "name": "python",
   "nbconvert_exporter": "python",
   "pygments_lexer": "ipython3",
   "version": "3.7.12"
  },
  "papermill": {
   "default_parameters": {},
   "duration": 143.560331,
   "end_time": "2023-04-10T13:44:19.469311",
   "environment_variables": {},
   "exception": null,
   "input_path": "__notebook__.ipynb",
   "output_path": "__notebook__.ipynb",
   "parameters": {},
   "start_time": "2023-04-10T13:41:55.908980",
   "version": "2.4.0"
  }
 },
 "nbformat": 4,
 "nbformat_minor": 5
}
